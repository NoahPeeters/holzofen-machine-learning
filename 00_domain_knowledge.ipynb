{
 "cells": [
  {
   "cell_type": "markdown",
   "source": [
    "# Vorhersage von Nachfüllzeitpunkten eines Holzofens\n",
    "\n",
    "## Entwicklung eines Machine Learning Modells\n",
    "\n",
    "**Glenn Ehrens**\n",
    "12750\n",
    "glenn.ehrens@nordakademie.de\n",
    "\n",
    "**Marie Frerichs**\n",
    "12779\n",
    "marie.frerichs@nordakademie.de\n",
    "\n",
    "**Noah Peeters**\n",
    "12756\n",
    "noah.peeters@nordakademie.de\n",
    "\n",
    "**Moritz Schröder**\n",
    "12660\n",
    "moritz.schroeder@nordakademie.de\n",
    "\n",
    "Modul: Maschinelles Lernen\n",
    "Prüfer: Uwe Neuhaus\n",
    "Abgabe: 10.09.2023"
   ],
   "metadata": {
    "collapsed": false
   },
   "id": "c4331d5046abeba2"
  },
  {
   "cell_type": "markdown",
   "source": [
    "# Funktionsweise und Energiefluss\n",
    "\n",
    "<img src=\"pictures/HDG F Schnittbild.png\" width=\"400\" alt=\"Schnittbild HDG F\" />\n",
    "\n",
    "Der Kessel des HDG F verfügt über eine große Füllöffnung, durch die der Füllschacht mit Holz befüllt wird. Im ersten Schritt wird das Holz vergast und anschließend bei hohen Temperaturen verbrannt. Währenddessen werden Primär- und Sekundärluftmengen durch Stellmotoren geregelt und Gase nachverbrannt bzw. abgesaugt. Die durch den Prozess entstandene Wärmeenergie wird mithilfe eines Wärmetauschers in einem Wasserpuffer gespeichert. Dieses Wasser wird direkt zum Heizen in die Heizkörper gepumpt. Um Warmwasser zu erzeugen, wird frisches Wasser über einen zweiten Wärmetauscher aufgeheizt. In der Aschelade sammeln sich die Verbrennungsrückstände, welche entsorgt werden müssen. Der Ofen wird durch ein Touch-Display bedient.\n",
    "\n",
    "[Holzvergaser – maximale Wirkungsgrade mit zwei Brennkammern](https://www.thermondo.de/info/rat/erneuerbare-energie/holzvergaser/)\n",
    "\n",
    "Im Diagramm ist der Energiefluss noch einmal schematisch abgebildet. Je nach Jahreszeit variieren die Anteile für Heizung und Warmwasser.\n",
    "\n",
    "[Sankey Diagram in Python](https://plotly.com/python/sankey-diagram/)\n"
   ],
   "metadata": {
    "collapsed": false
   },
   "id": "ddb2cfef5f04840"
  },
  {
   "cell_type": "code",
   "execution_count": 7,
   "outputs": [
    {
     "data": {
      "application/vnd.plotly.v1+json": {
       "data": [
        {
         "link": {
          "color": [
           "rgba(124, 71, 0,0.2)",
           "rgba(128,128,128,0.2)",
           "rgba(0,255,255,0.2)",
           "rgba(255,0,0,0.2)",
           "rgba(0,0,255,0.2)",
           "rgba(128,128,128,0.2)"
          ],
          "source": [
           0,
           1,
           1,
           3,
           3,
           3
          ],
          "target": [
           1,
           2,
           3,
           4,
           5,
           2
          ],
          "value": [
           100,
           5,
           95,
           65,
           15,
           15
          ]
         },
         "node": {
          "color": [
           "rgb(124, 71, 0)",
           "rgb(0,255,255)",
           "rgb(128,128,128)",
           "rgb(0,128,0)",
           "rgb(255,0,0)",
           "rgb(0,0,255)"
          ],
          "label": [
           "Holz",
           "Luft",
           "Verlust",
           "Puffer",
           "Heizkörper",
           "Warmwasser"
          ],
          "line": {
           "color": "black",
           "width": 0.5
          },
          "pad": 15,
          "thickness": 20,
          "x": [
           0,
           0.3,
           0.8,
           0.6,
           0.9,
           0.9
          ],
          "y": [
           0.5,
           0.5,
           1.1,
           0.48,
           0.2,
           0.8
          ]
         },
         "type": "sankey"
        }
       ],
       "layout": {
        "template": {
         "data": {
          "histogram2dcontour": [
           {
            "type": "histogram2dcontour",
            "colorbar": {
             "outlinewidth": 0,
             "ticks": ""
            },
            "colorscale": [
             [
              0.0,
              "#0d0887"
             ],
             [
              0.1111111111111111,
              "#46039f"
             ],
             [
              0.2222222222222222,
              "#7201a8"
             ],
             [
              0.3333333333333333,
              "#9c179e"
             ],
             [
              0.4444444444444444,
              "#bd3786"
             ],
             [
              0.5555555555555556,
              "#d8576b"
             ],
             [
              0.6666666666666666,
              "#ed7953"
             ],
             [
              0.7777777777777778,
              "#fb9f3a"
             ],
             [
              0.8888888888888888,
              "#fdca26"
             ],
             [
              1.0,
              "#f0f921"
             ]
            ]
           }
          ],
          "choropleth": [
           {
            "type": "choropleth",
            "colorbar": {
             "outlinewidth": 0,
             "ticks": ""
            }
           }
          ],
          "histogram2d": [
           {
            "type": "histogram2d",
            "colorbar": {
             "outlinewidth": 0,
             "ticks": ""
            },
            "colorscale": [
             [
              0.0,
              "#0d0887"
             ],
             [
              0.1111111111111111,
              "#46039f"
             ],
             [
              0.2222222222222222,
              "#7201a8"
             ],
             [
              0.3333333333333333,
              "#9c179e"
             ],
             [
              0.4444444444444444,
              "#bd3786"
             ],
             [
              0.5555555555555556,
              "#d8576b"
             ],
             [
              0.6666666666666666,
              "#ed7953"
             ],
             [
              0.7777777777777778,
              "#fb9f3a"
             ],
             [
              0.8888888888888888,
              "#fdca26"
             ],
             [
              1.0,
              "#f0f921"
             ]
            ]
           }
          ],
          "heatmap": [
           {
            "type": "heatmap",
            "colorbar": {
             "outlinewidth": 0,
             "ticks": ""
            },
            "colorscale": [
             [
              0.0,
              "#0d0887"
             ],
             [
              0.1111111111111111,
              "#46039f"
             ],
             [
              0.2222222222222222,
              "#7201a8"
             ],
             [
              0.3333333333333333,
              "#9c179e"
             ],
             [
              0.4444444444444444,
              "#bd3786"
             ],
             [
              0.5555555555555556,
              "#d8576b"
             ],
             [
              0.6666666666666666,
              "#ed7953"
             ],
             [
              0.7777777777777778,
              "#fb9f3a"
             ],
             [
              0.8888888888888888,
              "#fdca26"
             ],
             [
              1.0,
              "#f0f921"
             ]
            ]
           }
          ],
          "heatmapgl": [
           {
            "type": "heatmapgl",
            "colorbar": {
             "outlinewidth": 0,
             "ticks": ""
            },
            "colorscale": [
             [
              0.0,
              "#0d0887"
             ],
             [
              0.1111111111111111,
              "#46039f"
             ],
             [
              0.2222222222222222,
              "#7201a8"
             ],
             [
              0.3333333333333333,
              "#9c179e"
             ],
             [
              0.4444444444444444,
              "#bd3786"
             ],
             [
              0.5555555555555556,
              "#d8576b"
             ],
             [
              0.6666666666666666,
              "#ed7953"
             ],
             [
              0.7777777777777778,
              "#fb9f3a"
             ],
             [
              0.8888888888888888,
              "#fdca26"
             ],
             [
              1.0,
              "#f0f921"
             ]
            ]
           }
          ],
          "contourcarpet": [
           {
            "type": "contourcarpet",
            "colorbar": {
             "outlinewidth": 0,
             "ticks": ""
            }
           }
          ],
          "contour": [
           {
            "type": "contour",
            "colorbar": {
             "outlinewidth": 0,
             "ticks": ""
            },
            "colorscale": [
             [
              0.0,
              "#0d0887"
             ],
             [
              0.1111111111111111,
              "#46039f"
             ],
             [
              0.2222222222222222,
              "#7201a8"
             ],
             [
              0.3333333333333333,
              "#9c179e"
             ],
             [
              0.4444444444444444,
              "#bd3786"
             ],
             [
              0.5555555555555556,
              "#d8576b"
             ],
             [
              0.6666666666666666,
              "#ed7953"
             ],
             [
              0.7777777777777778,
              "#fb9f3a"
             ],
             [
              0.8888888888888888,
              "#fdca26"
             ],
             [
              1.0,
              "#f0f921"
             ]
            ]
           }
          ],
          "surface": [
           {
            "type": "surface",
            "colorbar": {
             "outlinewidth": 0,
             "ticks": ""
            },
            "colorscale": [
             [
              0.0,
              "#0d0887"
             ],
             [
              0.1111111111111111,
              "#46039f"
             ],
             [
              0.2222222222222222,
              "#7201a8"
             ],
             [
              0.3333333333333333,
              "#9c179e"
             ],
             [
              0.4444444444444444,
              "#bd3786"
             ],
             [
              0.5555555555555556,
              "#d8576b"
             ],
             [
              0.6666666666666666,
              "#ed7953"
             ],
             [
              0.7777777777777778,
              "#fb9f3a"
             ],
             [
              0.8888888888888888,
              "#fdca26"
             ],
             [
              1.0,
              "#f0f921"
             ]
            ]
           }
          ],
          "mesh3d": [
           {
            "type": "mesh3d",
            "colorbar": {
             "outlinewidth": 0,
             "ticks": ""
            }
           }
          ],
          "scatter": [
           {
            "marker": {
             "line": {
              "color": "#283442"
             }
            },
            "type": "scatter"
           }
          ],
          "parcoords": [
           {
            "type": "parcoords",
            "line": {
             "colorbar": {
              "outlinewidth": 0,
              "ticks": ""
             }
            }
           }
          ],
          "scatterpolargl": [
           {
            "type": "scatterpolargl",
            "marker": {
             "colorbar": {
              "outlinewidth": 0,
              "ticks": ""
             }
            }
           }
          ],
          "bar": [
           {
            "error_x": {
             "color": "#f2f5fa"
            },
            "error_y": {
             "color": "#f2f5fa"
            },
            "marker": {
             "line": {
              "color": "rgb(17,17,17)",
              "width": 0.5
             },
             "pattern": {
              "fillmode": "overlay",
              "size": 10,
              "solidity": 0.2
             }
            },
            "type": "bar"
           }
          ],
          "scattergeo": [
           {
            "type": "scattergeo",
            "marker": {
             "colorbar": {
              "outlinewidth": 0,
              "ticks": ""
             }
            }
           }
          ],
          "scatterpolar": [
           {
            "type": "scatterpolar",
            "marker": {
             "colorbar": {
              "outlinewidth": 0,
              "ticks": ""
             }
            }
           }
          ],
          "histogram": [
           {
            "marker": {
             "pattern": {
              "fillmode": "overlay",
              "size": 10,
              "solidity": 0.2
             }
            },
            "type": "histogram"
           }
          ],
          "scattergl": [
           {
            "marker": {
             "line": {
              "color": "#283442"
             }
            },
            "type": "scattergl"
           }
          ],
          "scatter3d": [
           {
            "type": "scatter3d",
            "line": {
             "colorbar": {
              "outlinewidth": 0,
              "ticks": ""
             }
            },
            "marker": {
             "colorbar": {
              "outlinewidth": 0,
              "ticks": ""
             }
            }
           }
          ],
          "scattermapbox": [
           {
            "type": "scattermapbox",
            "marker": {
             "colorbar": {
              "outlinewidth": 0,
              "ticks": ""
             }
            }
           }
          ],
          "scatterternary": [
           {
            "type": "scatterternary",
            "marker": {
             "colorbar": {
              "outlinewidth": 0,
              "ticks": ""
             }
            }
           }
          ],
          "scattercarpet": [
           {
            "type": "scattercarpet",
            "marker": {
             "colorbar": {
              "outlinewidth": 0,
              "ticks": ""
             }
            }
           }
          ],
          "carpet": [
           {
            "aaxis": {
             "endlinecolor": "#A2B1C6",
             "gridcolor": "#506784",
             "linecolor": "#506784",
             "minorgridcolor": "#506784",
             "startlinecolor": "#A2B1C6"
            },
            "baxis": {
             "endlinecolor": "#A2B1C6",
             "gridcolor": "#506784",
             "linecolor": "#506784",
             "minorgridcolor": "#506784",
             "startlinecolor": "#A2B1C6"
            },
            "type": "carpet"
           }
          ],
          "table": [
           {
            "cells": {
             "fill": {
              "color": "#506784"
             },
             "line": {
              "color": "rgb(17,17,17)"
             }
            },
            "header": {
             "fill": {
              "color": "#2a3f5f"
             },
             "line": {
              "color": "rgb(17,17,17)"
             }
            },
            "type": "table"
           }
          ],
          "barpolar": [
           {
            "marker": {
             "line": {
              "color": "rgb(17,17,17)",
              "width": 0.5
             },
             "pattern": {
              "fillmode": "overlay",
              "size": 10,
              "solidity": 0.2
             }
            },
            "type": "barpolar"
           }
          ],
          "pie": [
           {
            "automargin": true,
            "type": "pie"
           }
          ]
         },
         "layout": {
          "autotypenumbers": "strict",
          "colorway": [
           "#636efa",
           "#EF553B",
           "#00cc96",
           "#ab63fa",
           "#FFA15A",
           "#19d3f3",
           "#FF6692",
           "#B6E880",
           "#FF97FF",
           "#FECB52"
          ],
          "font": {
           "color": "#f2f5fa"
          },
          "hovermode": "closest",
          "hoverlabel": {
           "align": "left"
          },
          "paper_bgcolor": "rgb(17,17,17)",
          "plot_bgcolor": "rgb(17,17,17)",
          "polar": {
           "bgcolor": "rgb(17,17,17)",
           "angularaxis": {
            "gridcolor": "#506784",
            "linecolor": "#506784",
            "ticks": ""
           },
           "radialaxis": {
            "gridcolor": "#506784",
            "linecolor": "#506784",
            "ticks": ""
           }
          },
          "ternary": {
           "bgcolor": "rgb(17,17,17)",
           "aaxis": {
            "gridcolor": "#506784",
            "linecolor": "#506784",
            "ticks": ""
           },
           "baxis": {
            "gridcolor": "#506784",
            "linecolor": "#506784",
            "ticks": ""
           },
           "caxis": {
            "gridcolor": "#506784",
            "linecolor": "#506784",
            "ticks": ""
           }
          },
          "coloraxis": {
           "colorbar": {
            "outlinewidth": 0,
            "ticks": ""
           }
          },
          "colorscale": {
           "sequential": [
            [
             0.0,
             "#0d0887"
            ],
            [
             0.1111111111111111,
             "#46039f"
            ],
            [
             0.2222222222222222,
             "#7201a8"
            ],
            [
             0.3333333333333333,
             "#9c179e"
            ],
            [
             0.4444444444444444,
             "#bd3786"
            ],
            [
             0.5555555555555556,
             "#d8576b"
            ],
            [
             0.6666666666666666,
             "#ed7953"
            ],
            [
             0.7777777777777778,
             "#fb9f3a"
            ],
            [
             0.8888888888888888,
             "#fdca26"
            ],
            [
             1.0,
             "#f0f921"
            ]
           ],
           "sequentialminus": [
            [
             0.0,
             "#0d0887"
            ],
            [
             0.1111111111111111,
             "#46039f"
            ],
            [
             0.2222222222222222,
             "#7201a8"
            ],
            [
             0.3333333333333333,
             "#9c179e"
            ],
            [
             0.4444444444444444,
             "#bd3786"
            ],
            [
             0.5555555555555556,
             "#d8576b"
            ],
            [
             0.6666666666666666,
             "#ed7953"
            ],
            [
             0.7777777777777778,
             "#fb9f3a"
            ],
            [
             0.8888888888888888,
             "#fdca26"
            ],
            [
             1.0,
             "#f0f921"
            ]
           ],
           "diverging": [
            [
             0,
             "#8e0152"
            ],
            [
             0.1,
             "#c51b7d"
            ],
            [
             0.2,
             "#de77ae"
            ],
            [
             0.3,
             "#f1b6da"
            ],
            [
             0.4,
             "#fde0ef"
            ],
            [
             0.5,
             "#f7f7f7"
            ],
            [
             0.6,
             "#e6f5d0"
            ],
            [
             0.7,
             "#b8e186"
            ],
            [
             0.8,
             "#7fbc41"
            ],
            [
             0.9,
             "#4d9221"
            ],
            [
             1,
             "#276419"
            ]
           ]
          },
          "xaxis": {
           "gridcolor": "#283442",
           "linecolor": "#506784",
           "ticks": "",
           "title": {
            "standoff": 15
           },
           "zerolinecolor": "#283442",
           "automargin": true,
           "zerolinewidth": 2
          },
          "yaxis": {
           "gridcolor": "#283442",
           "linecolor": "#506784",
           "ticks": "",
           "title": {
            "standoff": 15
           },
           "zerolinecolor": "#283442",
           "automargin": true,
           "zerolinewidth": 2
          },
          "scene": {
           "xaxis": {
            "backgroundcolor": "rgb(17,17,17)",
            "gridcolor": "#506784",
            "linecolor": "#506784",
            "showbackground": true,
            "ticks": "",
            "zerolinecolor": "#C8D4E3",
            "gridwidth": 2
           },
           "yaxis": {
            "backgroundcolor": "rgb(17,17,17)",
            "gridcolor": "#506784",
            "linecolor": "#506784",
            "showbackground": true,
            "ticks": "",
            "zerolinecolor": "#C8D4E3",
            "gridwidth": 2
           },
           "zaxis": {
            "backgroundcolor": "rgb(17,17,17)",
            "gridcolor": "#506784",
            "linecolor": "#506784",
            "showbackground": true,
            "ticks": "",
            "zerolinecolor": "#C8D4E3",
            "gridwidth": 2
           }
          },
          "shapedefaults": {
           "line": {
            "color": "#f2f5fa"
           }
          },
          "annotationdefaults": {
           "arrowcolor": "#f2f5fa",
           "arrowhead": 0,
           "arrowwidth": 1
          },
          "geo": {
           "bgcolor": "rgb(17,17,17)",
           "landcolor": "rgb(17,17,17)",
           "subunitcolor": "#506784",
           "showland": true,
           "showlakes": true,
           "lakecolor": "rgb(17,17,17)"
          },
          "title": {
           "x": 0.05
          },
          "updatemenudefaults": {
           "bgcolor": "#506784",
           "borderwidth": 0
          },
          "sliderdefaults": {
           "bgcolor": "#C8D4E3",
           "borderwidth": 1,
           "bordercolor": "rgb(17,17,17)",
           "tickwidth": 0
          },
          "mapbox": {
           "style": "dark"
          }
         }
        },
        "title": {
         "text": "Energieflussdiagramm Holzvergaser"
        },
        "font": {
         "size": 15
        },
        "plot_bgcolor": "rgba(0, 0, 0, 0)",
        "paper_bgcolor": "rgba(0, 0, 0, 0)"
       },
       "config": {
        "plotlyServerURL": "https://plot.ly"
       }
      },
      "text/html": "<div>                            <div id=\"dbe552d3-8d38-4255-bcba-9b205c66d7a9\" class=\"plotly-graph-div\" style=\"height:525px; width:100%;\"></div>            <script type=\"text/javascript\">                require([\"plotly\"], function(Plotly) {                    window.PLOTLYENV=window.PLOTLYENV || {};                                    if (document.getElementById(\"dbe552d3-8d38-4255-bcba-9b205c66d7a9\")) {                    Plotly.newPlot(                        \"dbe552d3-8d38-4255-bcba-9b205c66d7a9\",                        [{\"link\":{\"color\":[\"rgba(124, 71, 0,0.2)\",\"rgba(128,128,128,0.2)\",\"rgba(0,255,255,0.2)\",\"rgba(255,0,0,0.2)\",\"rgba(0,0,255,0.2)\",\"rgba(128,128,128,0.2)\"],\"source\":[0,1,1,3,3,3],\"target\":[1,2,3,4,5,2],\"value\":[100,5,95,65,15,15]},\"node\":{\"color\":[\"rgb(124, 71, 0)\",\"rgb(0,255,255)\",\"rgb(128,128,128)\",\"rgb(0,128,0)\",\"rgb(255,0,0)\",\"rgb(0,0,255)\"],\"label\":[\"Holz\",\"Luft\",\"Verlust\",\"Puffer\",\"Heizk\\u00f6rper\",\"Warmwasser\"],\"line\":{\"color\":\"black\",\"width\":0.5},\"pad\":15,\"thickness\":20,\"x\":[0,0.3,0.8,0.6,0.9,0.9],\"y\":[0.5,0.5,1.1,0.48,0.2,0.8]},\"type\":\"sankey\"}],                        {\"template\":{\"data\":{\"histogram2dcontour\":[{\"type\":\"histogram2dcontour\",\"colorbar\":{\"outlinewidth\":0,\"ticks\":\"\"},\"colorscale\":[[0.0,\"#0d0887\"],[0.1111111111111111,\"#46039f\"],[0.2222222222222222,\"#7201a8\"],[0.3333333333333333,\"#9c179e\"],[0.4444444444444444,\"#bd3786\"],[0.5555555555555556,\"#d8576b\"],[0.6666666666666666,\"#ed7953\"],[0.7777777777777778,\"#fb9f3a\"],[0.8888888888888888,\"#fdca26\"],[1.0,\"#f0f921\"]]}],\"choropleth\":[{\"type\":\"choropleth\",\"colorbar\":{\"outlinewidth\":0,\"ticks\":\"\"}}],\"histogram2d\":[{\"type\":\"histogram2d\",\"colorbar\":{\"outlinewidth\":0,\"ticks\":\"\"},\"colorscale\":[[0.0,\"#0d0887\"],[0.1111111111111111,\"#46039f\"],[0.2222222222222222,\"#7201a8\"],[0.3333333333333333,\"#9c179e\"],[0.4444444444444444,\"#bd3786\"],[0.5555555555555556,\"#d8576b\"],[0.6666666666666666,\"#ed7953\"],[0.7777777777777778,\"#fb9f3a\"],[0.8888888888888888,\"#fdca26\"],[1.0,\"#f0f921\"]]}],\"heatmap\":[{\"type\":\"heatmap\",\"colorbar\":{\"outlinewidth\":0,\"ticks\":\"\"},\"colorscale\":[[0.0,\"#0d0887\"],[0.1111111111111111,\"#46039f\"],[0.2222222222222222,\"#7201a8\"],[0.3333333333333333,\"#9c179e\"],[0.4444444444444444,\"#bd3786\"],[0.5555555555555556,\"#d8576b\"],[0.6666666666666666,\"#ed7953\"],[0.7777777777777778,\"#fb9f3a\"],[0.8888888888888888,\"#fdca26\"],[1.0,\"#f0f921\"]]}],\"heatmapgl\":[{\"type\":\"heatmapgl\",\"colorbar\":{\"outlinewidth\":0,\"ticks\":\"\"},\"colorscale\":[[0.0,\"#0d0887\"],[0.1111111111111111,\"#46039f\"],[0.2222222222222222,\"#7201a8\"],[0.3333333333333333,\"#9c179e\"],[0.4444444444444444,\"#bd3786\"],[0.5555555555555556,\"#d8576b\"],[0.6666666666666666,\"#ed7953\"],[0.7777777777777778,\"#fb9f3a\"],[0.8888888888888888,\"#fdca26\"],[1.0,\"#f0f921\"]]}],\"contourcarpet\":[{\"type\":\"contourcarpet\",\"colorbar\":{\"outlinewidth\":0,\"ticks\":\"\"}}],\"contour\":[{\"type\":\"contour\",\"colorbar\":{\"outlinewidth\":0,\"ticks\":\"\"},\"colorscale\":[[0.0,\"#0d0887\"],[0.1111111111111111,\"#46039f\"],[0.2222222222222222,\"#7201a8\"],[0.3333333333333333,\"#9c179e\"],[0.4444444444444444,\"#bd3786\"],[0.5555555555555556,\"#d8576b\"],[0.6666666666666666,\"#ed7953\"],[0.7777777777777778,\"#fb9f3a\"],[0.8888888888888888,\"#fdca26\"],[1.0,\"#f0f921\"]]}],\"surface\":[{\"type\":\"surface\",\"colorbar\":{\"outlinewidth\":0,\"ticks\":\"\"},\"colorscale\":[[0.0,\"#0d0887\"],[0.1111111111111111,\"#46039f\"],[0.2222222222222222,\"#7201a8\"],[0.3333333333333333,\"#9c179e\"],[0.4444444444444444,\"#bd3786\"],[0.5555555555555556,\"#d8576b\"],[0.6666666666666666,\"#ed7953\"],[0.7777777777777778,\"#fb9f3a\"],[0.8888888888888888,\"#fdca26\"],[1.0,\"#f0f921\"]]}],\"mesh3d\":[{\"type\":\"mesh3d\",\"colorbar\":{\"outlinewidth\":0,\"ticks\":\"\"}}],\"scatter\":[{\"marker\":{\"line\":{\"color\":\"#283442\"}},\"type\":\"scatter\"}],\"parcoords\":[{\"type\":\"parcoords\",\"line\":{\"colorbar\":{\"outlinewidth\":0,\"ticks\":\"\"}}}],\"scatterpolargl\":[{\"type\":\"scatterpolargl\",\"marker\":{\"colorbar\":{\"outlinewidth\":0,\"ticks\":\"\"}}}],\"bar\":[{\"error_x\":{\"color\":\"#f2f5fa\"},\"error_y\":{\"color\":\"#f2f5fa\"},\"marker\":{\"line\":{\"color\":\"rgb(17,17,17)\",\"width\":0.5},\"pattern\":{\"fillmode\":\"overlay\",\"size\":10,\"solidity\":0.2}},\"type\":\"bar\"}],\"scattergeo\":[{\"type\":\"scattergeo\",\"marker\":{\"colorbar\":{\"outlinewidth\":0,\"ticks\":\"\"}}}],\"scatterpolar\":[{\"type\":\"scatterpolar\",\"marker\":{\"colorbar\":{\"outlinewidth\":0,\"ticks\":\"\"}}}],\"histogram\":[{\"marker\":{\"pattern\":{\"fillmode\":\"overlay\",\"size\":10,\"solidity\":0.2}},\"type\":\"histogram\"}],\"scattergl\":[{\"marker\":{\"line\":{\"color\":\"#283442\"}},\"type\":\"scattergl\"}],\"scatter3d\":[{\"type\":\"scatter3d\",\"line\":{\"colorbar\":{\"outlinewidth\":0,\"ticks\":\"\"}},\"marker\":{\"colorbar\":{\"outlinewidth\":0,\"ticks\":\"\"}}}],\"scattermapbox\":[{\"type\":\"scattermapbox\",\"marker\":{\"colorbar\":{\"outlinewidth\":0,\"ticks\":\"\"}}}],\"scatterternary\":[{\"type\":\"scatterternary\",\"marker\":{\"colorbar\":{\"outlinewidth\":0,\"ticks\":\"\"}}}],\"scattercarpet\":[{\"type\":\"scattercarpet\",\"marker\":{\"colorbar\":{\"outlinewidth\":0,\"ticks\":\"\"}}}],\"carpet\":[{\"aaxis\":{\"endlinecolor\":\"#A2B1C6\",\"gridcolor\":\"#506784\",\"linecolor\":\"#506784\",\"minorgridcolor\":\"#506784\",\"startlinecolor\":\"#A2B1C6\"},\"baxis\":{\"endlinecolor\":\"#A2B1C6\",\"gridcolor\":\"#506784\",\"linecolor\":\"#506784\",\"minorgridcolor\":\"#506784\",\"startlinecolor\":\"#A2B1C6\"},\"type\":\"carpet\"}],\"table\":[{\"cells\":{\"fill\":{\"color\":\"#506784\"},\"line\":{\"color\":\"rgb(17,17,17)\"}},\"header\":{\"fill\":{\"color\":\"#2a3f5f\"},\"line\":{\"color\":\"rgb(17,17,17)\"}},\"type\":\"table\"}],\"barpolar\":[{\"marker\":{\"line\":{\"color\":\"rgb(17,17,17)\",\"width\":0.5},\"pattern\":{\"fillmode\":\"overlay\",\"size\":10,\"solidity\":0.2}},\"type\":\"barpolar\"}],\"pie\":[{\"automargin\":true,\"type\":\"pie\"}]},\"layout\":{\"autotypenumbers\":\"strict\",\"colorway\":[\"#636efa\",\"#EF553B\",\"#00cc96\",\"#ab63fa\",\"#FFA15A\",\"#19d3f3\",\"#FF6692\",\"#B6E880\",\"#FF97FF\",\"#FECB52\"],\"font\":{\"color\":\"#f2f5fa\"},\"hovermode\":\"closest\",\"hoverlabel\":{\"align\":\"left\"},\"paper_bgcolor\":\"rgb(17,17,17)\",\"plot_bgcolor\":\"rgb(17,17,17)\",\"polar\":{\"bgcolor\":\"rgb(17,17,17)\",\"angularaxis\":{\"gridcolor\":\"#506784\",\"linecolor\":\"#506784\",\"ticks\":\"\"},\"radialaxis\":{\"gridcolor\":\"#506784\",\"linecolor\":\"#506784\",\"ticks\":\"\"}},\"ternary\":{\"bgcolor\":\"rgb(17,17,17)\",\"aaxis\":{\"gridcolor\":\"#506784\",\"linecolor\":\"#506784\",\"ticks\":\"\"},\"baxis\":{\"gridcolor\":\"#506784\",\"linecolor\":\"#506784\",\"ticks\":\"\"},\"caxis\":{\"gridcolor\":\"#506784\",\"linecolor\":\"#506784\",\"ticks\":\"\"}},\"coloraxis\":{\"colorbar\":{\"outlinewidth\":0,\"ticks\":\"\"}},\"colorscale\":{\"sequential\":[[0.0,\"#0d0887\"],[0.1111111111111111,\"#46039f\"],[0.2222222222222222,\"#7201a8\"],[0.3333333333333333,\"#9c179e\"],[0.4444444444444444,\"#bd3786\"],[0.5555555555555556,\"#d8576b\"],[0.6666666666666666,\"#ed7953\"],[0.7777777777777778,\"#fb9f3a\"],[0.8888888888888888,\"#fdca26\"],[1.0,\"#f0f921\"]],\"sequentialminus\":[[0.0,\"#0d0887\"],[0.1111111111111111,\"#46039f\"],[0.2222222222222222,\"#7201a8\"],[0.3333333333333333,\"#9c179e\"],[0.4444444444444444,\"#bd3786\"],[0.5555555555555556,\"#d8576b\"],[0.6666666666666666,\"#ed7953\"],[0.7777777777777778,\"#fb9f3a\"],[0.8888888888888888,\"#fdca26\"],[1.0,\"#f0f921\"]],\"diverging\":[[0,\"#8e0152\"],[0.1,\"#c51b7d\"],[0.2,\"#de77ae\"],[0.3,\"#f1b6da\"],[0.4,\"#fde0ef\"],[0.5,\"#f7f7f7\"],[0.6,\"#e6f5d0\"],[0.7,\"#b8e186\"],[0.8,\"#7fbc41\"],[0.9,\"#4d9221\"],[1,\"#276419\"]]},\"xaxis\":{\"gridcolor\":\"#283442\",\"linecolor\":\"#506784\",\"ticks\":\"\",\"title\":{\"standoff\":15},\"zerolinecolor\":\"#283442\",\"automargin\":true,\"zerolinewidth\":2},\"yaxis\":{\"gridcolor\":\"#283442\",\"linecolor\":\"#506784\",\"ticks\":\"\",\"title\":{\"standoff\":15},\"zerolinecolor\":\"#283442\",\"automargin\":true,\"zerolinewidth\":2},\"scene\":{\"xaxis\":{\"backgroundcolor\":\"rgb(17,17,17)\",\"gridcolor\":\"#506784\",\"linecolor\":\"#506784\",\"showbackground\":true,\"ticks\":\"\",\"zerolinecolor\":\"#C8D4E3\",\"gridwidth\":2},\"yaxis\":{\"backgroundcolor\":\"rgb(17,17,17)\",\"gridcolor\":\"#506784\",\"linecolor\":\"#506784\",\"showbackground\":true,\"ticks\":\"\",\"zerolinecolor\":\"#C8D4E3\",\"gridwidth\":2},\"zaxis\":{\"backgroundcolor\":\"rgb(17,17,17)\",\"gridcolor\":\"#506784\",\"linecolor\":\"#506784\",\"showbackground\":true,\"ticks\":\"\",\"zerolinecolor\":\"#C8D4E3\",\"gridwidth\":2}},\"shapedefaults\":{\"line\":{\"color\":\"#f2f5fa\"}},\"annotationdefaults\":{\"arrowcolor\":\"#f2f5fa\",\"arrowhead\":0,\"arrowwidth\":1},\"geo\":{\"bgcolor\":\"rgb(17,17,17)\",\"landcolor\":\"rgb(17,17,17)\",\"subunitcolor\":\"#506784\",\"showland\":true,\"showlakes\":true,\"lakecolor\":\"rgb(17,17,17)\"},\"title\":{\"x\":0.05},\"updatemenudefaults\":{\"bgcolor\":\"#506784\",\"borderwidth\":0},\"sliderdefaults\":{\"bgcolor\":\"#C8D4E3\",\"borderwidth\":1,\"bordercolor\":\"rgb(17,17,17)\",\"tickwidth\":0},\"mapbox\":{\"style\":\"dark\"}}},\"title\":{\"text\":\"Energieflussdiagramm Holzvergaser\"},\"font\":{\"size\":15},\"plot_bgcolor\":\"rgba(0, 0, 0, 0)\",\"paper_bgcolor\":\"rgba(0, 0, 0, 0)\"},                        {\"responsive\": true}                    ).then(function(){\n                            \nvar gd = document.getElementById('dbe552d3-8d38-4255-bcba-9b205c66d7a9');\nvar x = new MutationObserver(function (mutations, observer) {{\n        var display = window.getComputedStyle(gd).display;\n        if (!display || display === 'none') {{\n            console.log([gd, 'removed!']);\n            Plotly.purge(gd);\n            observer.disconnect();\n        }}\n}});\n\n// Listen for the removal of the full notebook cells\nvar notebookContainer = gd.closest('#notebook-container');\nif (notebookContainer) {{\n    x.observe(notebookContainer, {childList: true});\n}}\n\n// Listen for the clearing of the current output cell\nvar outputEl = gd.closest('.output');\nif (outputEl) {{\n    x.observe(outputEl, {childList: true});\n}}\n\n                        })                };                });            </script>        </div>"
     },
     "metadata": {},
     "output_type": "display_data"
    }
   ],
   "source": [
    "import plotly.graph_objects as go\n",
    "\n",
    "fig = go.Figure(data=[go.Sankey(\n",
    "    node = dict(\n",
    "      pad = 15,\n",
    "      thickness = 20,\n",
    "      line = dict(color = \"black\", width = 0.5),\n",
    "      label = [\"Holz\", \"Luft\", \"Verlust\", \"Puffer\", \"Heizkörper\", \"Warmwasser\"],\n",
    "      color = [\"rgb(124, 71, 0)\", \"rgb(0,255,255)\", \"rgb(128,128,128)\", \"rgb(0,128,0)\", \"rgb(255,0,0)\", \"rgb(0,0,255)\"],\n",
    "      x = [0, 0.3, 0.8, 0.6, 0.9, 0.9],\n",
    "      y = [0.5, 0.5, 1.1, 0.48, 0.2, 0.8]  \n",
    "    ),\n",
    "    link = dict(\n",
    "      source = [0, 1, 1, 3, 3, 3],\n",
    "      target = [1, 2, 3, 4, 5, 2],\n",
    "      value = [100, 5, 95, 65, 15, 15],\n",
    "      color = [\"rgba(124, 71, 0,0.2)\", \"rgba(128,128,128,0.2)\", \"rgba(0,255,255,0.2)\", \"rgba(255,0,0,0.2)\", \"rgba(0,0,255,0.2)\", \"rgba(128,128,128,0.2)\"]\n",
    "  ))])\n",
    "\n",
    "fig.update_layout(title_text=\"Energieflussdiagramm Holzvergaser\", font_size=15, plot_bgcolor='rgba(0, 0, 0, 0)', paper_bgcolor='rgba(0, 0, 0, 0)',)\n",
    "fig.show()"
   ],
   "metadata": {
    "collapsed": false,
    "ExecuteTime": {
     "end_time": "2023-09-07T15:31:24.685286500Z",
     "start_time": "2023-09-07T15:31:24.654294100Z"
    }
   },
   "id": "435ba813361565da"
  },
  {
   "cell_type": "markdown",
   "source": [
    "# Zustände\n",
    "\n",
    "Das Aufheizen des Wassers im Puffer findet nicht kontinuierlich, sondern chargenweise statt. Deshalb kann sich der Holzvergaser in verschiedenen Zuständen befinden. Da diese im weiteren Verlauf der Arbeit relevant sind, werden sie hier kurz aufgeführt. Zu Beginn ist der Holzvergaser ausgeschaltet. Beim Befüllen des Ofens gibt es zwei Möglichkeiten: Er kann entweder direkt oder automatisch angezündet werden (Zündung bereit). \n",
    "Bei beiden Methoden startet die Nachlegetaste den Anheizvorgang. Zunächst müssen dann die Holzart, die Holzfeuchte, und die Zündart angegeben werden. Holzart und Holzfeuchte wirken sich auf die Brenndauer aus, daher sind diese zur Berechnung des nächsten Nachlegezeitpunktes entscheidend. Im nächsten Schritt wird der Nachlegebedarf angezeigt. Nun muss angegeben werden, wieviel Holz tatsächlich nachgelegt werden soll. Anhand dieser Angabe wird dann voraussichtlich nächste Nachlegezeitpunkt angezeigt. Nach diesen Angaben kann der Füllschacht geöffnet und befüllt werden.\n",
    "Die manuelle Zündung erfolgt, indem kleines Holz bzw. Papier oder Pappe direkt angezündet wird. Auf dieses wird dann das Holz gestapelt und der Ofen geschlossen.\n",
    "Bei der automatischen Funktionsweise muss kleines Holz bzw. Papier oder Pappe vor das Zündloch gelegt und Holz darauf gestapelt werden. Die Tür wird geschlossen und die Zündung bestätigt. Diese kann entweder sofort oder nach Aufforderung ausgeführt werden. Ist der Holzvergaser bereits in Benutzung, wartet er, bis ein Pufferladegrad von 15 % unterschritten wird und zündet dann das nachgefüllte Holz mit einem Heißluftgebläse an. Ist die Zündung erfolgt, wechselt der Zustand in den Automatikmodus, bei dem das Holz vollständig verbrannt wird. Wenn nur noch Glut übrig ist, wechselt der Ofen in den Zustand Ausbrennen. Hier gibt es zwei Möglichkeiten. Entweder wird eine neue Charge Holz nachgelegt und der Ofen brennt wieder im Automatikmodus, oder er wechselt nach komplettem Ausbrennen in den ausgeschalteten Zustand.\n",
    "\n",
    "Um einen Überblick über die verschiedenen Zustände des Ofens zu bekommen, sind die Wichtigsten weiter unten in einem Flussdiagramm abgebildet. Diese werden auch im entwickelten Modell eine entscheidende Rolle spielen.\n",
    "[Flowcharting](https://schemdraw.readthedocs.io/en/latest/gallery/flowcharting.html)"
   ],
   "metadata": {
    "collapsed": false
   },
   "id": "48b3c758fe7fc789"
  },
  {
   "cell_type": "code",
   "execution_count": 8,
   "outputs": [
    {
     "data": {
      "text/plain": "<schemdraw.backends.mpl.Figure object at 0x000002555291B280>",
      "image/svg+xml": "<?xml version=\"1.0\" encoding=\"utf-8\" standalone=\"no\"?>\n<!DOCTYPE svg PUBLIC \"-//W3C//DTD SVG 1.1//EN\"\n  \"http://www.w3.org/Graphics/SVG/1.1/DTD/svg11.dtd\">\n<svg xmlns:xlink=\"http://www.w3.org/1999/xlink\" width=\"999.72pt\" height=\"269.91pt\" viewBox=\"0 0 999.72 269.91\" xmlns=\"http://www.w3.org/2000/svg\" version=\"1.1\">\n <metadata>\n  <rdf:RDF xmlns:dc=\"http://purl.org/dc/elements/1.1/\" xmlns:cc=\"http://creativecommons.org/ns#\" xmlns:rdf=\"http://www.w3.org/1999/02/22-rdf-syntax-ns#\">\n   <cc:Work>\n    <dc:type rdf:resource=\"http://purl.org/dc/dcmitype/StillImage\"/>\n    <dc:date>2023-09-07T17:31:24.881287</dc:date>\n    <dc:format>image/svg+xml</dc:format>\n    <dc:creator>\n     <cc:Agent>\n      <dc:title>Matplotlib v3.7.1, https://matplotlib.org/</dc:title>\n     </cc:Agent>\n    </dc:creator>\n   </cc:Work>\n  </rdf:RDF>\n </metadata>\n <defs>\n  <style type=\"text/css\">*{stroke-linejoin: round; stroke-linecap: butt}</style>\n </defs>\n <g id=\"figure_1\">\n  <g id=\"patch_1\">\n   <path d=\"M 0 269.91 \nL 999.72 269.91 \nL 999.72 0 \nL 0 0 \nz\n\" style=\"fill: #ffffff\"/>\n  </g>\n  <g id=\"axes_1\">\n   <g id=\"patch_2\">\n    <path d=\"M 123.48 137.25 \nL 123.62565 137.248844 \nL 123.771262 137.245378 \nL 123.916802 137.239602 \nL 124.062232 137.231518 \nL 124.207515 137.221127 \nL 124.352614 137.208432 \nL 124.497495 137.193437 \nL 124.642119 137.176145 \nL 124.78645 137.156561 \nL 124.930453 137.134689 \nL 125.07409 137.110535 \nL 125.217326 137.084105 \nL 125.360125 137.055406 \nL 125.502451 137.024445 \nL 125.644267 136.99123 \nL 125.785539 136.955769 \nL 125.92623 136.918071 \nL 126.066305 136.878145 \nL 126.205729 136.836003 \nL 126.344467 136.791653 \nL 126.482484 136.745108 \nL 126.619745 136.696378 \nL 126.756216 136.645477 \nL 126.891861 136.592418 \nL 127.026648 136.537212 \nL 127.160542 136.479876 \nL 127.29351 136.420422 \nL 127.425517 136.358866 \nL 127.556532 136.295223 \nL 127.686519 136.229509 \nL 127.815448 136.161742 \nL 127.943286 136.091937 \nL 128.07 136.020113 \nL 128.195558 135.946288 \nL 128.31993 135.870479 \nL 128.443083 135.792707 \nL 128.564986 135.712991 \nL 128.68561 135.631351 \nL 128.804922 135.547807 \nL 128.922895 135.462381 \nL 129.039497 135.375094 \nL 129.154699 135.285967 \nL 129.268473 135.195025 \nL 129.38079 135.102288 \nL 129.491622 135.007781 \nL 129.600939 134.911528 \nL 129.708716 134.813552 \nL 129.814925 134.713878 \nL 129.919539 134.612532 \nL 130.022532 134.509539 \nL 130.123878 134.404925 \nL 130.223552 134.298716 \nL 130.321528 134.190939 \nL 130.417781 134.081622 \nL 130.512288 133.97079 \nL 130.605025 133.858473 \nL 130.695967 133.744699 \nL 130.785094 133.629497 \nL 130.872381 133.512895 \nL 130.957807 133.394922 \nL 131.041351 133.27561 \nL 131.122991 133.154986 \nL 131.202707 133.033083 \nL 131.280479 132.90993 \nL 131.356288 132.785558 \nL 131.430113 132.66 \nL 131.501937 132.533286 \nL 131.571742 132.405448 \nL 131.639509 132.276519 \nL 131.705223 132.146532 \nL 131.768866 132.015517 \nL 131.830422 131.88351 \nL 131.889876 131.750542 \nL 131.947212 131.616648 \nL 132.002418 131.481861 \nL 132.055477 131.346216 \nL 132.106378 131.209745 \nL 132.155108 131.072484 \nL 132.201653 130.934467 \nL 132.246003 130.795729 \nL 132.288145 130.656305 \nL 132.328071 130.51623 \nL 132.365769 130.375539 \nL 132.40123 130.234267 \nL 132.434445 130.092451 \nL 132.465406 129.950125 \nL 132.494105 129.807326 \nL 132.520535 129.66409 \nL 132.544689 129.520453 \nL 132.566561 129.37645 \nL 132.586145 129.232119 \nL 132.603437 129.087495 \nL 132.618432 128.942614 \nL 132.631127 128.797515 \nL 132.641518 128.652232 \nL 132.649602 128.506802 \nL 132.655378 128.361262 \nL 132.658844 128.21565 \nL 132.66 128.07 \nL 132.66 85.23 \nL 132.658844 85.08435 \nL 132.655378 84.938738 \nL 132.649602 84.793198 \nL 132.641518 84.647768 \nL 132.631127 84.502485 \nL 132.618432 84.357386 \nL 132.603437 84.212505 \nL 132.586145 84.067881 \nL 132.566561 83.92355 \nL 132.544689 83.779547 \nL 132.520535 83.63591 \nL 132.494105 83.492674 \nL 132.465406 83.349875 \nL 132.434445 83.207549 \nL 132.40123 83.065733 \nL 132.365769 82.924461 \nL 132.328071 82.78377 \nL 132.288145 82.643695 \nL 132.246003 82.504271 \nL 132.201653 82.365533 \nL 132.155108 82.227516 \nL 132.106378 82.090255 \nL 132.055477 81.953784 \nL 132.002418 81.818139 \nL 131.947212 81.683352 \nL 131.889876 81.549458 \nL 131.830422 81.41649 \nL 131.768866 81.284483 \nL 131.705223 81.153468 \nL 131.639509 81.023481 \nL 131.571742 80.894552 \nL 131.501937 80.766714 \nL 131.430113 80.64 \nL 131.356288 80.514442 \nL 131.280479 80.39007 \nL 131.202707 80.266917 \nL 131.122991 80.145014 \nL 131.041351 80.02439 \nL 130.957807 79.905078 \nL 130.872381 79.787105 \nL 130.785094 79.670503 \nL 130.695967 79.555301 \nL 130.605025 79.441527 \nL 130.512288 79.32921 \nL 130.417781 79.218378 \nL 130.321528 79.109061 \nL 130.223552 79.001284 \nL 130.123878 78.895075 \nL 130.022532 78.790461 \nL 129.919539 78.687468 \nL 129.814925 78.586122 \nL 129.708716 78.486448 \nL 129.600939 78.388472 \nL 129.491622 78.292219 \nL 129.38079 78.197712 \nL 129.268473 78.104975 \nL 129.154699 78.014033 \nL 129.039497 77.924906 \nL 128.922895 77.837619 \nL 128.804922 77.752193 \nL 128.68561 77.668649 \nL 128.564986 77.587009 \nL 128.443083 77.507293 \nL 128.31993 77.429521 \nL 128.195558 77.353712 \nL 128.07 77.279887 \nL 127.943286 77.208063 \nL 127.815448 77.138258 \nL 127.686519 77.070491 \nL 127.556532 77.004777 \nL 127.425517 76.941134 \nL 127.29351 76.879578 \nL 127.160542 76.820124 \nL 127.026648 76.762788 \nL 126.891861 76.707582 \nL 126.756216 76.654523 \nL 126.619745 76.603622 \nL 126.482484 76.554892 \nL 126.344467 76.508347 \nL 126.205729 76.463997 \nL 126.066305 76.421855 \nL 125.92623 76.381929 \nL 125.785539 76.344231 \nL 125.644267 76.30877 \nL 125.502451 76.275555 \nL 125.360125 76.244594 \nL 125.217326 76.215895 \nL 125.07409 76.189465 \nL 124.930453 76.165311 \nL 124.78645 76.143439 \nL 124.642119 76.123855 \nL 124.497495 76.106563 \nL 124.352614 76.091568 \nL 124.207515 76.078873 \nL 124.062232 76.068482 \nL 123.916802 76.060398 \nL 123.771262 76.054622 \nL 123.62565 76.051156 \nL 123.48 76.05 \nL 19.44 76.05 \nL 19.29435 76.051156 \nL 19.148738 76.054622 \nL 19.003198 76.060398 \nL 18.857768 76.068482 \nL 18.712485 76.078873 \nL 18.567386 76.091568 \nL 18.422505 76.106563 \nL 18.277881 76.123855 \nL 18.13355 76.143439 \nL 17.989547 76.165311 \nL 17.84591 76.189465 \nL 17.702674 76.215895 \nL 17.559875 76.244594 \nL 17.417549 76.275555 \nL 17.275733 76.30877 \nL 17.134461 76.344231 \nL 16.99377 76.381929 \nL 16.853695 76.421855 \nL 16.714271 76.463997 \nL 16.575533 76.508347 \nL 16.437516 76.554892 \nL 16.300255 76.603622 \nL 16.163784 76.654523 \nL 16.028139 76.707582 \nL 15.893352 76.762788 \nL 15.759458 76.820124 \nL 15.62649 76.879578 \nL 15.494483 76.941134 \nL 15.363468 77.004777 \nL 15.233481 77.070491 \nL 15.104552 77.138258 \nL 14.976714 77.208063 \nL 14.85 77.279887 \nL 14.724442 77.353712 \nL 14.60007 77.429521 \nL 14.476917 77.507293 \nL 14.355014 77.587009 \nL 14.23439 77.668649 \nL 14.115078 77.752193 \nL 13.997105 77.837619 \nL 13.880503 77.924906 \nL 13.765301 78.014033 \nL 13.651527 78.104975 \nL 13.53921 78.197712 \nL 13.428378 78.292219 \nL 13.319061 78.388472 \nL 13.211284 78.486448 \nL 13.105075 78.586122 \nL 13.000461 78.687468 \nL 12.897468 78.790461 \nL 12.796122 78.895075 \nL 12.696448 79.001284 \nL 12.598472 79.109061 \nL 12.502219 79.218378 \nL 12.407712 79.32921 \nL 12.314975 79.441527 \nL 12.224033 79.555301 \nL 12.134906 79.670503 \nL 12.047619 79.787105 \nL 11.962193 79.905078 \nL 11.878649 80.02439 \nL 11.797009 80.145014 \nL 11.717293 80.266917 \nL 11.639521 80.39007 \nL 11.563712 80.514442 \nL 11.489887 80.64 \nL 11.418063 80.766714 \nL 11.348258 80.894552 \nL 11.280491 81.023481 \nL 11.214777 81.153468 \nL 11.151134 81.284483 \nL 11.089578 81.41649 \nL 11.030124 81.549458 \nL 10.972788 81.683352 \nL 10.917582 81.818139 \nL 10.864523 81.953784 \nL 10.813622 82.090255 \nL 10.764892 82.227516 \nL 10.718347 82.365533 \nL 10.673997 82.504271 \nL 10.631855 82.643695 \nL 10.591929 82.78377 \nL 10.554231 82.924461 \nL 10.51877 83.065733 \nL 10.485555 83.207549 \nL 10.454594 83.349875 \nL 10.425895 83.492674 \nL 10.399465 83.63591 \nL 10.375311 83.779547 \nL 10.353439 83.92355 \nL 10.333855 84.067881 \nL 10.316563 84.212505 \nL 10.301568 84.357386 \nL 10.288873 84.502485 \nL 10.278482 84.647768 \nL 10.270398 84.793198 \nL 10.264622 84.938738 \nL 10.261156 85.08435 \nL 10.26 85.23 \nL 10.26 128.07 \nL 10.261156 128.21565 \nL 10.264622 128.361262 \nL 10.270398 128.506802 \nL 10.278482 128.652232 \nL 10.288873 128.797515 \nL 10.301568 128.942614 \nL 10.316563 129.087495 \nL 10.333855 129.232119 \nL 10.353439 129.37645 \nL 10.375311 129.520453 \nL 10.399465 129.66409 \nL 10.425895 129.807326 \nL 10.454594 129.950125 \nL 10.485555 130.092451 \nL 10.51877 130.234267 \nL 10.554231 130.375539 \nL 10.591929 130.51623 \nL 10.631855 130.656305 \nL 10.673997 130.795729 \nL 10.718347 130.934467 \nL 10.764892 131.072484 \nL 10.813622 131.209745 \nL 10.864523 131.346216 \nL 10.917582 131.481861 \nL 10.972788 131.616648 \nL 11.030124 131.750542 \nL 11.089578 131.88351 \nL 11.151134 132.015517 \nL 11.214777 132.146532 \nL 11.280491 132.276519 \nL 11.348258 132.405448 \nL 11.418063 132.533286 \nL 11.489887 132.66 \nL 11.563712 132.785558 \nL 11.639521 132.90993 \nL 11.717293 133.033083 \nL 11.797009 133.154986 \nL 11.878649 133.27561 \nL 11.962193 133.394922 \nL 12.047619 133.512895 \nL 12.134906 133.629497 \nL 12.224033 133.744699 \nL 12.314975 133.858473 \nL 12.407712 133.97079 \nL 12.502219 134.081622 \nL 12.598472 134.190939 \nL 12.696448 134.298716 \nL 12.796122 134.404925 \nL 12.897468 134.509539 \nL 13.000461 134.612532 \nL 13.105075 134.713878 \nL 13.211284 134.813552 \nL 13.319061 134.911528 \nL 13.428378 135.007781 \nL 13.53921 135.102288 \nL 13.651527 135.195025 \nL 13.765301 135.285967 \nL 13.880503 135.375094 \nL 13.997105 135.462381 \nL 14.115078 135.547807 \nL 14.23439 135.631351 \nL 14.355014 135.712991 \nL 14.476917 135.792707 \nL 14.60007 135.870479 \nL 14.724442 135.946288 \nL 14.85 136.020113 \nL 14.976714 136.091937 \nL 15.104552 136.161742 \nL 15.233481 136.229509 \nL 15.363468 136.295223 \nL 15.494483 136.358866 \nL 15.62649 136.420422 \nL 15.759458 136.479876 \nL 15.893352 136.537212 \nL 16.028139 136.592418 \nL 16.163784 136.645477 \nL 16.300255 136.696378 \nL 16.437516 136.745108 \nL 16.575533 136.791653 \nL 16.714271 136.836003 \nL 16.853695 136.878145 \nL 16.99377 136.918071 \nL 17.134461 136.955769 \nL 17.275733 136.99123 \nL 17.417549 137.024445 \nL 17.559875 137.055406 \nL 17.702674 137.084105 \nL 17.84591 137.110535 \nL 17.989547 137.134689 \nL 18.13355 137.156561 \nL 18.277881 137.176145 \nL 18.422505 137.193437 \nL 18.567386 137.208432 \nL 18.712485 137.221127 \nL 18.857768 137.231518 \nL 19.003198 137.239602 \nL 19.148738 137.245378 \nL 19.29435 137.248844 \nL 19.44 137.25 \nL 123.48 137.25 \nz\n\" clip-path=\"url(#pec3c406484)\" style=\"fill: none; stroke: #000000; stroke-width: 2; stroke-linecap: round\"/>\n   </g>\n   <g id=\"patch_3\">\n    <path d=\"M 178.56 106.65 \nL 239.76 45.45 \nL 300.96 106.65 \nL 239.76 167.85 \nL 178.56 106.65 \nz\n\" clip-path=\"url(#pec3c406484)\" style=\"fill: none; stroke: #000000; stroke-width: 2; stroke-linecap: round\"/>\n   </g>\n   <g id=\"patch_4\">\n    <path d=\"M 475.38 137.25 \nL 475.52565 137.248844 \nL 475.671262 137.245378 \nL 475.816802 137.239602 \nL 475.962232 137.231518 \nL 476.107515 137.221127 \nL 476.252614 137.208432 \nL 476.397495 137.193437 \nL 476.542119 137.176145 \nL 476.68645 137.156561 \nL 476.830453 137.134689 \nL 476.97409 137.110535 \nL 477.117326 137.084105 \nL 477.260125 137.055406 \nL 477.402451 137.024445 \nL 477.544267 136.99123 \nL 477.685539 136.955769 \nL 477.82623 136.918071 \nL 477.966305 136.878145 \nL 478.105729 136.836003 \nL 478.244467 136.791653 \nL 478.382484 136.745108 \nL 478.519745 136.696378 \nL 478.656216 136.645477 \nL 478.791861 136.592418 \nL 478.926648 136.537212 \nL 479.060542 136.479876 \nL 479.19351 136.420422 \nL 479.325517 136.358866 \nL 479.456532 136.295223 \nL 479.586519 136.229509 \nL 479.715448 136.161742 \nL 479.843286 136.091937 \nL 479.97 136.020113 \nL 480.095558 135.946288 \nL 480.21993 135.870479 \nL 480.343083 135.792707 \nL 480.464986 135.712991 \nL 480.58561 135.631351 \nL 480.704922 135.547807 \nL 480.822895 135.462381 \nL 480.939497 135.375094 \nL 481.054699 135.285967 \nL 481.168473 135.195025 \nL 481.28079 135.102288 \nL 481.391622 135.007781 \nL 481.500939 134.911528 \nL 481.608716 134.813552 \nL 481.714925 134.713878 \nL 481.819539 134.612532 \nL 481.922532 134.509539 \nL 482.023878 134.404925 \nL 482.123552 134.298716 \nL 482.221528 134.190939 \nL 482.317781 134.081622 \nL 482.412288 133.97079 \nL 482.505025 133.858473 \nL 482.595967 133.744699 \nL 482.685094 133.629497 \nL 482.772381 133.512895 \nL 482.857807 133.394922 \nL 482.941351 133.27561 \nL 483.022991 133.154986 \nL 483.102707 133.033083 \nL 483.180479 132.90993 \nL 483.256288 132.785558 \nL 483.330113 132.66 \nL 483.401937 132.533286 \nL 483.471742 132.405448 \nL 483.539509 132.276519 \nL 483.605223 132.146532 \nL 483.668866 132.015517 \nL 483.730422 131.88351 \nL 483.789876 131.750542 \nL 483.847212 131.616648 \nL 483.902418 131.481861 \nL 483.955477 131.346216 \nL 484.006378 131.209745 \nL 484.055108 131.072484 \nL 484.101653 130.934467 \nL 484.146003 130.795729 \nL 484.188145 130.656305 \nL 484.228071 130.51623 \nL 484.265769 130.375539 \nL 484.30123 130.234267 \nL 484.334445 130.092451 \nL 484.365406 129.950125 \nL 484.394105 129.807326 \nL 484.420535 129.66409 \nL 484.444689 129.520453 \nL 484.466561 129.37645 \nL 484.486145 129.232119 \nL 484.503437 129.087495 \nL 484.518432 128.942614 \nL 484.531127 128.797515 \nL 484.541518 128.652232 \nL 484.549602 128.506802 \nL 484.555378 128.361262 \nL 484.558844 128.21565 \nL 484.56 128.07 \nL 484.56 85.23 \nL 484.558844 85.08435 \nL 484.555378 84.938738 \nL 484.549602 84.793198 \nL 484.541518 84.647768 \nL 484.531127 84.502485 \nL 484.518432 84.357386 \nL 484.503437 84.212505 \nL 484.486145 84.067881 \nL 484.466561 83.92355 \nL 484.444689 83.779547 \nL 484.420535 83.63591 \nL 484.394105 83.492674 \nL 484.365406 83.349875 \nL 484.334445 83.207549 \nL 484.30123 83.065733 \nL 484.265769 82.924461 \nL 484.228071 82.78377 \nL 484.188145 82.643695 \nL 484.146003 82.504271 \nL 484.101653 82.365533 \nL 484.055108 82.227516 \nL 484.006378 82.090255 \nL 483.955477 81.953784 \nL 483.902418 81.818139 \nL 483.847212 81.683352 \nL 483.789876 81.549458 \nL 483.730422 81.41649 \nL 483.668866 81.284483 \nL 483.605223 81.153468 \nL 483.539509 81.023481 \nL 483.471742 80.894552 \nL 483.401937 80.766714 \nL 483.330113 80.64 \nL 483.256288 80.514442 \nL 483.180479 80.39007 \nL 483.102707 80.266917 \nL 483.022991 80.145014 \nL 482.941351 80.02439 \nL 482.857807 79.905078 \nL 482.772381 79.787105 \nL 482.685094 79.670503 \nL 482.595967 79.555301 \nL 482.505025 79.441527 \nL 482.412288 79.32921 \nL 482.317781 79.218378 \nL 482.221528 79.109061 \nL 482.123552 79.001284 \nL 482.023878 78.895075 \nL 481.922532 78.790461 \nL 481.819539 78.687468 \nL 481.714925 78.586122 \nL 481.608716 78.486448 \nL 481.500939 78.388472 \nL 481.391622 78.292219 \nL 481.28079 78.197712 \nL 481.168473 78.104975 \nL 481.054699 78.014033 \nL 480.939497 77.924906 \nL 480.822895 77.837619 \nL 480.704922 77.752193 \nL 480.58561 77.668649 \nL 480.464986 77.587009 \nL 480.343083 77.507293 \nL 480.21993 77.429521 \nL 480.095558 77.353712 \nL 479.97 77.279887 \nL 479.843286 77.208063 \nL 479.715448 77.138258 \nL 479.586519 77.070491 \nL 479.456532 77.004777 \nL 479.325517 76.941134 \nL 479.19351 76.879578 \nL 479.060542 76.820124 \nL 478.926648 76.762788 \nL 478.791861 76.707582 \nL 478.656216 76.654523 \nL 478.519745 76.603622 \nL 478.382484 76.554892 \nL 478.244467 76.508347 \nL 478.105729 76.463997 \nL 477.966305 76.421855 \nL 477.82623 76.381929 \nL 477.685539 76.344231 \nL 477.544267 76.30877 \nL 477.402451 76.275555 \nL 477.260125 76.244594 \nL 477.117326 76.215895 \nL 476.97409 76.189465 \nL 476.830453 76.165311 \nL 476.68645 76.143439 \nL 476.542119 76.123855 \nL 476.397495 76.106563 \nL 476.252614 76.091568 \nL 476.107515 76.078873 \nL 475.962232 76.068482 \nL 475.816802 76.060398 \nL 475.671262 76.054622 \nL 475.52565 76.051156 \nL 475.38 76.05 \nL 371.34 76.05 \nL 371.19435 76.051156 \nL 371.048738 76.054622 \nL 370.903198 76.060398 \nL 370.757768 76.068482 \nL 370.612485 76.078873 \nL 370.467386 76.091568 \nL 370.322505 76.106563 \nL 370.177881 76.123855 \nL 370.03355 76.143439 \nL 369.889547 76.165311 \nL 369.74591 76.189465 \nL 369.602674 76.215895 \nL 369.459875 76.244594 \nL 369.317549 76.275555 \nL 369.175733 76.30877 \nL 369.034461 76.344231 \nL 368.89377 76.381929 \nL 368.753695 76.421855 \nL 368.614271 76.463997 \nL 368.475533 76.508347 \nL 368.337516 76.554892 \nL 368.200255 76.603622 \nL 368.063784 76.654523 \nL 367.928139 76.707582 \nL 367.793352 76.762788 \nL 367.659458 76.820124 \nL 367.52649 76.879578 \nL 367.394483 76.941134 \nL 367.263468 77.004777 \nL 367.133481 77.070491 \nL 367.004552 77.138258 \nL 366.876714 77.208063 \nL 366.75 77.279887 \nL 366.624442 77.353712 \nL 366.50007 77.429521 \nL 366.376917 77.507293 \nL 366.255014 77.587009 \nL 366.13439 77.668649 \nL 366.015078 77.752193 \nL 365.897105 77.837619 \nL 365.780503 77.924906 \nL 365.665301 78.014033 \nL 365.551527 78.104975 \nL 365.43921 78.197712 \nL 365.328378 78.292219 \nL 365.219061 78.388472 \nL 365.111284 78.486448 \nL 365.005075 78.586122 \nL 364.900461 78.687468 \nL 364.797468 78.790461 \nL 364.696122 78.895075 \nL 364.596448 79.001284 \nL 364.498472 79.109061 \nL 364.402219 79.218378 \nL 364.307712 79.32921 \nL 364.214975 79.441527 \nL 364.124033 79.555301 \nL 364.034906 79.670503 \nL 363.947619 79.787105 \nL 363.862193 79.905078 \nL 363.778649 80.02439 \nL 363.697009 80.145014 \nL 363.617293 80.266917 \nL 363.539521 80.39007 \nL 363.463712 80.514442 \nL 363.389887 80.64 \nL 363.318063 80.766714 \nL 363.248258 80.894552 \nL 363.180491 81.023481 \nL 363.114777 81.153468 \nL 363.051134 81.284483 \nL 362.989578 81.41649 \nL 362.930124 81.549458 \nL 362.872788 81.683352 \nL 362.817582 81.818139 \nL 362.764523 81.953784 \nL 362.713622 82.090255 \nL 362.664892 82.227516 \nL 362.618347 82.365533 \nL 362.573997 82.504271 \nL 362.531855 82.643695 \nL 362.491929 82.78377 \nL 362.454231 82.924461 \nL 362.41877 83.065733 \nL 362.385555 83.207549 \nL 362.354594 83.349875 \nL 362.325895 83.492674 \nL 362.299465 83.63591 \nL 362.275311 83.779547 \nL 362.253439 83.92355 \nL 362.233855 84.067881 \nL 362.216563 84.212505 \nL 362.201568 84.357386 \nL 362.188873 84.502485 \nL 362.178482 84.647768 \nL 362.170398 84.793198 \nL 362.164622 84.938738 \nL 362.161156 85.08435 \nL 362.16 85.23 \nL 362.16 128.07 \nL 362.161156 128.21565 \nL 362.164622 128.361262 \nL 362.170398 128.506802 \nL 362.178482 128.652232 \nL 362.188873 128.797515 \nL 362.201568 128.942614 \nL 362.216563 129.087495 \nL 362.233855 129.232119 \nL 362.253439 129.37645 \nL 362.275311 129.520453 \nL 362.299465 129.66409 \nL 362.325895 129.807326 \nL 362.354594 129.950125 \nL 362.385555 130.092451 \nL 362.41877 130.234267 \nL 362.454231 130.375539 \nL 362.491929 130.51623 \nL 362.531855 130.656305 \nL 362.573997 130.795729 \nL 362.618347 130.934467 \nL 362.664892 131.072484 \nL 362.713622 131.209745 \nL 362.764523 131.346216 \nL 362.817582 131.481861 \nL 362.872788 131.616648 \nL 362.930124 131.750542 \nL 362.989578 131.88351 \nL 363.051134 132.015517 \nL 363.114777 132.146532 \nL 363.180491 132.276519 \nL 363.248258 132.405448 \nL 363.318063 132.533286 \nL 363.389887 132.66 \nL 363.463712 132.785558 \nL 363.539521 132.90993 \nL 363.617293 133.033083 \nL 363.697009 133.154986 \nL 363.778649 133.27561 \nL 363.862193 133.394922 \nL 363.947619 133.512895 \nL 364.034906 133.629497 \nL 364.124033 133.744699 \nL 364.214975 133.858473 \nL 364.307712 133.97079 \nL 364.402219 134.081622 \nL 364.498472 134.190939 \nL 364.596448 134.298716 \nL 364.696122 134.404925 \nL 364.797468 134.509539 \nL 364.900461 134.612532 \nL 365.005075 134.713878 \nL 365.111284 134.813552 \nL 365.219061 134.911528 \nL 365.328378 135.007781 \nL 365.43921 135.102288 \nL 365.551527 135.195025 \nL 365.665301 135.285967 \nL 365.780503 135.375094 \nL 365.897105 135.462381 \nL 366.015078 135.547807 \nL 366.13439 135.631351 \nL 366.255014 135.712991 \nL 366.376917 135.792707 \nL 366.50007 135.870479 \nL 366.624442 135.946288 \nL 366.75 136.020113 \nL 366.876714 136.091937 \nL 367.004552 136.161742 \nL 367.133481 136.229509 \nL 367.263468 136.295223 \nL 367.394483 136.358866 \nL 367.52649 136.420422 \nL 367.659458 136.479876 \nL 367.793352 136.537212 \nL 367.928139 136.592418 \nL 368.063784 136.645477 \nL 368.200255 136.696378 \nL 368.337516 136.745108 \nL 368.475533 136.791653 \nL 368.614271 136.836003 \nL 368.753695 136.878145 \nL 368.89377 136.918071 \nL 369.034461 136.955769 \nL 369.175733 136.99123 \nL 369.317549 137.024445 \nL 369.459875 137.055406 \nL 369.602674 137.084105 \nL 369.74591 137.110535 \nL 369.889547 137.134689 \nL 370.03355 137.156561 \nL 370.177881 137.176145 \nL 370.322505 137.193437 \nL 370.467386 137.208432 \nL 370.612485 137.221127 \nL 370.757768 137.231518 \nL 370.903198 137.239602 \nL 371.048738 137.245378 \nL 371.19435 137.248844 \nL 371.34 137.25 \nL 475.38 137.25 \nz\n\" clip-path=\"url(#pec3c406484)\" style=\"fill: none; stroke: #000000; stroke-width: 2; stroke-linecap: round\"/>\n   </g>\n   <g id=\"patch_5\">\n    <path d=\"M 643.68 137.25 \nL 643.82565 137.248844 \nL 643.971262 137.245378 \nL 644.116802 137.239602 \nL 644.262232 137.231518 \nL 644.407515 137.221127 \nL 644.552614 137.208432 \nL 644.697495 137.193437 \nL 644.842119 137.176145 \nL 644.98645 137.156561 \nL 645.130453 137.134689 \nL 645.27409 137.110535 \nL 645.417326 137.084105 \nL 645.560125 137.055406 \nL 645.702451 137.024445 \nL 645.844267 136.99123 \nL 645.985539 136.955769 \nL 646.12623 136.918071 \nL 646.266305 136.878145 \nL 646.405729 136.836003 \nL 646.544467 136.791653 \nL 646.682484 136.745108 \nL 646.819745 136.696378 \nL 646.956216 136.645477 \nL 647.091861 136.592418 \nL 647.226648 136.537212 \nL 647.360542 136.479876 \nL 647.49351 136.420422 \nL 647.625517 136.358866 \nL 647.756532 136.295223 \nL 647.886519 136.229509 \nL 648.015448 136.161742 \nL 648.143286 136.091937 \nL 648.27 136.020113 \nL 648.395558 135.946288 \nL 648.51993 135.870479 \nL 648.643083 135.792707 \nL 648.764986 135.712991 \nL 648.88561 135.631351 \nL 649.004922 135.547807 \nL 649.122895 135.462381 \nL 649.239497 135.375094 \nL 649.354699 135.285967 \nL 649.468473 135.195025 \nL 649.58079 135.102288 \nL 649.691622 135.007781 \nL 649.800939 134.911528 \nL 649.908716 134.813552 \nL 650.014925 134.713878 \nL 650.119539 134.612532 \nL 650.222532 134.509539 \nL 650.323878 134.404925 \nL 650.423552 134.298716 \nL 650.521528 134.190939 \nL 650.617781 134.081622 \nL 650.712288 133.97079 \nL 650.805025 133.858473 \nL 650.895967 133.744699 \nL 650.985094 133.629497 \nL 651.072381 133.512895 \nL 651.157807 133.394922 \nL 651.241351 133.27561 \nL 651.322991 133.154986 \nL 651.402707 133.033083 \nL 651.480479 132.90993 \nL 651.556288 132.785558 \nL 651.630113 132.66 \nL 651.701937 132.533286 \nL 651.771742 132.405448 \nL 651.839509 132.276519 \nL 651.905223 132.146532 \nL 651.968866 132.015517 \nL 652.030422 131.88351 \nL 652.089876 131.750542 \nL 652.147212 131.616648 \nL 652.202418 131.481861 \nL 652.255477 131.346216 \nL 652.306378 131.209745 \nL 652.355108 131.072484 \nL 652.401653 130.934467 \nL 652.446003 130.795729 \nL 652.488145 130.656305 \nL 652.528071 130.51623 \nL 652.565769 130.375539 \nL 652.60123 130.234267 \nL 652.634445 130.092451 \nL 652.665406 129.950125 \nL 652.694105 129.807326 \nL 652.720535 129.66409 \nL 652.744689 129.520453 \nL 652.766561 129.37645 \nL 652.786145 129.232119 \nL 652.803437 129.087495 \nL 652.818432 128.942614 \nL 652.831127 128.797515 \nL 652.841518 128.652232 \nL 652.849602 128.506802 \nL 652.855378 128.361262 \nL 652.858844 128.21565 \nL 652.86 128.07 \nL 652.86 85.23 \nL 652.858844 85.08435 \nL 652.855378 84.938738 \nL 652.849602 84.793198 \nL 652.841518 84.647768 \nL 652.831127 84.502485 \nL 652.818432 84.357386 \nL 652.803437 84.212505 \nL 652.786145 84.067881 \nL 652.766561 83.92355 \nL 652.744689 83.779547 \nL 652.720535 83.63591 \nL 652.694105 83.492674 \nL 652.665406 83.349875 \nL 652.634445 83.207549 \nL 652.60123 83.065733 \nL 652.565769 82.924461 \nL 652.528071 82.78377 \nL 652.488145 82.643695 \nL 652.446003 82.504271 \nL 652.401653 82.365533 \nL 652.355108 82.227516 \nL 652.306378 82.090255 \nL 652.255477 81.953784 \nL 652.202418 81.818139 \nL 652.147212 81.683352 \nL 652.089876 81.549458 \nL 652.030422 81.41649 \nL 651.968866 81.284483 \nL 651.905223 81.153468 \nL 651.839509 81.023481 \nL 651.771742 80.894552 \nL 651.701937 80.766714 \nL 651.630113 80.64 \nL 651.556288 80.514442 \nL 651.480479 80.39007 \nL 651.402707 80.266917 \nL 651.322991 80.145014 \nL 651.241351 80.02439 \nL 651.157807 79.905078 \nL 651.072381 79.787105 \nL 650.985094 79.670503 \nL 650.895967 79.555301 \nL 650.805025 79.441527 \nL 650.712288 79.32921 \nL 650.617781 79.218378 \nL 650.521528 79.109061 \nL 650.423552 79.001284 \nL 650.323878 78.895075 \nL 650.222532 78.790461 \nL 650.119539 78.687468 \nL 650.014925 78.586122 \nL 649.908716 78.486448 \nL 649.800939 78.388472 \nL 649.691622 78.292219 \nL 649.58079 78.197712 \nL 649.468473 78.104975 \nL 649.354699 78.014033 \nL 649.239497 77.924906 \nL 649.122895 77.837619 \nL 649.004922 77.752193 \nL 648.88561 77.668649 \nL 648.764986 77.587009 \nL 648.643083 77.507293 \nL 648.51993 77.429521 \nL 648.395558 77.353712 \nL 648.27 77.279887 \nL 648.143286 77.208063 \nL 648.015448 77.138258 \nL 647.886519 77.070491 \nL 647.756532 77.004777 \nL 647.625517 76.941134 \nL 647.49351 76.879578 \nL 647.360542 76.820124 \nL 647.226648 76.762788 \nL 647.091861 76.707582 \nL 646.956216 76.654523 \nL 646.819745 76.603622 \nL 646.682484 76.554892 \nL 646.544467 76.508347 \nL 646.405729 76.463997 \nL 646.266305 76.421855 \nL 646.12623 76.381929 \nL 645.985539 76.344231 \nL 645.844267 76.30877 \nL 645.702451 76.275555 \nL 645.560125 76.244594 \nL 645.417326 76.215895 \nL 645.27409 76.189465 \nL 645.130453 76.165311 \nL 644.98645 76.143439 \nL 644.842119 76.123855 \nL 644.697495 76.106563 \nL 644.552614 76.091568 \nL 644.407515 76.078873 \nL 644.262232 76.068482 \nL 644.116802 76.060398 \nL 643.971262 76.054622 \nL 643.82565 76.051156 \nL 643.68 76.05 \nL 539.64 76.05 \nL 539.49435 76.051156 \nL 539.348738 76.054622 \nL 539.203198 76.060398 \nL 539.057768 76.068482 \nL 538.912485 76.078873 \nL 538.767386 76.091568 \nL 538.622505 76.106563 \nL 538.477881 76.123855 \nL 538.33355 76.143439 \nL 538.189547 76.165311 \nL 538.04591 76.189465 \nL 537.902674 76.215895 \nL 537.759875 76.244594 \nL 537.617549 76.275555 \nL 537.475733 76.30877 \nL 537.334461 76.344231 \nL 537.19377 76.381929 \nL 537.053695 76.421855 \nL 536.914271 76.463997 \nL 536.775533 76.508347 \nL 536.637516 76.554892 \nL 536.500255 76.603622 \nL 536.363784 76.654523 \nL 536.228139 76.707582 \nL 536.093352 76.762788 \nL 535.959458 76.820124 \nL 535.82649 76.879578 \nL 535.694483 76.941134 \nL 535.563468 77.004777 \nL 535.433481 77.070491 \nL 535.304552 77.138258 \nL 535.176714 77.208063 \nL 535.05 77.279887 \nL 534.924442 77.353712 \nL 534.80007 77.429521 \nL 534.676917 77.507293 \nL 534.555014 77.587009 \nL 534.43439 77.668649 \nL 534.315078 77.752193 \nL 534.197105 77.837619 \nL 534.080503 77.924906 \nL 533.965301 78.014033 \nL 533.851527 78.104975 \nL 533.73921 78.197712 \nL 533.628378 78.292219 \nL 533.519061 78.388472 \nL 533.411284 78.486448 \nL 533.305075 78.586122 \nL 533.200461 78.687468 \nL 533.097468 78.790461 \nL 532.996122 78.895075 \nL 532.896448 79.001284 \nL 532.798472 79.109061 \nL 532.702219 79.218378 \nL 532.607712 79.32921 \nL 532.514975 79.441527 \nL 532.424033 79.555301 \nL 532.334906 79.670503 \nL 532.247619 79.787105 \nL 532.162193 79.905078 \nL 532.078649 80.02439 \nL 531.997009 80.145014 \nL 531.917293 80.266917 \nL 531.839521 80.39007 \nL 531.763712 80.514442 \nL 531.689887 80.64 \nL 531.618063 80.766714 \nL 531.548258 80.894552 \nL 531.480491 81.023481 \nL 531.414777 81.153468 \nL 531.351134 81.284483 \nL 531.289578 81.41649 \nL 531.230124 81.549458 \nL 531.172788 81.683352 \nL 531.117582 81.818139 \nL 531.064523 81.953784 \nL 531.013622 82.090255 \nL 530.964892 82.227516 \nL 530.918347 82.365533 \nL 530.873997 82.504271 \nL 530.831855 82.643695 \nL 530.791929 82.78377 \nL 530.754231 82.924461 \nL 530.71877 83.065733 \nL 530.685555 83.207549 \nL 530.654594 83.349875 \nL 530.625895 83.492674 \nL 530.599465 83.63591 \nL 530.575311 83.779547 \nL 530.553439 83.92355 \nL 530.533855 84.067881 \nL 530.516563 84.212505 \nL 530.501568 84.357386 \nL 530.488873 84.502485 \nL 530.478482 84.647768 \nL 530.470398 84.793198 \nL 530.464622 84.938738 \nL 530.461156 85.08435 \nL 530.46 85.23 \nL 530.46 128.07 \nL 530.461156 128.21565 \nL 530.464622 128.361262 \nL 530.470398 128.506802 \nL 530.478482 128.652232 \nL 530.488873 128.797515 \nL 530.501568 128.942614 \nL 530.516563 129.087495 \nL 530.533855 129.232119 \nL 530.553439 129.37645 \nL 530.575311 129.520453 \nL 530.599465 129.66409 \nL 530.625895 129.807326 \nL 530.654594 129.950125 \nL 530.685555 130.092451 \nL 530.71877 130.234267 \nL 530.754231 130.375539 \nL 530.791929 130.51623 \nL 530.831855 130.656305 \nL 530.873997 130.795729 \nL 530.918347 130.934467 \nL 530.964892 131.072484 \nL 531.013622 131.209745 \nL 531.064523 131.346216 \nL 531.117582 131.481861 \nL 531.172788 131.616648 \nL 531.230124 131.750542 \nL 531.289578 131.88351 \nL 531.351134 132.015517 \nL 531.414777 132.146532 \nL 531.480491 132.276519 \nL 531.548258 132.405448 \nL 531.618063 132.533286 \nL 531.689887 132.66 \nL 531.763712 132.785558 \nL 531.839521 132.90993 \nL 531.917293 133.033083 \nL 531.997009 133.154986 \nL 532.078649 133.27561 \nL 532.162193 133.394922 \nL 532.247619 133.512895 \nL 532.334906 133.629497 \nL 532.424033 133.744699 \nL 532.514975 133.858473 \nL 532.607712 133.97079 \nL 532.702219 134.081622 \nL 532.798472 134.190939 \nL 532.896448 134.298716 \nL 532.996122 134.404925 \nL 533.097468 134.509539 \nL 533.200461 134.612532 \nL 533.305075 134.713878 \nL 533.411284 134.813552 \nL 533.519061 134.911528 \nL 533.628378 135.007781 \nL 533.73921 135.102288 \nL 533.851527 135.195025 \nL 533.965301 135.285967 \nL 534.080503 135.375094 \nL 534.197105 135.462381 \nL 534.315078 135.547807 \nL 534.43439 135.631351 \nL 534.555014 135.712991 \nL 534.676917 135.792707 \nL 534.80007 135.870479 \nL 534.924442 135.946288 \nL 535.05 136.020113 \nL 535.176714 136.091937 \nL 535.304552 136.161742 \nL 535.433481 136.229509 \nL 535.563468 136.295223 \nL 535.694483 136.358866 \nL 535.82649 136.420422 \nL 535.959458 136.479876 \nL 536.093352 136.537212 \nL 536.228139 136.592418 \nL 536.363784 136.645477 \nL 536.500255 136.696378 \nL 536.637516 136.745108 \nL 536.775533 136.791653 \nL 536.914271 136.836003 \nL 537.053695 136.878145 \nL 537.19377 136.918071 \nL 537.334461 136.955769 \nL 537.475733 136.99123 \nL 537.617549 137.024445 \nL 537.759875 137.055406 \nL 537.902674 137.084105 \nL 538.04591 137.110535 \nL 538.189547 137.134689 \nL 538.33355 137.156561 \nL 538.477881 137.176145 \nL 538.622505 137.193437 \nL 538.767386 137.208432 \nL 538.912485 137.221127 \nL 539.057768 137.231518 \nL 539.203198 137.239602 \nL 539.348738 137.245378 \nL 539.49435 137.248844 \nL 539.64 137.25 \nL 643.68 137.25 \nz\n\" clip-path=\"url(#pec3c406484)\" style=\"fill: none; stroke: #000000; stroke-width: 2; stroke-linecap: round\"/>\n   </g>\n   <g id=\"patch_6\">\n    <path d=\"M 811.98 137.25 \nL 812.12565 137.248844 \nL 812.271262 137.245378 \nL 812.416802 137.239602 \nL 812.562232 137.231518 \nL 812.707515 137.221127 \nL 812.852614 137.208432 \nL 812.997495 137.193437 \nL 813.142119 137.176145 \nL 813.28645 137.156561 \nL 813.430453 137.134689 \nL 813.57409 137.110535 \nL 813.717326 137.084105 \nL 813.860125 137.055406 \nL 814.002451 137.024445 \nL 814.144267 136.99123 \nL 814.285539 136.955769 \nL 814.42623 136.918071 \nL 814.566305 136.878145 \nL 814.705729 136.836003 \nL 814.844467 136.791653 \nL 814.982484 136.745108 \nL 815.119745 136.696378 \nL 815.256216 136.645477 \nL 815.391861 136.592418 \nL 815.526648 136.537212 \nL 815.660542 136.479876 \nL 815.79351 136.420422 \nL 815.925517 136.358866 \nL 816.056532 136.295223 \nL 816.186519 136.229509 \nL 816.315448 136.161742 \nL 816.443286 136.091937 \nL 816.57 136.020113 \nL 816.695558 135.946288 \nL 816.81993 135.870479 \nL 816.943083 135.792707 \nL 817.064986 135.712991 \nL 817.18561 135.631351 \nL 817.304922 135.547807 \nL 817.422895 135.462381 \nL 817.539497 135.375094 \nL 817.654699 135.285967 \nL 817.768473 135.195025 \nL 817.88079 135.102288 \nL 817.991622 135.007781 \nL 818.100939 134.911528 \nL 818.208716 134.813552 \nL 818.314925 134.713878 \nL 818.419539 134.612532 \nL 818.522532 134.509539 \nL 818.623878 134.404925 \nL 818.723552 134.298716 \nL 818.821528 134.190939 \nL 818.917781 134.081622 \nL 819.012288 133.97079 \nL 819.105025 133.858473 \nL 819.195967 133.744699 \nL 819.285094 133.629497 \nL 819.372381 133.512895 \nL 819.457807 133.394922 \nL 819.541351 133.27561 \nL 819.622991 133.154986 \nL 819.702707 133.033083 \nL 819.780479 132.90993 \nL 819.856288 132.785558 \nL 819.930113 132.66 \nL 820.001937 132.533286 \nL 820.071742 132.405448 \nL 820.139509 132.276519 \nL 820.205223 132.146532 \nL 820.268866 132.015517 \nL 820.330422 131.88351 \nL 820.389876 131.750542 \nL 820.447212 131.616648 \nL 820.502418 131.481861 \nL 820.555477 131.346216 \nL 820.606378 131.209745 \nL 820.655108 131.072484 \nL 820.701653 130.934467 \nL 820.746003 130.795729 \nL 820.788145 130.656305 \nL 820.828071 130.51623 \nL 820.865769 130.375539 \nL 820.90123 130.234267 \nL 820.934445 130.092451 \nL 820.965406 129.950125 \nL 820.994105 129.807326 \nL 821.020535 129.66409 \nL 821.044689 129.520453 \nL 821.066561 129.37645 \nL 821.086145 129.232119 \nL 821.103437 129.087495 \nL 821.118432 128.942614 \nL 821.131127 128.797515 \nL 821.141518 128.652232 \nL 821.149602 128.506802 \nL 821.155378 128.361262 \nL 821.158844 128.21565 \nL 821.16 128.07 \nL 821.16 85.23 \nL 821.158844 85.08435 \nL 821.155378 84.938738 \nL 821.149602 84.793198 \nL 821.141518 84.647768 \nL 821.131127 84.502485 \nL 821.118432 84.357386 \nL 821.103437 84.212505 \nL 821.086145 84.067881 \nL 821.066561 83.92355 \nL 821.044689 83.779547 \nL 821.020535 83.63591 \nL 820.994105 83.492674 \nL 820.965406 83.349875 \nL 820.934445 83.207549 \nL 820.90123 83.065733 \nL 820.865769 82.924461 \nL 820.828071 82.78377 \nL 820.788145 82.643695 \nL 820.746003 82.504271 \nL 820.701653 82.365533 \nL 820.655108 82.227516 \nL 820.606378 82.090255 \nL 820.555477 81.953784 \nL 820.502418 81.818139 \nL 820.447212 81.683352 \nL 820.389876 81.549458 \nL 820.330422 81.41649 \nL 820.268866 81.284483 \nL 820.205223 81.153468 \nL 820.139509 81.023481 \nL 820.071742 80.894552 \nL 820.001937 80.766714 \nL 819.930113 80.64 \nL 819.856288 80.514442 \nL 819.780479 80.39007 \nL 819.702707 80.266917 \nL 819.622991 80.145014 \nL 819.541351 80.02439 \nL 819.457807 79.905078 \nL 819.372381 79.787105 \nL 819.285094 79.670503 \nL 819.195967 79.555301 \nL 819.105025 79.441527 \nL 819.012288 79.32921 \nL 818.917781 79.218378 \nL 818.821528 79.109061 \nL 818.723552 79.001284 \nL 818.623878 78.895075 \nL 818.522532 78.790461 \nL 818.419539 78.687468 \nL 818.314925 78.586122 \nL 818.208716 78.486448 \nL 818.100939 78.388472 \nL 817.991622 78.292219 \nL 817.88079 78.197712 \nL 817.768473 78.104975 \nL 817.654699 78.014033 \nL 817.539497 77.924906 \nL 817.422895 77.837619 \nL 817.304922 77.752193 \nL 817.18561 77.668649 \nL 817.064986 77.587009 \nL 816.943083 77.507293 \nL 816.81993 77.429521 \nL 816.695558 77.353712 \nL 816.57 77.279887 \nL 816.443286 77.208063 \nL 816.315448 77.138258 \nL 816.186519 77.070491 \nL 816.056532 77.004777 \nL 815.925517 76.941134 \nL 815.79351 76.879578 \nL 815.660542 76.820124 \nL 815.526648 76.762788 \nL 815.391861 76.707582 \nL 815.256216 76.654523 \nL 815.119745 76.603622 \nL 814.982484 76.554892 \nL 814.844467 76.508347 \nL 814.705729 76.463997 \nL 814.566305 76.421855 \nL 814.42623 76.381929 \nL 814.285539 76.344231 \nL 814.144267 76.30877 \nL 814.002451 76.275555 \nL 813.860125 76.244594 \nL 813.717326 76.215895 \nL 813.57409 76.189465 \nL 813.430453 76.165311 \nL 813.28645 76.143439 \nL 813.142119 76.123855 \nL 812.997495 76.106563 \nL 812.852614 76.091568 \nL 812.707515 76.078873 \nL 812.562232 76.068482 \nL 812.416802 76.060398 \nL 812.271262 76.054622 \nL 812.12565 76.051156 \nL 811.98 76.05 \nL 707.94 76.05 \nL 707.79435 76.051156 \nL 707.648738 76.054622 \nL 707.503198 76.060398 \nL 707.357768 76.068482 \nL 707.212485 76.078873 \nL 707.067386 76.091568 \nL 706.922505 76.106563 \nL 706.777881 76.123855 \nL 706.63355 76.143439 \nL 706.489547 76.165311 \nL 706.34591 76.189465 \nL 706.202674 76.215895 \nL 706.059875 76.244594 \nL 705.917549 76.275555 \nL 705.775733 76.30877 \nL 705.634461 76.344231 \nL 705.49377 76.381929 \nL 705.353695 76.421855 \nL 705.214271 76.463997 \nL 705.075533 76.508347 \nL 704.937516 76.554892 \nL 704.800255 76.603622 \nL 704.663784 76.654523 \nL 704.528139 76.707582 \nL 704.393352 76.762788 \nL 704.259458 76.820124 \nL 704.12649 76.879578 \nL 703.994483 76.941134 \nL 703.863468 77.004777 \nL 703.733481 77.070491 \nL 703.604552 77.138258 \nL 703.476714 77.208063 \nL 703.35 77.279887 \nL 703.224442 77.353712 \nL 703.10007 77.429521 \nL 702.976917 77.507293 \nL 702.855014 77.587009 \nL 702.73439 77.668649 \nL 702.615078 77.752193 \nL 702.497105 77.837619 \nL 702.380503 77.924906 \nL 702.265301 78.014033 \nL 702.151527 78.104975 \nL 702.03921 78.197712 \nL 701.928378 78.292219 \nL 701.819061 78.388472 \nL 701.711284 78.486448 \nL 701.605075 78.586122 \nL 701.500461 78.687468 \nL 701.397468 78.790461 \nL 701.296122 78.895075 \nL 701.196448 79.001284 \nL 701.098472 79.109061 \nL 701.002219 79.218378 \nL 700.907712 79.32921 \nL 700.814975 79.441527 \nL 700.724033 79.555301 \nL 700.634906 79.670503 \nL 700.547619 79.787105 \nL 700.462193 79.905078 \nL 700.378649 80.02439 \nL 700.297009 80.145014 \nL 700.217293 80.266917 \nL 700.139521 80.39007 \nL 700.063712 80.514442 \nL 699.989887 80.64 \nL 699.918063 80.766714 \nL 699.848258 80.894552 \nL 699.780491 81.023481 \nL 699.714777 81.153468 \nL 699.651134 81.284483 \nL 699.589578 81.41649 \nL 699.530124 81.549458 \nL 699.472788 81.683352 \nL 699.417582 81.818139 \nL 699.364523 81.953784 \nL 699.313622 82.090255 \nL 699.264892 82.227516 \nL 699.218347 82.365533 \nL 699.173997 82.504271 \nL 699.131855 82.643695 \nL 699.091929 82.78377 \nL 699.054231 82.924461 \nL 699.01877 83.065733 \nL 698.985555 83.207549 \nL 698.954594 83.349875 \nL 698.925895 83.492674 \nL 698.899465 83.63591 \nL 698.875311 83.779547 \nL 698.853439 83.92355 \nL 698.833855 84.067881 \nL 698.816563 84.212505 \nL 698.801568 84.357386 \nL 698.788873 84.502485 \nL 698.778482 84.647768 \nL 698.770398 84.793198 \nL 698.764622 84.938738 \nL 698.761156 85.08435 \nL 698.76 85.23 \nL 698.76 128.07 \nL 698.761156 128.21565 \nL 698.764622 128.361262 \nL 698.770398 128.506802 \nL 698.778482 128.652232 \nL 698.788873 128.797515 \nL 698.801568 128.942614 \nL 698.816563 129.087495 \nL 698.833855 129.232119 \nL 698.853439 129.37645 \nL 698.875311 129.520453 \nL 698.899465 129.66409 \nL 698.925895 129.807326 \nL 698.954594 129.950125 \nL 698.985555 130.092451 \nL 699.01877 130.234267 \nL 699.054231 130.375539 \nL 699.091929 130.51623 \nL 699.131855 130.656305 \nL 699.173997 130.795729 \nL 699.218347 130.934467 \nL 699.264892 131.072484 \nL 699.313622 131.209745 \nL 699.364523 131.346216 \nL 699.417582 131.481861 \nL 699.472788 131.616648 \nL 699.530124 131.750542 \nL 699.589578 131.88351 \nL 699.651134 132.015517 \nL 699.714777 132.146532 \nL 699.780491 132.276519 \nL 699.848258 132.405448 \nL 699.918063 132.533286 \nL 699.989887 132.66 \nL 700.063712 132.785558 \nL 700.139521 132.90993 \nL 700.217293 133.033083 \nL 700.297009 133.154986 \nL 700.378649 133.27561 \nL 700.462193 133.394922 \nL 700.547619 133.512895 \nL 700.634906 133.629497 \nL 700.724033 133.744699 \nL 700.814975 133.858473 \nL 700.907712 133.97079 \nL 701.002219 134.081622 \nL 701.098472 134.190939 \nL 701.196448 134.298716 \nL 701.296122 134.404925 \nL 701.397468 134.509539 \nL 701.500461 134.612532 \nL 701.605075 134.713878 \nL 701.711284 134.813552 \nL 701.819061 134.911528 \nL 701.928378 135.007781 \nL 702.03921 135.102288 \nL 702.151527 135.195025 \nL 702.265301 135.285967 \nL 702.380503 135.375094 \nL 702.497105 135.462381 \nL 702.615078 135.547807 \nL 702.73439 135.631351 \nL 702.855014 135.712991 \nL 702.976917 135.792707 \nL 703.10007 135.870479 \nL 703.224442 135.946288 \nL 703.35 136.020113 \nL 703.476714 136.091937 \nL 703.604552 136.161742 \nL 703.733481 136.229509 \nL 703.863468 136.295223 \nL 703.994483 136.358866 \nL 704.12649 136.420422 \nL 704.259458 136.479876 \nL 704.393352 136.537212 \nL 704.528139 136.592418 \nL 704.663784 136.645477 \nL 704.800255 136.696378 \nL 704.937516 136.745108 \nL 705.075533 136.791653 \nL 705.214271 136.836003 \nL 705.353695 136.878145 \nL 705.49377 136.918071 \nL 705.634461 136.955769 \nL 705.775733 136.99123 \nL 705.917549 137.024445 \nL 706.059875 137.055406 \nL 706.202674 137.084105 \nL 706.34591 137.110535 \nL 706.489547 137.134689 \nL 706.63355 137.156561 \nL 706.777881 137.176145 \nL 706.922505 137.193437 \nL 707.067386 137.208432 \nL 707.212485 137.221127 \nL 707.357768 137.231518 \nL 707.503198 137.239602 \nL 707.648738 137.245378 \nL 707.79435 137.248844 \nL 707.94 137.25 \nL 811.98 137.25 \nz\n\" clip-path=\"url(#pec3c406484)\" style=\"fill: none; stroke: #000000; stroke-width: 2; stroke-linecap: round\"/>\n   </g>\n   <g id=\"patch_7\">\n    <path d=\"M 867.06 106.65 \nL 928.26 45.45 \nL 989.46 106.65 \nL 928.26 167.85 \nL 867.06 106.65 \nz\n\" clip-path=\"url(#pec3c406484)\" style=\"fill: none; stroke: #000000; stroke-width: 2; stroke-linecap: round\"/>\n   </g>\n   <g id=\"patch_8\">\n    <path d=\"M 291.78 259.65 \nL 291.92565 259.648844 \nL 292.071262 259.645378 \nL 292.216802 259.639602 \nL 292.362232 259.631518 \nL 292.507515 259.621127 \nL 292.652614 259.608432 \nL 292.797495 259.593437 \nL 292.942119 259.576145 \nL 293.08645 259.556561 \nL 293.230453 259.534689 \nL 293.37409 259.510535 \nL 293.517326 259.484105 \nL 293.660125 259.455406 \nL 293.802451 259.424445 \nL 293.944267 259.39123 \nL 294.085539 259.355769 \nL 294.22623 259.318071 \nL 294.366305 259.278145 \nL 294.505729 259.236003 \nL 294.644467 259.191653 \nL 294.782484 259.145108 \nL 294.919745 259.096378 \nL 295.056216 259.045477 \nL 295.191861 258.992418 \nL 295.326648 258.937212 \nL 295.460542 258.879876 \nL 295.59351 258.820422 \nL 295.725517 258.758866 \nL 295.856532 258.695223 \nL 295.986519 258.629509 \nL 296.115448 258.561742 \nL 296.243286 258.491937 \nL 296.37 258.420113 \nL 296.495558 258.346288 \nL 296.61993 258.270479 \nL 296.743083 258.192707 \nL 296.864986 258.112991 \nL 296.98561 258.031351 \nL 297.104922 257.947807 \nL 297.222895 257.862381 \nL 297.339497 257.775094 \nL 297.454699 257.685967 \nL 297.568473 257.595025 \nL 297.68079 257.502288 \nL 297.791622 257.407781 \nL 297.900939 257.311528 \nL 298.008716 257.213552 \nL 298.114925 257.113878 \nL 298.219539 257.012532 \nL 298.322532 256.909539 \nL 298.423878 256.804925 \nL 298.523552 256.698716 \nL 298.621528 256.590939 \nL 298.717781 256.481622 \nL 298.812288 256.37079 \nL 298.905025 256.258473 \nL 298.995967 256.144699 \nL 299.085094 256.029497 \nL 299.172381 255.912895 \nL 299.257807 255.794922 \nL 299.341351 255.67561 \nL 299.422991 255.554986 \nL 299.502707 255.433083 \nL 299.580479 255.30993 \nL 299.656288 255.185558 \nL 299.730113 255.06 \nL 299.801937 254.933286 \nL 299.871742 254.805448 \nL 299.939509 254.676519 \nL 300.005223 254.546532 \nL 300.068866 254.415517 \nL 300.130422 254.28351 \nL 300.189876 254.150542 \nL 300.247212 254.016648 \nL 300.302418 253.881861 \nL 300.355477 253.746216 \nL 300.406378 253.609745 \nL 300.455108 253.472484 \nL 300.501653 253.334467 \nL 300.546003 253.195729 \nL 300.588145 253.056305 \nL 300.628071 252.91623 \nL 300.665769 252.775539 \nL 300.70123 252.634267 \nL 300.734445 252.492451 \nL 300.765406 252.350125 \nL 300.794105 252.207326 \nL 300.820535 252.06409 \nL 300.844689 251.920453 \nL 300.866561 251.77645 \nL 300.886145 251.632119 \nL 300.903437 251.487495 \nL 300.918432 251.342614 \nL 300.931127 251.197515 \nL 300.941518 251.052232 \nL 300.949602 250.906802 \nL 300.955378 250.761262 \nL 300.958844 250.61565 \nL 300.96 250.47 \nL 300.96 207.63 \nL 300.958844 207.48435 \nL 300.955378 207.338738 \nL 300.949602 207.193198 \nL 300.941518 207.047768 \nL 300.931127 206.902485 \nL 300.918432 206.757386 \nL 300.903437 206.612505 \nL 300.886145 206.467881 \nL 300.866561 206.32355 \nL 300.844689 206.179547 \nL 300.820535 206.03591 \nL 300.794105 205.892674 \nL 300.765406 205.749875 \nL 300.734445 205.607549 \nL 300.70123 205.465733 \nL 300.665769 205.324461 \nL 300.628071 205.18377 \nL 300.588145 205.043695 \nL 300.546003 204.904271 \nL 300.501653 204.765533 \nL 300.455108 204.627516 \nL 300.406378 204.490255 \nL 300.355477 204.353784 \nL 300.302418 204.218139 \nL 300.247212 204.083352 \nL 300.189876 203.949458 \nL 300.130422 203.81649 \nL 300.068866 203.684483 \nL 300.005223 203.553468 \nL 299.939509 203.423481 \nL 299.871742 203.294552 \nL 299.801937 203.166714 \nL 299.730113 203.04 \nL 299.656288 202.914442 \nL 299.580479 202.79007 \nL 299.502707 202.666917 \nL 299.422991 202.545014 \nL 299.341351 202.42439 \nL 299.257807 202.305078 \nL 299.172381 202.187105 \nL 299.085094 202.070503 \nL 298.995967 201.955301 \nL 298.905025 201.841527 \nL 298.812288 201.72921 \nL 298.717781 201.618378 \nL 298.621528 201.509061 \nL 298.523552 201.401284 \nL 298.423878 201.295075 \nL 298.322532 201.190461 \nL 298.219539 201.087468 \nL 298.114925 200.986122 \nL 298.008716 200.886448 \nL 297.900939 200.788472 \nL 297.791622 200.692219 \nL 297.68079 200.597712 \nL 297.568473 200.504975 \nL 297.454699 200.414033 \nL 297.339497 200.324906 \nL 297.222895 200.237619 \nL 297.104922 200.152193 \nL 296.98561 200.068649 \nL 296.864986 199.987009 \nL 296.743083 199.907293 \nL 296.61993 199.829521 \nL 296.495558 199.753712 \nL 296.37 199.679887 \nL 296.243286 199.608063 \nL 296.115448 199.538258 \nL 295.986519 199.470491 \nL 295.856532 199.404777 \nL 295.725517 199.341134 \nL 295.59351 199.279578 \nL 295.460542 199.220124 \nL 295.326648 199.162788 \nL 295.191861 199.107582 \nL 295.056216 199.054523 \nL 294.919745 199.003622 \nL 294.782484 198.954892 \nL 294.644467 198.908347 \nL 294.505729 198.863997 \nL 294.366305 198.821855 \nL 294.22623 198.781929 \nL 294.085539 198.744231 \nL 293.944267 198.70877 \nL 293.802451 198.675555 \nL 293.660125 198.644594 \nL 293.517326 198.615895 \nL 293.37409 198.589465 \nL 293.230453 198.565311 \nL 293.08645 198.543439 \nL 292.942119 198.523855 \nL 292.797495 198.506563 \nL 292.652614 198.491568 \nL 292.507515 198.478873 \nL 292.362232 198.468482 \nL 292.216802 198.460398 \nL 292.071262 198.454622 \nL 291.92565 198.451156 \nL 291.78 198.45 \nL 187.74 198.45 \nL 187.59435 198.451156 \nL 187.448738 198.454622 \nL 187.303198 198.460398 \nL 187.157768 198.468482 \nL 187.012485 198.478873 \nL 186.867386 198.491568 \nL 186.722505 198.506563 \nL 186.577881 198.523855 \nL 186.43355 198.543439 \nL 186.289547 198.565311 \nL 186.14591 198.589465 \nL 186.002674 198.615895 \nL 185.859875 198.644594 \nL 185.717549 198.675555 \nL 185.575733 198.70877 \nL 185.434461 198.744231 \nL 185.29377 198.781929 \nL 185.153695 198.821855 \nL 185.014271 198.863997 \nL 184.875533 198.908347 \nL 184.737516 198.954892 \nL 184.600255 199.003622 \nL 184.463784 199.054523 \nL 184.328139 199.107582 \nL 184.193352 199.162788 \nL 184.059458 199.220124 \nL 183.92649 199.279578 \nL 183.794483 199.341134 \nL 183.663468 199.404777 \nL 183.533481 199.470491 \nL 183.404552 199.538258 \nL 183.276714 199.608063 \nL 183.15 199.679887 \nL 183.024442 199.753712 \nL 182.90007 199.829521 \nL 182.776917 199.907293 \nL 182.655014 199.987009 \nL 182.53439 200.068649 \nL 182.415078 200.152193 \nL 182.297105 200.237619 \nL 182.180503 200.324906 \nL 182.065301 200.414033 \nL 181.951527 200.504975 \nL 181.83921 200.597712 \nL 181.728378 200.692219 \nL 181.619061 200.788472 \nL 181.511284 200.886448 \nL 181.405075 200.986122 \nL 181.300461 201.087468 \nL 181.197468 201.190461 \nL 181.096122 201.295075 \nL 180.996448 201.401284 \nL 180.898472 201.509061 \nL 180.802219 201.618378 \nL 180.707712 201.72921 \nL 180.614975 201.841527 \nL 180.524033 201.955301 \nL 180.434906 202.070503 \nL 180.347619 202.187105 \nL 180.262193 202.305078 \nL 180.178649 202.42439 \nL 180.097009 202.545014 \nL 180.017293 202.666917 \nL 179.939521 202.79007 \nL 179.863712 202.914442 \nL 179.789887 203.04 \nL 179.718063 203.166714 \nL 179.648258 203.294552 \nL 179.580491 203.423481 \nL 179.514777 203.553468 \nL 179.451134 203.684483 \nL 179.389578 203.81649 \nL 179.330124 203.949458 \nL 179.272788 204.083352 \nL 179.217582 204.218139 \nL 179.164523 204.353784 \nL 179.113622 204.490255 \nL 179.064892 204.627516 \nL 179.018347 204.765533 \nL 178.973997 204.904271 \nL 178.931855 205.043695 \nL 178.891929 205.18377 \nL 178.854231 205.324461 \nL 178.81877 205.465733 \nL 178.785555 205.607549 \nL 178.754594 205.749875 \nL 178.725895 205.892674 \nL 178.699465 206.03591 \nL 178.675311 206.179547 \nL 178.653439 206.32355 \nL 178.633855 206.467881 \nL 178.616563 206.612505 \nL 178.601568 206.757386 \nL 178.588873 206.902485 \nL 178.578482 207.047768 \nL 178.570398 207.193198 \nL 178.564622 207.338738 \nL 178.561156 207.48435 \nL 178.56 207.63 \nL 178.56 250.47 \nL 178.561156 250.61565 \nL 178.564622 250.761262 \nL 178.570398 250.906802 \nL 178.578482 251.052232 \nL 178.588873 251.197515 \nL 178.601568 251.342614 \nL 178.616563 251.487495 \nL 178.633855 251.632119 \nL 178.653439 251.77645 \nL 178.675311 251.920453 \nL 178.699465 252.06409 \nL 178.725895 252.207326 \nL 178.754594 252.350125 \nL 178.785555 252.492451 \nL 178.81877 252.634267 \nL 178.854231 252.775539 \nL 178.891929 252.91623 \nL 178.931855 253.056305 \nL 178.973997 253.195729 \nL 179.018347 253.334467 \nL 179.064892 253.472484 \nL 179.113622 253.609745 \nL 179.164523 253.746216 \nL 179.217582 253.881861 \nL 179.272788 254.016648 \nL 179.330124 254.150542 \nL 179.389578 254.28351 \nL 179.451134 254.415517 \nL 179.514777 254.546532 \nL 179.580491 254.676519 \nL 179.648258 254.805448 \nL 179.718063 254.933286 \nL 179.789887 255.06 \nL 179.863712 255.185558 \nL 179.939521 255.30993 \nL 180.017293 255.433083 \nL 180.097009 255.554986 \nL 180.178649 255.67561 \nL 180.262193 255.794922 \nL 180.347619 255.912895 \nL 180.434906 256.029497 \nL 180.524033 256.144699 \nL 180.614975 256.258473 \nL 180.707712 256.37079 \nL 180.802219 256.481622 \nL 180.898472 256.590939 \nL 180.996448 256.698716 \nL 181.096122 256.804925 \nL 181.197468 256.909539 \nL 181.300461 257.012532 \nL 181.405075 257.113878 \nL 181.511284 257.213552 \nL 181.619061 257.311528 \nL 181.728378 257.407781 \nL 181.83921 257.502288 \nL 181.951527 257.595025 \nL 182.065301 257.685967 \nL 182.180503 257.775094 \nL 182.297105 257.862381 \nL 182.415078 257.947807 \nL 182.53439 258.031351 \nL 182.655014 258.112991 \nL 182.776917 258.192707 \nL 182.90007 258.270479 \nL 183.024442 258.346288 \nL 183.15 258.420113 \nL 183.276714 258.491937 \nL 183.404552 258.561742 \nL 183.533481 258.629509 \nL 183.663468 258.695223 \nL 183.794483 258.758866 \nL 183.92649 258.820422 \nL 184.059458 258.879876 \nL 184.193352 258.937212 \nL 184.328139 258.992418 \nL 184.463784 259.045477 \nL 184.600255 259.096378 \nL 184.737516 259.145108 \nL 184.875533 259.191653 \nL 185.014271 259.236003 \nL 185.153695 259.278145 \nL 185.29377 259.318071 \nL 185.434461 259.355769 \nL 185.575733 259.39123 \nL 185.717549 259.424445 \nL 185.859875 259.455406 \nL 186.002674 259.484105 \nL 186.14591 259.510535 \nL 186.289547 259.534689 \nL 186.43355 259.556561 \nL 186.577881 259.576145 \nL 186.722505 259.593437 \nL 186.867386 259.608432 \nL 187.012485 259.621127 \nL 187.157768 259.631518 \nL 187.303198 259.639602 \nL 187.448738 259.645378 \nL 187.59435 259.648844 \nL 187.74 259.65 \nL 291.78 259.65 \nz\n\" clip-path=\"url(#pec3c406484)\" style=\"fill: none; stroke: #000000; stroke-width: 2; stroke-linecap: round\"/>\n   </g>\n   <g id=\"line2d_1\">\n    <path d=\"M 132.66 106.65 \nL 155.61 106.65 \nL 170.91 106.65 \n\" clip-path=\"url(#pec3c406484)\" style=\"fill: none; stroke: #000000; stroke-width: 2; stroke-linecap: round\"/>\n   </g>\n   <g id=\"patch_9\">\n    <path d=\"M 170.91 104.355 \nL 178.56 106.65 \nL 170.91 108.945 \nz\n\" clip-path=\"url(#pec3c406484)\"/>\n   </g>\n   <g id=\"line2d_2\">\n    <path d=\"M 300.96 106.65 \nL 331.56 106.65 \nL 354.51 106.65 \n\" clip-path=\"url(#pec3c406484)\" style=\"fill: none; stroke: #000000; stroke-width: 2; stroke-linecap: round\"/>\n   </g>\n   <g id=\"patch_10\">\n    <path d=\"M 354.51 104.355 \nL 362.16 106.65 \nL 354.51 108.945 \nz\n\" clip-path=\"url(#pec3c406484)\"/>\n   </g>\n   <g id=\"line2d_3\">\n    <path d=\"M 484.56 106.65 \nL 507.51 106.65 \nL 522.81 106.65 \n\" clip-path=\"url(#pec3c406484)\" style=\"fill: none; stroke: #000000; stroke-width: 2; stroke-linecap: round\"/>\n   </g>\n   <g id=\"patch_11\">\n    <path d=\"M 522.81 104.355 \nL 530.46 106.65 \nL 522.81 108.945 \nz\n\" clip-path=\"url(#pec3c406484)\"/>\n   </g>\n   <g id=\"line2d_4\">\n    <path d=\"M 652.86 106.65 \nL 675.81 106.65 \nL 691.11 106.65 \n\" clip-path=\"url(#pec3c406484)\" style=\"fill: none; stroke: #000000; stroke-width: 2; stroke-linecap: round\"/>\n   </g>\n   <g id=\"patch_12\">\n    <path d=\"M 691.11 104.355 \nL 698.76 106.65 \nL 691.11 108.945 \nz\n\" clip-path=\"url(#pec3c406484)\"/>\n   </g>\n   <g id=\"line2d_5\">\n    <path d=\"M 821.16 106.65 \nL 844.11 106.65 \nL 859.41 106.65 \n\" clip-path=\"url(#pec3c406484)\" style=\"fill: none; stroke: #000000; stroke-width: 2; stroke-linecap: round\"/>\n   </g>\n   <g id=\"patch_13\">\n    <path d=\"M 859.41 104.355 \nL 867.06 106.65 \nL 859.41 108.945 \nz\n\" clip-path=\"url(#pec3c406484)\"/>\n   </g>\n   <g id=\"line2d_6\">\n    <path d=\"M 239.76 167.85 \nL 239.76 183.15 \nL 239.76 190.8 \n\" clip-path=\"url(#pec3c406484)\" style=\"fill: none; stroke: #000000; stroke-width: 2; stroke-linecap: round\"/>\n   </g>\n   <g id=\"patch_14\">\n    <path d=\"M 242.055 190.8 \nL 239.76 198.45 \nL 237.465 190.8 \nz\n\" clip-path=\"url(#pec3c406484)\"/>\n   </g>\n   <g id=\"line2d_7\">\n    <path d=\"M 300.96 229.05 \nL 423.36 229.05 \nL 423.36 144.9 \n\" clip-path=\"url(#pec3c406484)\" style=\"fill: none; stroke: #000000; stroke-width: 2; stroke-linecap: round\"/>\n   </g>\n   <g id=\"patch_15\">\n    <path d=\"M 421.065 144.9 \nL 423.36 137.25 \nL 425.655 144.9 \nz\n\" clip-path=\"url(#pec3c406484)\"/>\n   </g>\n   <g id=\"line2d_8\">\n    <path d=\"M 928.26 167.85 \nL 928.26 198.45 \nL 591.66 198.45 \nL 591.66 144.9 \n\" clip-path=\"url(#pec3c406484)\" style=\"fill: none; stroke: #000000; stroke-width: 2; stroke-linecap: round\"/>\n   </g>\n   <g id=\"patch_16\">\n    <path d=\"M 589.365 144.9 \nL 591.66 137.25 \nL 593.955 144.9 \nz\n\" clip-path=\"url(#pec3c406484)\"/>\n   </g>\n   <g id=\"line2d_9\">\n    <path d=\"M 928.26 45.45 \nL 928.26 14.85 \nL 71.46 14.85 \nL 71.46 68.4 \n\" clip-path=\"url(#pec3c406484)\" style=\"fill: none; stroke: #000000; stroke-width: 2; stroke-linecap: round\"/>\n   </g>\n   <g id=\"patch_17\">\n    <path d=\"M 73.755 68.4 \nL 71.46 76.05 \nL 69.165 68.4 \nz\n\" clip-path=\"url(#pec3c406484)\"/>\n   </g>\n   <g id=\"text_1\">\n    <g clip-path=\"url(#pec3c406484)\">\n     <!-- Ausgeschaltet -->\n     <g transform=\"translate(27.188516 110.099219) scale(0.125 -0.125)\">\n      <defs>\n       <path id=\"DejaVuSans-41\" d=\"M 2188 4044 \nL 1331 1722 \nL 3047 1722 \nL 2188 4044 \nz\nM 1831 4666 \nL 2547 4666 \nL 4325 0 \nL 3669 0 \nL 3244 1197 \nL 1141 1197 \nL 716 0 \nL 50 0 \nL 1831 4666 \nz\n\" transform=\"scale(0.015625)\"/>\n       <path id=\"DejaVuSans-75\" d=\"M 544 1381 \nL 544 3500 \nL 1119 3500 \nL 1119 1403 \nQ 1119 906 1312 657 \nQ 1506 409 1894 409 \nQ 2359 409 2629 706 \nQ 2900 1003 2900 1516 \nL 2900 3500 \nL 3475 3500 \nL 3475 0 \nL 2900 0 \nL 2900 538 \nQ 2691 219 2414 64 \nQ 2138 -91 1772 -91 \nQ 1169 -91 856 284 \nQ 544 659 544 1381 \nz\nM 1991 3584 \nL 1991 3584 \nz\n\" transform=\"scale(0.015625)\"/>\n       <path id=\"DejaVuSans-73\" d=\"M 2834 3397 \nL 2834 2853 \nQ 2591 2978 2328 3040 \nQ 2066 3103 1784 3103 \nQ 1356 3103 1142 2972 \nQ 928 2841 928 2578 \nQ 928 2378 1081 2264 \nQ 1234 2150 1697 2047 \nL 1894 2003 \nQ 2506 1872 2764 1633 \nQ 3022 1394 3022 966 \nQ 3022 478 2636 193 \nQ 2250 -91 1575 -91 \nQ 1294 -91 989 -36 \nQ 684 19 347 128 \nL 347 722 \nQ 666 556 975 473 \nQ 1284 391 1588 391 \nQ 1994 391 2212 530 \nQ 2431 669 2431 922 \nQ 2431 1156 2273 1281 \nQ 2116 1406 1581 1522 \nL 1381 1569 \nQ 847 1681 609 1914 \nQ 372 2147 372 2553 \nQ 372 3047 722 3315 \nQ 1072 3584 1716 3584 \nQ 2034 3584 2315 3537 \nQ 2597 3491 2834 3397 \nz\n\" transform=\"scale(0.015625)\"/>\n       <path id=\"DejaVuSans-67\" d=\"M 2906 1791 \nQ 2906 2416 2648 2759 \nQ 2391 3103 1925 3103 \nQ 1463 3103 1205 2759 \nQ 947 2416 947 1791 \nQ 947 1169 1205 825 \nQ 1463 481 1925 481 \nQ 2391 481 2648 825 \nQ 2906 1169 2906 1791 \nz\nM 3481 434 \nQ 3481 -459 3084 -895 \nQ 2688 -1331 1869 -1331 \nQ 1566 -1331 1297 -1286 \nQ 1028 -1241 775 -1147 \nL 775 -588 \nQ 1028 -725 1275 -790 \nQ 1522 -856 1778 -856 \nQ 2344 -856 2625 -561 \nQ 2906 -266 2906 331 \nL 2906 616 \nQ 2728 306 2450 153 \nQ 2172 0 1784 0 \nQ 1141 0 747 490 \nQ 353 981 353 1791 \nQ 353 2603 747 3093 \nQ 1141 3584 1784 3584 \nQ 2172 3584 2450 3431 \nQ 2728 3278 2906 2969 \nL 2906 3500 \nL 3481 3500 \nL 3481 434 \nz\n\" transform=\"scale(0.015625)\"/>\n       <path id=\"DejaVuSans-65\" d=\"M 3597 1894 \nL 3597 1613 \nL 953 1613 \nQ 991 1019 1311 708 \nQ 1631 397 2203 397 \nQ 2534 397 2845 478 \nQ 3156 559 3463 722 \nL 3463 178 \nQ 3153 47 2828 -22 \nQ 2503 -91 2169 -91 \nQ 1331 -91 842 396 \nQ 353 884 353 1716 \nQ 353 2575 817 3079 \nQ 1281 3584 2069 3584 \nQ 2775 3584 3186 3129 \nQ 3597 2675 3597 1894 \nz\nM 3022 2063 \nQ 3016 2534 2758 2815 \nQ 2500 3097 2075 3097 \nQ 1594 3097 1305 2825 \nQ 1016 2553 972 2059 \nL 3022 2063 \nz\n\" transform=\"scale(0.015625)\"/>\n       <path id=\"DejaVuSans-63\" d=\"M 3122 3366 \nL 3122 2828 \nQ 2878 2963 2633 3030 \nQ 2388 3097 2138 3097 \nQ 1578 3097 1268 2742 \nQ 959 2388 959 1747 \nQ 959 1106 1268 751 \nQ 1578 397 2138 397 \nQ 2388 397 2633 464 \nQ 2878 531 3122 666 \nL 3122 134 \nQ 2881 22 2623 -34 \nQ 2366 -91 2075 -91 \nQ 1284 -91 818 406 \nQ 353 903 353 1747 \nQ 353 2603 823 3093 \nQ 1294 3584 2113 3584 \nQ 2378 3584 2631 3529 \nQ 2884 3475 3122 3366 \nz\n\" transform=\"scale(0.015625)\"/>\n       <path id=\"DejaVuSans-68\" d=\"M 3513 2113 \nL 3513 0 \nL 2938 0 \nL 2938 2094 \nQ 2938 2591 2744 2837 \nQ 2550 3084 2163 3084 \nQ 1697 3084 1428 2787 \nQ 1159 2491 1159 1978 \nL 1159 0 \nL 581 0 \nL 581 4863 \nL 1159 4863 \nL 1159 2956 \nQ 1366 3272 1645 3428 \nQ 1925 3584 2291 3584 \nQ 2894 3584 3203 3211 \nQ 3513 2838 3513 2113 \nz\n\" transform=\"scale(0.015625)\"/>\n       <path id=\"DejaVuSans-61\" d=\"M 2194 1759 \nQ 1497 1759 1228 1600 \nQ 959 1441 959 1056 \nQ 959 750 1161 570 \nQ 1363 391 1709 391 \nQ 2188 391 2477 730 \nQ 2766 1069 2766 1631 \nL 2766 1759 \nL 2194 1759 \nz\nM 3341 1997 \nL 3341 0 \nL 2766 0 \nL 2766 531 \nQ 2569 213 2275 61 \nQ 1981 -91 1556 -91 \nQ 1019 -91 701 211 \nQ 384 513 384 1019 \nQ 384 1609 779 1909 \nQ 1175 2209 1959 2209 \nL 2766 2209 \nL 2766 2266 \nQ 2766 2663 2505 2880 \nQ 2244 3097 1772 3097 \nQ 1472 3097 1187 3025 \nQ 903 2953 641 2809 \nL 641 3341 \nQ 956 3463 1253 3523 \nQ 1550 3584 1831 3584 \nQ 2591 3584 2966 3190 \nQ 3341 2797 3341 1997 \nz\n\" transform=\"scale(0.015625)\"/>\n       <path id=\"DejaVuSans-6c\" d=\"M 603 4863 \nL 1178 4863 \nL 1178 0 \nL 603 0 \nL 603 4863 \nz\n\" transform=\"scale(0.015625)\"/>\n       <path id=\"DejaVuSans-74\" d=\"M 1172 4494 \nL 1172 3500 \nL 2356 3500 \nL 2356 3053 \nL 1172 3053 \nL 1172 1153 \nQ 1172 725 1289 603 \nQ 1406 481 1766 481 \nL 2356 481 \nL 2356 0 \nL 1766 0 \nQ 1100 0 847 248 \nQ 594 497 594 1153 \nL 594 3053 \nL 172 3053 \nL 172 3500 \nL 594 3500 \nL 594 4494 \nL 1172 4494 \nz\n\" transform=\"scale(0.015625)\"/>\n      </defs>\n      <use xlink:href=\"#DejaVuSans-41\"/>\n      <use xlink:href=\"#DejaVuSans-75\" x=\"68.408203\"/>\n      <use xlink:href=\"#DejaVuSans-73\" x=\"131.787109\"/>\n      <use xlink:href=\"#DejaVuSans-67\" x=\"183.886719\"/>\n      <use xlink:href=\"#DejaVuSans-65\" x=\"247.363281\"/>\n      <use xlink:href=\"#DejaVuSans-73\" x=\"308.886719\"/>\n      <use xlink:href=\"#DejaVuSans-63\" x=\"360.986328\"/>\n      <use xlink:href=\"#DejaVuSans-68\" x=\"415.966797\"/>\n      <use xlink:href=\"#DejaVuSans-61\" x=\"479.345703\"/>\n      <use xlink:href=\"#DejaVuSans-6c\" x=\"540.625\"/>\n      <use xlink:href=\"#DejaVuSans-74\" x=\"568.408203\"/>\n      <use xlink:href=\"#DejaVuSans-65\" x=\"607.617188\"/>\n      <use xlink:href=\"#DejaVuSans-74\" x=\"669.140625\"/>\n     </g>\n    </g>\n   </g>\n   <g id=\"text_2\">\n    <g clip-path=\"url(#pec3c406484)\">\n     <!-- Automatisch -->\n     <g transform=\"translate(243.738 181.326047) scale(0.125 -0.125)\">\n      <defs>\n       <path id=\"DejaVuSans-6f\" d=\"M 1959 3097 \nQ 1497 3097 1228 2736 \nQ 959 2375 959 1747 \nQ 959 1119 1226 758 \nQ 1494 397 1959 397 \nQ 2419 397 2687 759 \nQ 2956 1122 2956 1747 \nQ 2956 2369 2687 2733 \nQ 2419 3097 1959 3097 \nz\nM 1959 3584 \nQ 2709 3584 3137 3096 \nQ 3566 2609 3566 1747 \nQ 3566 888 3137 398 \nQ 2709 -91 1959 -91 \nQ 1206 -91 779 398 \nQ 353 888 353 1747 \nQ 353 2609 779 3096 \nQ 1206 3584 1959 3584 \nz\n\" transform=\"scale(0.015625)\"/>\n       <path id=\"DejaVuSans-6d\" d=\"M 3328 2828 \nQ 3544 3216 3844 3400 \nQ 4144 3584 4550 3584 \nQ 5097 3584 5394 3201 \nQ 5691 2819 5691 2113 \nL 5691 0 \nL 5113 0 \nL 5113 2094 \nQ 5113 2597 4934 2840 \nQ 4756 3084 4391 3084 \nQ 3944 3084 3684 2787 \nQ 3425 2491 3425 1978 \nL 3425 0 \nL 2847 0 \nL 2847 2094 \nQ 2847 2600 2669 2842 \nQ 2491 3084 2119 3084 \nQ 1678 3084 1418 2786 \nQ 1159 2488 1159 1978 \nL 1159 0 \nL 581 0 \nL 581 3500 \nL 1159 3500 \nL 1159 2956 \nQ 1356 3278 1631 3431 \nQ 1906 3584 2284 3584 \nQ 2666 3584 2933 3390 \nQ 3200 3197 3328 2828 \nz\n\" transform=\"scale(0.015625)\"/>\n       <path id=\"DejaVuSans-69\" d=\"M 603 3500 \nL 1178 3500 \nL 1178 0 \nL 603 0 \nL 603 3500 \nz\nM 603 4863 \nL 1178 4863 \nL 1178 4134 \nL 603 4134 \nL 603 4863 \nz\n\" transform=\"scale(0.015625)\"/>\n      </defs>\n      <use xlink:href=\"#DejaVuSans-41\"/>\n      <use xlink:href=\"#DejaVuSans-75\" x=\"68.408203\"/>\n      <use xlink:href=\"#DejaVuSans-74\" x=\"131.787109\"/>\n      <use xlink:href=\"#DejaVuSans-6f\" x=\"170.996094\"/>\n      <use xlink:href=\"#DejaVuSans-6d\" x=\"232.177734\"/>\n      <use xlink:href=\"#DejaVuSans-61\" x=\"329.589844\"/>\n      <use xlink:href=\"#DejaVuSans-74\" x=\"390.869141\"/>\n      <use xlink:href=\"#DejaVuSans-69\" x=\"430.078125\"/>\n      <use xlink:href=\"#DejaVuSans-73\" x=\"457.861328\"/>\n      <use xlink:href=\"#DejaVuSans-63\" x=\"509.960938\"/>\n      <use xlink:href=\"#DejaVuSans-68\" x=\"564.941406\"/>\n     </g>\n    </g>\n   </g>\n   <g id=\"text_3\">\n    <g clip-path=\"url(#pec3c406484)\">\n     <!-- Manuell -->\n     <g transform=\"translate(304.938 100.072391) scale(0.125 -0.125)\">\n      <defs>\n       <path id=\"DejaVuSans-4d\" d=\"M 628 4666 \nL 1569 4666 \nL 2759 1491 \nL 3956 4666 \nL 4897 4666 \nL 4897 0 \nL 4281 0 \nL 4281 4097 \nL 3078 897 \nL 2444 897 \nL 1241 4097 \nL 1241 0 \nL 628 0 \nL 628 4666 \nz\n\" transform=\"scale(0.015625)\"/>\n       <path id=\"DejaVuSans-6e\" d=\"M 3513 2113 \nL 3513 0 \nL 2938 0 \nL 2938 2094 \nQ 2938 2591 2744 2837 \nQ 2550 3084 2163 3084 \nQ 1697 3084 1428 2787 \nQ 1159 2491 1159 1978 \nL 1159 0 \nL 581 0 \nL 581 3500 \nL 1159 3500 \nL 1159 2956 \nQ 1366 3272 1645 3428 \nQ 1925 3584 2291 3584 \nQ 2894 3584 3203 3211 \nQ 3513 2838 3513 2113 \nz\n\" transform=\"scale(0.015625)\"/>\n      </defs>\n      <use xlink:href=\"#DejaVuSans-4d\"/>\n      <use xlink:href=\"#DejaVuSans-61\" x=\"86.279297\"/>\n      <use xlink:href=\"#DejaVuSans-6e\" x=\"147.558594\"/>\n      <use xlink:href=\"#DejaVuSans-75\" x=\"210.9375\"/>\n      <use xlink:href=\"#DejaVuSans-65\" x=\"274.316406\"/>\n      <use xlink:href=\"#DejaVuSans-6c\" x=\"335.839844\"/>\n      <use xlink:href=\"#DejaVuSans-6c\" x=\"363.623047\"/>\n     </g>\n    </g>\n   </g>\n   <g id=\"text_4\">\n    <g clip-path=\"url(#pec3c406484)\">\n     <!-- Art der -->\n     <g transform=\"translate(218.095937 103.100586) scale(0.125 -0.125)\">\n      <defs>\n       <path id=\"DejaVuSans-72\" d=\"M 2631 2963 \nQ 2534 3019 2420 3045 \nQ 2306 3072 2169 3072 \nQ 1681 3072 1420 2755 \nQ 1159 2438 1159 1844 \nL 1159 0 \nL 581 0 \nL 581 3500 \nL 1159 3500 \nL 1159 2956 \nQ 1341 3275 1631 3429 \nQ 1922 3584 2338 3584 \nQ 2397 3584 2469 3576 \nQ 2541 3569 2628 3553 \nL 2631 2963 \nz\n\" transform=\"scale(0.015625)\"/>\n       <path id=\"DejaVuSans-20\" transform=\"scale(0.015625)\"/>\n       <path id=\"DejaVuSans-64\" d=\"M 2906 2969 \nL 2906 4863 \nL 3481 4863 \nL 3481 0 \nL 2906 0 \nL 2906 525 \nQ 2725 213 2448 61 \nQ 2172 -91 1784 -91 \nQ 1150 -91 751 415 \nQ 353 922 353 1747 \nQ 353 2572 751 3078 \nQ 1150 3584 1784 3584 \nQ 2172 3584 2448 3432 \nQ 2725 3281 2906 2969 \nz\nM 947 1747 \nQ 947 1113 1208 752 \nQ 1469 391 1925 391 \nQ 2381 391 2643 752 \nQ 2906 1113 2906 1747 \nQ 2906 2381 2643 2742 \nQ 2381 3103 1925 3103 \nQ 1469 3103 1208 2742 \nQ 947 2381 947 1747 \nz\n\" transform=\"scale(0.015625)\"/>\n      </defs>\n      <use xlink:href=\"#DejaVuSans-41\"/>\n      <use xlink:href=\"#DejaVuSans-72\" x=\"68.408203\"/>\n      <use xlink:href=\"#DejaVuSans-74\" x=\"109.521484\"/>\n      <use xlink:href=\"#DejaVuSans-20\" x=\"148.730469\"/>\n      <use xlink:href=\"#DejaVuSans-64\" x=\"180.517578\"/>\n      <use xlink:href=\"#DejaVuSans-65\" x=\"243.994141\"/>\n      <use xlink:href=\"#DejaVuSans-72\" x=\"305.517578\"/>\n     </g>\n    </g>\n    <g clip-path=\"url(#pec3c406484)\">\n     <!-- Zündung -->\n     <g transform=\"translate(211.699453 117.097852) scale(0.125 -0.125)\">\n      <defs>\n       <path id=\"DejaVuSans-5a\" d=\"M 359 4666 \nL 4025 4666 \nL 4025 4184 \nL 1075 531 \nL 4097 531 \nL 4097 0 \nL 288 0 \nL 288 481 \nL 3238 4134 \nL 359 4134 \nL 359 4666 \nz\n\" transform=\"scale(0.015625)\"/>\n       <path id=\"DejaVuSans-fc\" d=\"M 544 1381 \nL 544 3500 \nL 1119 3500 \nL 1119 1403 \nQ 1119 906 1312 657 \nQ 1506 409 1894 409 \nQ 2359 409 2629 706 \nQ 2900 1003 2900 1516 \nL 2900 3500 \nL 3475 3500 \nL 3475 0 \nL 2900 0 \nL 2900 538 \nQ 2691 219 2414 64 \nQ 2138 -91 1772 -91 \nQ 1169 -91 856 284 \nQ 544 659 544 1381 \nz\nM 1991 3584 \nL 1991 3584 \nz\nM 2278 4850 \nL 2913 4850 \nL 2913 4219 \nL 2278 4219 \nL 2278 4850 \nz\nM 1056 4850 \nL 1691 4850 \nL 1691 4219 \nL 1056 4219 \nL 1056 4850 \nz\n\" transform=\"scale(0.015625)\"/>\n      </defs>\n      <use xlink:href=\"#DejaVuSans-5a\"/>\n      <use xlink:href=\"#DejaVuSans-fc\" x=\"68.505859\"/>\n      <use xlink:href=\"#DejaVuSans-6e\" x=\"131.884766\"/>\n      <use xlink:href=\"#DejaVuSans-64\" x=\"195.263672\"/>\n      <use xlink:href=\"#DejaVuSans-75\" x=\"258.740234\"/>\n      <use xlink:href=\"#DejaVuSans-6e\" x=\"322.119141\"/>\n      <use xlink:href=\"#DejaVuSans-67\" x=\"385.498047\"/>\n     </g>\n    </g>\n   </g>\n   <g id=\"text_5\">\n    <g clip-path=\"url(#pec3c406484)\">\n     <!-- Anzünden -->\n     <g transform=\"translate(392.147109 103.100586) scale(0.125 -0.125)\">\n      <defs>\n       <path id=\"DejaVuSans-7a\" d=\"M 353 3500 \nL 3084 3500 \nL 3084 2975 \nL 922 459 \nL 3084 459 \nL 3084 0 \nL 275 0 \nL 275 525 \nL 2438 3041 \nL 353 3041 \nL 353 3500 \nz\n\" transform=\"scale(0.015625)\"/>\n      </defs>\n      <use xlink:href=\"#DejaVuSans-41\"/>\n      <use xlink:href=\"#DejaVuSans-6e\" x=\"68.408203\"/>\n      <use xlink:href=\"#DejaVuSans-7a\" x=\"131.787109\"/>\n      <use xlink:href=\"#DejaVuSans-fc\" x=\"184.277344\"/>\n      <use xlink:href=\"#DejaVuSans-6e\" x=\"247.65625\"/>\n      <use xlink:href=\"#DejaVuSans-64\" x=\"311.035156\"/>\n      <use xlink:href=\"#DejaVuSans-65\" x=\"374.511719\"/>\n      <use xlink:href=\"#DejaVuSans-6e\" x=\"436.035156\"/>\n     </g>\n    </g>\n    <g clip-path=\"url(#pec3c406484)\">\n     <!-- Anheizen -->\n     <g transform=\"translate(394.493789 117.097852) scale(0.125 -0.125)\">\n      <use xlink:href=\"#DejaVuSans-41\"/>\n      <use xlink:href=\"#DejaVuSans-6e\" x=\"68.408203\"/>\n      <use xlink:href=\"#DejaVuSans-68\" x=\"131.787109\"/>\n      <use xlink:href=\"#DejaVuSans-65\" x=\"195.166016\"/>\n      <use xlink:href=\"#DejaVuSans-69\" x=\"256.689453\"/>\n      <use xlink:href=\"#DejaVuSans-7a\" x=\"284.472656\"/>\n      <use xlink:href=\"#DejaVuSans-65\" x=\"336.962891\"/>\n      <use xlink:href=\"#DejaVuSans-6e\" x=\"398.486328\"/>\n     </g>\n    </g>\n   </g>\n   <g id=\"text_6\">\n    <g clip-path=\"url(#pec3c406484)\">\n     <!-- Automatik -->\n     <g transform=\"translate(559.425625 110.099219) scale(0.125 -0.125)\">\n      <defs>\n       <path id=\"DejaVuSans-6b\" d=\"M 581 4863 \nL 1159 4863 \nL 1159 1991 \nL 2875 3500 \nL 3609 3500 \nL 1753 1863 \nL 3688 0 \nL 2938 0 \nL 1159 1709 \nL 1159 0 \nL 581 0 \nL 581 4863 \nz\n\" transform=\"scale(0.015625)\"/>\n      </defs>\n      <use xlink:href=\"#DejaVuSans-41\"/>\n      <use xlink:href=\"#DejaVuSans-75\" x=\"68.408203\"/>\n      <use xlink:href=\"#DejaVuSans-74\" x=\"131.787109\"/>\n      <use xlink:href=\"#DejaVuSans-6f\" x=\"170.996094\"/>\n      <use xlink:href=\"#DejaVuSans-6d\" x=\"232.177734\"/>\n      <use xlink:href=\"#DejaVuSans-61\" x=\"329.589844\"/>\n      <use xlink:href=\"#DejaVuSans-74\" x=\"390.869141\"/>\n      <use xlink:href=\"#DejaVuSans-69\" x=\"430.078125\"/>\n      <use xlink:href=\"#DejaVuSans-6b\" x=\"457.861328\"/>\n     </g>\n    </g>\n   </g>\n   <g id=\"text_7\">\n    <g clip-path=\"url(#pec3c406484)\">\n     <!-- Ausbrennen -->\n     <g transform=\"translate(722.497109 110.099219) scale(0.125 -0.125)\">\n      <defs>\n       <path id=\"DejaVuSans-62\" d=\"M 3116 1747 \nQ 3116 2381 2855 2742 \nQ 2594 3103 2138 3103 \nQ 1681 3103 1420 2742 \nQ 1159 2381 1159 1747 \nQ 1159 1113 1420 752 \nQ 1681 391 2138 391 \nQ 2594 391 2855 752 \nQ 3116 1113 3116 1747 \nz\nM 1159 2969 \nQ 1341 3281 1617 3432 \nQ 1894 3584 2278 3584 \nQ 2916 3584 3314 3078 \nQ 3713 2572 3713 1747 \nQ 3713 922 3314 415 \nQ 2916 -91 2278 -91 \nQ 1894 -91 1617 61 \nQ 1341 213 1159 525 \nL 1159 0 \nL 581 0 \nL 581 4863 \nL 1159 4863 \nL 1159 2969 \nz\n\" transform=\"scale(0.015625)\"/>\n      </defs>\n      <use xlink:href=\"#DejaVuSans-41\"/>\n      <use xlink:href=\"#DejaVuSans-75\" x=\"68.408203\"/>\n      <use xlink:href=\"#DejaVuSans-73\" x=\"131.787109\"/>\n      <use xlink:href=\"#DejaVuSans-62\" x=\"183.886719\"/>\n      <use xlink:href=\"#DejaVuSans-72\" x=\"247.363281\"/>\n      <use xlink:href=\"#DejaVuSans-65\" x=\"286.226562\"/>\n      <use xlink:href=\"#DejaVuSans-6e\" x=\"347.75\"/>\n      <use xlink:href=\"#DejaVuSans-6e\" x=\"411.128906\"/>\n      <use xlink:href=\"#DejaVuSans-65\" x=\"474.507812\"/>\n      <use xlink:href=\"#DejaVuSans-6e\" x=\"536.03125\"/>\n     </g>\n    </g>\n   </g>\n   <g id=\"text_8\">\n    <g clip-path=\"url(#pec3c406484)\">\n     <!-- Nein -->\n     <g transform=\"translate(932.238 38.872391) scale(0.125 -0.125)\">\n      <defs>\n       <path id=\"DejaVuSans-4e\" d=\"M 628 4666 \nL 1478 4666 \nL 3547 763 \nL 3547 4666 \nL 4159 4666 \nL 4159 0 \nL 3309 0 \nL 1241 3903 \nL 1241 0 \nL 628 0 \nL 628 4666 \nz\n\" transform=\"scale(0.015625)\"/>\n      </defs>\n      <use xlink:href=\"#DejaVuSans-4e\"/>\n      <use xlink:href=\"#DejaVuSans-65\" x=\"74.804688\"/>\n      <use xlink:href=\"#DejaVuSans-69\" x=\"136.328125\"/>\n      <use xlink:href=\"#DejaVuSans-6e\" x=\"164.111328\"/>\n     </g>\n    </g>\n   </g>\n   <g id=\"text_9\">\n    <g clip-path=\"url(#pec3c406484)\">\n     <!-- Ja -->\n     <g transform=\"translate(932.238 181.326047) scale(0.125 -0.125)\">\n      <defs>\n       <path id=\"DejaVuSans-4a\" d=\"M 628 4666 \nL 1259 4666 \nL 1259 325 \nQ 1259 -519 939 -900 \nQ 619 -1281 -91 -1281 \nL -331 -1281 \nL -331 -750 \nL -134 -750 \nQ 284 -750 456 -515 \nQ 628 -281 628 325 \nL 628 4666 \nz\n\" transform=\"scale(0.015625)\"/>\n      </defs>\n      <use xlink:href=\"#DejaVuSans-4a\"/>\n      <use xlink:href=\"#DejaVuSans-61\" x=\"29.492188\"/>\n     </g>\n    </g>\n   </g>\n   <g id=\"text_10\">\n    <g clip-path=\"url(#pec3c406484)\">\n     <!-- Holz -->\n     <g transform=\"translate(914.718984 103.100586) scale(0.125 -0.125)\">\n      <defs>\n       <path id=\"DejaVuSans-48\" d=\"M 628 4666 \nL 1259 4666 \nL 1259 2753 \nL 3553 2753 \nL 3553 4666 \nL 4184 4666 \nL 4184 0 \nL 3553 0 \nL 3553 2222 \nL 1259 2222 \nL 1259 0 \nL 628 0 \nL 628 4666 \nz\n\" transform=\"scale(0.015625)\"/>\n      </defs>\n      <use xlink:href=\"#DejaVuSans-48\"/>\n      <use xlink:href=\"#DejaVuSans-6f\" x=\"75.195312\"/>\n      <use xlink:href=\"#DejaVuSans-6c\" x=\"136.376953\"/>\n      <use xlink:href=\"#DejaVuSans-7a\" x=\"164.160156\"/>\n     </g>\n    </g>\n    <g clip-path=\"url(#pec3c406484)\">\n     <!-- nachgelegt -->\n     <g transform=\"translate(893.258047 117.097852) scale(0.125 -0.125)\">\n      <use xlink:href=\"#DejaVuSans-6e\"/>\n      <use xlink:href=\"#DejaVuSans-61\" x=\"63.378906\"/>\n      <use xlink:href=\"#DejaVuSans-63\" x=\"124.658203\"/>\n      <use xlink:href=\"#DejaVuSans-68\" x=\"179.638672\"/>\n      <use xlink:href=\"#DejaVuSans-67\" x=\"243.017578\"/>\n      <use xlink:href=\"#DejaVuSans-65\" x=\"306.494141\"/>\n      <use xlink:href=\"#DejaVuSans-6c\" x=\"368.017578\"/>\n      <use xlink:href=\"#DejaVuSans-65\" x=\"395.800781\"/>\n      <use xlink:href=\"#DejaVuSans-67\" x=\"457.324219\"/>\n      <use xlink:href=\"#DejaVuSans-74\" x=\"520.800781\"/>\n     </g>\n    </g>\n   </g>\n   <g id=\"text_11\">\n    <g clip-path=\"url(#pec3c406484)\">\n     <!-- Zündung bereit -->\n     <g transform=\"translate(191.438711 232.499219) scale(0.125 -0.125)\">\n      <use xlink:href=\"#DejaVuSans-5a\"/>\n      <use xlink:href=\"#DejaVuSans-fc\" x=\"68.505859\"/>\n      <use xlink:href=\"#DejaVuSans-6e\" x=\"131.884766\"/>\n      <use xlink:href=\"#DejaVuSans-64\" x=\"195.263672\"/>\n      <use xlink:href=\"#DejaVuSans-75\" x=\"258.740234\"/>\n      <use xlink:href=\"#DejaVuSans-6e\" x=\"322.119141\"/>\n      <use xlink:href=\"#DejaVuSans-67\" x=\"385.498047\"/>\n      <use xlink:href=\"#DejaVuSans-20\" x=\"448.974609\"/>\n      <use xlink:href=\"#DejaVuSans-62\" x=\"480.761719\"/>\n      <use xlink:href=\"#DejaVuSans-65\" x=\"544.238281\"/>\n      <use xlink:href=\"#DejaVuSans-72\" x=\"605.761719\"/>\n      <use xlink:href=\"#DejaVuSans-65\" x=\"644.625\"/>\n      <use xlink:href=\"#DejaVuSans-69\" x=\"706.148438\"/>\n      <use xlink:href=\"#DejaVuSans-74\" x=\"733.931641\"/>\n     </g>\n    </g>\n   </g>\n  </g>\n </g>\n <defs>\n  <clipPath id=\"pec3c406484\">\n   <rect x=\"7.2\" y=\"7.2\" width=\"985.32\" height=\"255.51\"/>\n  </clipPath>\n </defs>\n</svg>\n",
      "image/png": "[encoded data removed]"
     },
     "metadata": {},
     "output_type": "display_data"
    }
   ],
   "source": [
    "import schemdraw\n",
    "from schemdraw.flow import *\n",
    "\n",
    "with schemdraw.Drawing() as d:\n",
    "    #Ausgeschaltet\n",
    "    d+= (Ausgeschaltet := RoundBox(w = 4).label(\"Ausgeschaltet\"))\n",
    "    d+= Arrow().length(d.unit/2)\n",
    "    \n",
    "    #Manuelle oder automatische Zündung\n",
    "    d+= (decision := Decision(w = 4, h= 4,\n",
    "                       S = \"Automatisch\",\n",
    "                        E = \"Manuell\").label(\"Art der\\nZündung\"))\n",
    "    \n",
    "    #Wenn manuell\n",
    "    d+= Arrow().length(d.unit/1.5)\n",
    "    d+= (Manuell := RoundBox(w = 4).label(\"Anzünden\\nAnheizen\"))\n",
    "    d+= Arrow().length(d.unit/2)\n",
    "    \n",
    "    #Automatik \n",
    "    d+= (Automatik := RoundBox(w = 4).label(\"Automatik\"))\n",
    "    d+= Arrow().length(d.unit/2)\n",
    "    \n",
    "    #Ausbrennen \n",
    "    d+= (Ausbrennen := RoundBox(w = 4).label(\"Ausbrennen\"))\n",
    "    d+= Arrow().length(d.unit/2)\n",
    "    \n",
    "    #Holz nachgelegt\n",
    "    d+= (decision2 := Decision(w = 4, h= 4,\n",
    "                       N = \"Nein\",\n",
    "                        S = \"Ja\").label(\"Holz\\nnachgelegt\"))\n",
    "    \n",
    "    #Wenn automatisch\n",
    "    d+= Arrow().down(d.unit).at(decision.S).length(d.unit/3)\n",
    "    d+= (Automatisch := RoundBox(w = 4).label(\"Zündung bereit\"))\n",
    "    d+= Wire('-|', arrow='->').at(Automatisch.E).to(Manuell.S)\n",
    "    \n",
    "    #Wenn Holz nachgelegt\n",
    "    d+= Wire('n', k=-1, arrow='->').at(decision2.S).to(Automatik.S)\n",
    "    \n",
    "    #Wenn kein Holz nachgelegt\n",
    "    d+= Wire('n', k=1, arrow='->').at(decision2.N).to(Ausgeschaltet.N)\n"
   ],
   "metadata": {
    "collapsed": false,
    "ExecuteTime": {
     "end_time": "2023-09-07T15:31:24.999976400Z",
     "start_time": "2023-09-07T15:31:24.692289Z"
    }
   },
   "id": "f5d489badca036ad"
  },
  {
   "cell_type": "markdown",
   "source": [
    "# Datenverständnis\n",
    "\n",
    "Die Arbeit baut im Wesentlichen auf zwei Datenquellen auf.\n",
    "Der Holzofen zeichnet Daten auf und speichert diese auf einer SD-Karte. Alle 10 Sekunden werden insgesamt 62 Werte erfasst. Daten für den Holzofen, der hier betrachtet werden soll, liegen seit dem 12.11.2019 um 15:50 Uhr vor. Die letzten Daten wurden am 31.08.2023 um 11:49 Uhr abgerufen. Nachfüllintervalle variieren zwischen 2-3 mal täglich im Winter und mehrmals wöchentlich im Sommer. Damit ergeben sich bereits über 1.000 aufgezeichnete Nachfüllungen, aus denen das Modell gespeist werden kann.\n",
    "\n",
    "Der Ofen liefert unter anderem:\n",
    "* Temperaturdaten\n",
    "    * Außentemperatur (über externen Sensor)\n",
    "    * Kesseltemperatur\n",
    "    * Brennraumtemperatur\n",
    "    * Vorlauftemperatur\n",
    "    * Puffertemperatur\n",
    "* Daten zu Primär- und Sekundärluftzufuhr\n",
    "* Pufferdaten\n",
    "    * Ladegrade\n",
    "    * Energie nutzbar/aufnehmbar\n",
    "* Aktueller Betriebszustand\n",
    "* Nachlegemenge und -Zeitpunkt\n",
    "* Betriebsstunden\n",
    "\n",
    "Als zweite Datenquelle werden externe Wetterdaten verwendet. In dieser Arbeit werden dazu die Wetterdaten von Meteostat über eine API abgerufen. Die Daten werden ursprünglich vom Deutschen Wetterdienst erhoben. Die API liefert stündliche Daten. Für das Modell werden die Daten in dem Zeitraum abgerufen, für den Ofendaten vorliegen. Die API liefert eine Vielzahl an Daten, für dieses Modell werden allerdings nur Außentemperatur, Windgeschwindigkeit und -richtung verwendet.\n",
    "\n",
    "[Wetterrückblick und Klimadaten](https://meteostat.net/de/)"
   ],
   "metadata": {
    "collapsed": false
   },
   "id": "fdc09e1bbb2e953b"
  }
 ],
 "metadata": {
  "kernelspec": {
   "display_name": "Python 3",
   "language": "python",
   "name": "python3"
  },
  "language_info": {
   "codemirror_mode": {
    "name": "ipython",
    "version": 2
   },
   "file_extension": ".py",
   "mimetype": "text/x-python",
   "name": "python",
   "nbconvert_exporter": "python",
   "pygments_lexer": "ipython2",
   "version": "2.7.6"
  }
 },
 "nbformat": 4,
 "nbformat_minor": 5
}
