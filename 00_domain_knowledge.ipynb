{
 "cells": [
  {
   "cell_type": "markdown",
   "source": [
    "# Einleitung\n",
    "\n",
    "Die Holznutzung in Deutschland ist nachhaltig. Seit 300 Jahren wächst mehr Holz nach, als verbraucht wird. Daher ist Scheitholz der wichtigste regenerative Energieträger zur Wärmegewinnung. Mit Holz kann CO2-neutral geheizt werden, weil während des Brennvorgangs nur so viel CO2 ausgestoßen wird, wie der Baum während seines Wachstums aus der Luft aufgenommen hat. Weitere Vorteile der Nutzung von Holz zur Wärmegewinnung sind kurze Transportwege, Unabhängigkeit und Versorgungssicherheit, sichere Lagerung und ungefährlicher Transport, Beschäftigung in der Region sowie ein geringer Energieaufwand bei Ernte und Aufbereitung.\n",
    "\n",
    "Die HDG Bavaria, ein mittelständisches Unternehmen aus Bayern, produziert Holzheizungen seit den 1970er Jahren. Die HDG-Serie umfasst Heizkessel für jeden Bedarf und wird stetig erweitert. Der HDG F, der in dieser Ausarbeitung betrachtet wird, ist ein Holzvergaserkessel, der mit Scheitholz oder Spänebriketts betrieben werden kann. Der HDG F wird vor allem in Ein- und Mehrfamilienhäusern und landwirtschaftlichen Betrieben eingesetzt. Durch eine Bedienung, die ausschließlich von vorne erfolgt und eine große Füllöffnung bietet er dabei besonders viel Komfort.\n",
    "\n",
    "[Heizen mit Holz](https://www.holzknecht-info.de/content/70/70/scheitholzkessel)\n",
    "\n",
    "</br></br>\n",
    "\n",
    "<img src=\"pictures/Ofen von vorne.jpeg\" height=\"400\" alt=\"Ofen von vorne\"/>\n",
    "\n",
    "<img src=\"pictures/Ofen mit Holz.jpeg\" height=\"400\" alt=\"Ofen mit Holz\"/>\n",
    "\n",
    "Der in dieser Ausarbeitung thematisierte Kessel wird in einem Mehrfamilienhaus mit 4 Parteien verwendet. Ganzjährig sorgt er für die Warmwasseraufbereitung und wird bei Bedarf im Winter und in Übergangszeiten zum Heizen verwendet. Die Anlage kann nur betrieben werden, wenn zur richtigen Zeit das notwendige Holz verfügbar ist. Zu diesem Zweck gibt der Ofen selbst eine Prognose, wann er das nächste Mal Holz benötigt. Diese muss allerdings exakt sein, da ein zu spätes Nachlegen von Holz zu erheblichen Nachteilen führt. Erfahrungswerte zeigen, dass die ofeneigene Prognose nicht immer mit der Realität übereinstimmt. Deshalb soll in dieser Arbeit ein Modell entwickelt werden, welches einen möglich exakten spätesten Nachfüllzeitpunkt für den Ofen berechnet.\n",
    "\n",
    "Daher wird diese Arbeit zunächst fachlich eingeordnet, indem der Holzofen und seine Funktionsweise beschrieben werden. Anschließend wird auf die Daten eingegangen, die der Ofen liefert und die wichtigsten Parameter werden erklärt. Danach wird mit der Arbeit an den Daten begonnen, indem die Daten geladen, integriert und vorverarbeitet werden. Anschließend folgt die Analyse, in der verschiedene Modelle zur Prognose mit dem ofeneigenen Wert verglichen und bewertet werden. Alle Schritte werden durch unterstützende Datenvisualisierungen und Erklärungen begleitet. Schließlich wird ein Gesamtüberblick über die gewonnenen Erkenntnisse und ein Ausblick gegeben."
   ],
   "metadata": {
    "collapsed": false
   },
   "id": "5cdd0767fb8818e7"
  },
  {
   "cell_type": "markdown",
   "source": [
    "# Funktionsweise und Energiefluss\n",
    "\n",
    "<img src=\"pictures/HDG F Schnittbild.png\" width=\"400\" alt=\"Schnittbild HDG F\" />\n",
    "\n",
    "Der Kessel des HDG F verfügt über eine große Füllöffnung, durch die der Füllschacht mit Holz befüllt wird. Im ersten Schritt wird das Holz vergast und anschließend bei hohen Temperaturen verbrannt. Währenddessen werden Primär- und Sekundärluftmengen durch Stellmotoren geregelt und Gase nachverbrannt bzw. abgesaugt. Die durch den Prozess entstandene Wärmeenergie wird mithilfe eines Wärmetauschers in einem Wasserpuffer gespeichert. Dieses Wasser wird direkt zum Heizen in die Heizkörper gepumpt. Um Warmwasser zu erzeugen, wird frisches Wasser über einen zweiten Wärmetauscher aufgeheizt. In der Aschelade sammeln sich die Verbrennungsrückstände, welche entsorgt werden müssen. Der Ofen wird durch ein Touch-Display bedient.\n",
    "\n",
    "[Holzvergaser – maximale Wirkungsgrade mit zwei Brennkammern](https://www.thermondo.de/info/rat/erneuerbare-energie/holzvergaser/)\n",
    "\n",
    "Im Diagramm ist der Energiefluss noch einmal schematisch abgebildet. Je nach Jahreszeit variieren die Anteile für Heizung und Warmwasser.\n",
    "\n",
    "[Sankey Diagram in Python](https://plotly.com/python/sankey-diagram/)\n"
   ],
   "metadata": {
    "collapsed": false
   },
   "id": "ddb2cfef5f04840"
  },
  {
   "cell_type": "code",
   "execution_count": 3,
   "outputs": [
    {
     "data": {
      "application/vnd.plotly.v1+json": {
       "data": [
        {
         "link": {
          "color": [
           "rgba(124, 71, 0,0.2)",
           "rgba(128,128,128,0.2)",
           "rgba(0,255,255,0.2)",
           "rgba(255,0,0,0.2)",
           "rgba(0,0,255,0.2)",
           "rgba(128,128,128,0.2)"
          ],
          "source": [
           0,
           1,
           1,
           3,
           3,
           3
          ],
          "target": [
           1,
           2,
           3,
           4,
           5,
           2
          ],
          "value": [
           100,
           5,
           95,
           65,
           15,
           15
          ]
         },
         "node": {
          "color": [
           "rgb(124, 71, 0)",
           "rgb(0,255,255)",
           "rgb(128,128,128)",
           "rgb(0,128,0)",
           "rgb(255,0,0)",
           "rgb(0,0,255)"
          ],
          "label": [
           "Holz",
           "Luft",
           "Verlust",
           "Puffer",
           "Heizkörper",
           "Warmwasser"
          ],
          "line": {
           "color": "black",
           "width": 0.5
          },
          "pad": 15,
          "thickness": 20,
          "x": [
           0,
           0.3,
           0.8,
           0.6,
           0.9,
           0.9
          ],
          "y": [
           0.5,
           0.5,
           1.1,
           0.48,
           0.2,
           0.8
          ]
         },
         "type": "sankey"
        }
       ],
       "layout": {
        "template": {
         "data": {
          "histogram2dcontour": [
           {
            "type": "histogram2dcontour",
            "colorbar": {
             "outlinewidth": 0,
             "ticks": ""
            },
            "colorscale": [
             [
              0.0,
              "#0d0887"
             ],
             [
              0.1111111111111111,
              "#46039f"
             ],
             [
              0.2222222222222222,
              "#7201a8"
             ],
             [
              0.3333333333333333,
              "#9c179e"
             ],
             [
              0.4444444444444444,
              "#bd3786"
             ],
             [
              0.5555555555555556,
              "#d8576b"
             ],
             [
              0.6666666666666666,
              "#ed7953"
             ],
             [
              0.7777777777777778,
              "#fb9f3a"
             ],
             [
              0.8888888888888888,
              "#fdca26"
             ],
             [
              1.0,
              "#f0f921"
             ]
            ]
           }
          ],
          "choropleth": [
           {
            "type": "choropleth",
            "colorbar": {
             "outlinewidth": 0,
             "ticks": ""
            }
           }
          ],
          "histogram2d": [
           {
            "type": "histogram2d",
            "colorbar": {
             "outlinewidth": 0,
             "ticks": ""
            },
            "colorscale": [
             [
              0.0,
              "#0d0887"
             ],
             [
              0.1111111111111111,
              "#46039f"
             ],
             [
              0.2222222222222222,
              "#7201a8"
             ],
             [
              0.3333333333333333,
              "#9c179e"
             ],
             [
              0.4444444444444444,
              "#bd3786"
             ],
             [
              0.5555555555555556,
              "#d8576b"
             ],
             [
              0.6666666666666666,
              "#ed7953"
             ],
             [
              0.7777777777777778,
              "#fb9f3a"
             ],
             [
              0.8888888888888888,
              "#fdca26"
             ],
             [
              1.0,
              "#f0f921"
             ]
            ]
           }
          ],
          "heatmap": [
           {
            "type": "heatmap",
            "colorbar": {
             "outlinewidth": 0,
             "ticks": ""
            },
            "colorscale": [
             [
              0.0,
              "#0d0887"
             ],
             [
              0.1111111111111111,
              "#46039f"
             ],
             [
              0.2222222222222222,
              "#7201a8"
             ],
             [
              0.3333333333333333,
              "#9c179e"
             ],
             [
              0.4444444444444444,
              "#bd3786"
             ],
             [
              0.5555555555555556,
              "#d8576b"
             ],
             [
              0.6666666666666666,
              "#ed7953"
             ],
             [
              0.7777777777777778,
              "#fb9f3a"
             ],
             [
              0.8888888888888888,
              "#fdca26"
             ],
             [
              1.0,
              "#f0f921"
             ]
            ]
           }
          ],
          "heatmapgl": [
           {
            "type": "heatmapgl",
            "colorbar": {
             "outlinewidth": 0,
             "ticks": ""
            },
            "colorscale": [
             [
              0.0,
              "#0d0887"
             ],
             [
              0.1111111111111111,
              "#46039f"
             ],
             [
              0.2222222222222222,
              "#7201a8"
             ],
             [
              0.3333333333333333,
              "#9c179e"
             ],
             [
              0.4444444444444444,
              "#bd3786"
             ],
             [
              0.5555555555555556,
              "#d8576b"
             ],
             [
              0.6666666666666666,
              "#ed7953"
             ],
             [
              0.7777777777777778,
              "#fb9f3a"
             ],
             [
              0.8888888888888888,
              "#fdca26"
             ],
             [
              1.0,
              "#f0f921"
             ]
            ]
           }
          ],
          "contourcarpet": [
           {
            "type": "contourcarpet",
            "colorbar": {
             "outlinewidth": 0,
             "ticks": ""
            }
           }
          ],
          "contour": [
           {
            "type": "contour",
            "colorbar": {
             "outlinewidth": 0,
             "ticks": ""
            },
            "colorscale": [
             [
              0.0,
              "#0d0887"
             ],
             [
              0.1111111111111111,
              "#46039f"
             ],
             [
              0.2222222222222222,
              "#7201a8"
             ],
             [
              0.3333333333333333,
              "#9c179e"
             ],
             [
              0.4444444444444444,
              "#bd3786"
             ],
             [
              0.5555555555555556,
              "#d8576b"
             ],
             [
              0.6666666666666666,
              "#ed7953"
             ],
             [
              0.7777777777777778,
              "#fb9f3a"
             ],
             [
              0.8888888888888888,
              "#fdca26"
             ],
             [
              1.0,
              "#f0f921"
             ]
            ]
           }
          ],
          "surface": [
           {
            "type": "surface",
            "colorbar": {
             "outlinewidth": 0,
             "ticks": ""
            },
            "colorscale": [
             [
              0.0,
              "#0d0887"
             ],
             [
              0.1111111111111111,
              "#46039f"
             ],
             [
              0.2222222222222222,
              "#7201a8"
             ],
             [
              0.3333333333333333,
              "#9c179e"
             ],
             [
              0.4444444444444444,
              "#bd3786"
             ],
             [
              0.5555555555555556,
              "#d8576b"
             ],
             [
              0.6666666666666666,
              "#ed7953"
             ],
             [
              0.7777777777777778,
              "#fb9f3a"
             ],
             [
              0.8888888888888888,
              "#fdca26"
             ],
             [
              1.0,
              "#f0f921"
             ]
            ]
           }
          ],
          "mesh3d": [
           {
            "type": "mesh3d",
            "colorbar": {
             "outlinewidth": 0,
             "ticks": ""
            }
           }
          ],
          "scatter": [
           {
            "marker": {
             "line": {
              "color": "#283442"
             }
            },
            "type": "scatter"
           }
          ],
          "parcoords": [
           {
            "type": "parcoords",
            "line": {
             "colorbar": {
              "outlinewidth": 0,
              "ticks": ""
             }
            }
           }
          ],
          "scatterpolargl": [
           {
            "type": "scatterpolargl",
            "marker": {
             "colorbar": {
              "outlinewidth": 0,
              "ticks": ""
             }
            }
           }
          ],
          "bar": [
           {
            "error_x": {
             "color": "#f2f5fa"
            },
            "error_y": {
             "color": "#f2f5fa"
            },
            "marker": {
             "line": {
              "color": "rgb(17,17,17)",
              "width": 0.5
             },
             "pattern": {
              "fillmode": "overlay",
              "size": 10,
              "solidity": 0.2
             }
            },
            "type": "bar"
           }
          ],
          "scattergeo": [
           {
            "type": "scattergeo",
            "marker": {
             "colorbar": {
              "outlinewidth": 0,
              "ticks": ""
             }
            }
           }
          ],
          "scatterpolar": [
           {
            "type": "scatterpolar",
            "marker": {
             "colorbar": {
              "outlinewidth": 0,
              "ticks": ""
             }
            }
           }
          ],
          "histogram": [
           {
            "marker": {
             "pattern": {
              "fillmode": "overlay",
              "size": 10,
              "solidity": 0.2
             }
            },
            "type": "histogram"
           }
          ],
          "scattergl": [
           {
            "marker": {
             "line": {
              "color": "#283442"
             }
            },
            "type": "scattergl"
           }
          ],
          "scatter3d": [
           {
            "type": "scatter3d",
            "line": {
             "colorbar": {
              "outlinewidth": 0,
              "ticks": ""
             }
            },
            "marker": {
             "colorbar": {
              "outlinewidth": 0,
              "ticks": ""
             }
            }
           }
          ],
          "scattermapbox": [
           {
            "type": "scattermapbox",
            "marker": {
             "colorbar": {
              "outlinewidth": 0,
              "ticks": ""
             }
            }
           }
          ],
          "scatterternary": [
           {
            "type": "scatterternary",
            "marker": {
             "colorbar": {
              "outlinewidth": 0,
              "ticks": ""
             }
            }
           }
          ],
          "scattercarpet": [
           {
            "type": "scattercarpet",
            "marker": {
             "colorbar": {
              "outlinewidth": 0,
              "ticks": ""
             }
            }
           }
          ],
          "carpet": [
           {
            "aaxis": {
             "endlinecolor": "#A2B1C6",
             "gridcolor": "#506784",
             "linecolor": "#506784",
             "minorgridcolor": "#506784",
             "startlinecolor": "#A2B1C6"
            },
            "baxis": {
             "endlinecolor": "#A2B1C6",
             "gridcolor": "#506784",
             "linecolor": "#506784",
             "minorgridcolor": "#506784",
             "startlinecolor": "#A2B1C6"
            },
            "type": "carpet"
           }
          ],
          "table": [
           {
            "cells": {
             "fill": {
              "color": "#506784"
             },
             "line": {
              "color": "rgb(17,17,17)"
             }
            },
            "header": {
             "fill": {
              "color": "#2a3f5f"
             },
             "line": {
              "color": "rgb(17,17,17)"
             }
            },
            "type": "table"
           }
          ],
          "barpolar": [
           {
            "marker": {
             "line": {
              "color": "rgb(17,17,17)",
              "width": 0.5
             },
             "pattern": {
              "fillmode": "overlay",
              "size": 10,
              "solidity": 0.2
             }
            },
            "type": "barpolar"
           }
          ],
          "pie": [
           {
            "automargin": true,
            "type": "pie"
           }
          ]
         },
         "layout": {
          "autotypenumbers": "strict",
          "colorway": [
           "#636efa",
           "#EF553B",
           "#00cc96",
           "#ab63fa",
           "#FFA15A",
           "#19d3f3",
           "#FF6692",
           "#B6E880",
           "#FF97FF",
           "#FECB52"
          ],
          "font": {
           "color": "#f2f5fa"
          },
          "hovermode": "closest",
          "hoverlabel": {
           "align": "left"
          },
          "paper_bgcolor": "rgb(17,17,17)",
          "plot_bgcolor": "rgb(17,17,17)",
          "polar": {
           "bgcolor": "rgb(17,17,17)",
           "angularaxis": {
            "gridcolor": "#506784",
            "linecolor": "#506784",
            "ticks": ""
           },
           "radialaxis": {
            "gridcolor": "#506784",
            "linecolor": "#506784",
            "ticks": ""
           }
          },
          "ternary": {
           "bgcolor": "rgb(17,17,17)",
           "aaxis": {
            "gridcolor": "#506784",
            "linecolor": "#506784",
            "ticks": ""
           },
           "baxis": {
            "gridcolor": "#506784",
            "linecolor": "#506784",
            "ticks": ""
           },
           "caxis": {
            "gridcolor": "#506784",
            "linecolor": "#506784",
            "ticks": ""
           }
          },
          "coloraxis": {
           "colorbar": {
            "outlinewidth": 0,
            "ticks": ""
           }
          },
          "colorscale": {
           "sequential": [
            [
             0.0,
             "#0d0887"
            ],
            [
             0.1111111111111111,
             "#46039f"
            ],
            [
             0.2222222222222222,
             "#7201a8"
            ],
            [
             0.3333333333333333,
             "#9c179e"
            ],
            [
             0.4444444444444444,
             "#bd3786"
            ],
            [
             0.5555555555555556,
             "#d8576b"
            ],
            [
             0.6666666666666666,
             "#ed7953"
            ],
            [
             0.7777777777777778,
             "#fb9f3a"
            ],
            [
             0.8888888888888888,
             "#fdca26"
            ],
            [
             1.0,
             "#f0f921"
            ]
           ],
           "sequentialminus": [
            [
             0.0,
             "#0d0887"
            ],
            [
             0.1111111111111111,
             "#46039f"
            ],
            [
             0.2222222222222222,
             "#7201a8"
            ],
            [
             0.3333333333333333,
             "#9c179e"
            ],
            [
             0.4444444444444444,
             "#bd3786"
            ],
            [
             0.5555555555555556,
             "#d8576b"
            ],
            [
             0.6666666666666666,
             "#ed7953"
            ],
            [
             0.7777777777777778,
             "#fb9f3a"
            ],
            [
             0.8888888888888888,
             "#fdca26"
            ],
            [
             1.0,
             "#f0f921"
            ]
           ],
           "diverging": [
            [
             0,
             "#8e0152"
            ],
            [
             0.1,
             "#c51b7d"
            ],
            [
             0.2,
             "#de77ae"
            ],
            [
             0.3,
             "#f1b6da"
            ],
            [
             0.4,
             "#fde0ef"
            ],
            [
             0.5,
             "#f7f7f7"
            ],
            [
             0.6,
             "#e6f5d0"
            ],
            [
             0.7,
             "#b8e186"
            ],
            [
             0.8,
             "#7fbc41"
            ],
            [
             0.9,
             "#4d9221"
            ],
            [
             1,
             "#276419"
            ]
           ]
          },
          "xaxis": {
           "gridcolor": "#283442",
           "linecolor": "#506784",
           "ticks": "",
           "title": {
            "standoff": 15
           },
           "zerolinecolor": "#283442",
           "automargin": true,
           "zerolinewidth": 2
          },
          "yaxis": {
           "gridcolor": "#283442",
           "linecolor": "#506784",
           "ticks": "",
           "title": {
            "standoff": 15
           },
           "zerolinecolor": "#283442",
           "automargin": true,
           "zerolinewidth": 2
          },
          "scene": {
           "xaxis": {
            "backgroundcolor": "rgb(17,17,17)",
            "gridcolor": "#506784",
            "linecolor": "#506784",
            "showbackground": true,
            "ticks": "",
            "zerolinecolor": "#C8D4E3",
            "gridwidth": 2
           },
           "yaxis": {
            "backgroundcolor": "rgb(17,17,17)",
            "gridcolor": "#506784",
            "linecolor": "#506784",
            "showbackground": true,
            "ticks": "",
            "zerolinecolor": "#C8D4E3",
            "gridwidth": 2
           },
           "zaxis": {
            "backgroundcolor": "rgb(17,17,17)",
            "gridcolor": "#506784",
            "linecolor": "#506784",
            "showbackground": true,
            "ticks": "",
            "zerolinecolor": "#C8D4E3",
            "gridwidth": 2
           }
          },
          "shapedefaults": {
           "line": {
            "color": "#f2f5fa"
           }
          },
          "annotationdefaults": {
           "arrowcolor": "#f2f5fa",
           "arrowhead": 0,
           "arrowwidth": 1
          },
          "geo": {
           "bgcolor": "rgb(17,17,17)",
           "landcolor": "rgb(17,17,17)",
           "subunitcolor": "#506784",
           "showland": true,
           "showlakes": true,
           "lakecolor": "rgb(17,17,17)"
          },
          "title": {
           "x": 0.05
          },
          "updatemenudefaults": {
           "bgcolor": "#506784",
           "borderwidth": 0
          },
          "sliderdefaults": {
           "bgcolor": "#C8D4E3",
           "borderwidth": 1,
           "bordercolor": "rgb(17,17,17)",
           "tickwidth": 0
          },
          "mapbox": {
           "style": "dark"
          }
         }
        },
        "title": {
         "text": "Energieflussdiagramm Holzvergaser"
        },
        "font": {
         "size": 15
        },
        "plot_bgcolor": "rgba(0, 0, 0, 0)",
        "paper_bgcolor": "rgba(0, 0, 0, 0)"
       },
       "config": {
        "plotlyServerURL": "https://plot.ly"
       }
      },
      "text/html": "<div>                            <div id=\"77f198ef-1d9f-4012-8d0b-4861ca4bca2b\" class=\"plotly-graph-div\" style=\"height:525px; width:100%;\"></div>            <script type=\"text/javascript\">                require([\"plotly\"], function(Plotly) {                    window.PLOTLYENV=window.PLOTLYENV || {};                                    if (document.getElementById(\"77f198ef-1d9f-4012-8d0b-4861ca4bca2b\")) {                    Plotly.newPlot(                        \"77f198ef-1d9f-4012-8d0b-4861ca4bca2b\",                        [{\"link\":{\"color\":[\"rgba(124, 71, 0,0.2)\",\"rgba(128,128,128,0.2)\",\"rgba(0,255,255,0.2)\",\"rgba(255,0,0,0.2)\",\"rgba(0,0,255,0.2)\",\"rgba(128,128,128,0.2)\"],\"source\":[0,1,1,3,3,3],\"target\":[1,2,3,4,5,2],\"value\":[100,5,95,65,15,15]},\"node\":{\"color\":[\"rgb(124, 71, 0)\",\"rgb(0,255,255)\",\"rgb(128,128,128)\",\"rgb(0,128,0)\",\"rgb(255,0,0)\",\"rgb(0,0,255)\"],\"label\":[\"Holz\",\"Luft\",\"Verlust\",\"Puffer\",\"Heizk\\u00f6rper\",\"Warmwasser\"],\"line\":{\"color\":\"black\",\"width\":0.5},\"pad\":15,\"thickness\":20,\"x\":[0,0.3,0.8,0.6,0.9,0.9],\"y\":[0.5,0.5,1.1,0.48,0.2,0.8]},\"type\":\"sankey\"}],                        {\"template\":{\"data\":{\"histogram2dcontour\":[{\"type\":\"histogram2dcontour\",\"colorbar\":{\"outlinewidth\":0,\"ticks\":\"\"},\"colorscale\":[[0.0,\"#0d0887\"],[0.1111111111111111,\"#46039f\"],[0.2222222222222222,\"#7201a8\"],[0.3333333333333333,\"#9c179e\"],[0.4444444444444444,\"#bd3786\"],[0.5555555555555556,\"#d8576b\"],[0.6666666666666666,\"#ed7953\"],[0.7777777777777778,\"#fb9f3a\"],[0.8888888888888888,\"#fdca26\"],[1.0,\"#f0f921\"]]}],\"choropleth\":[{\"type\":\"choropleth\",\"colorbar\":{\"outlinewidth\":0,\"ticks\":\"\"}}],\"histogram2d\":[{\"type\":\"histogram2d\",\"colorbar\":{\"outlinewidth\":0,\"ticks\":\"\"},\"colorscale\":[[0.0,\"#0d0887\"],[0.1111111111111111,\"#46039f\"],[0.2222222222222222,\"#7201a8\"],[0.3333333333333333,\"#9c179e\"],[0.4444444444444444,\"#bd3786\"],[0.5555555555555556,\"#d8576b\"],[0.6666666666666666,\"#ed7953\"],[0.7777777777777778,\"#fb9f3a\"],[0.8888888888888888,\"#fdca26\"],[1.0,\"#f0f921\"]]}],\"heatmap\":[{\"type\":\"heatmap\",\"colorbar\":{\"outlinewidth\":0,\"ticks\":\"\"},\"colorscale\":[[0.0,\"#0d0887\"],[0.1111111111111111,\"#46039f\"],[0.2222222222222222,\"#7201a8\"],[0.3333333333333333,\"#9c179e\"],[0.4444444444444444,\"#bd3786\"],[0.5555555555555556,\"#d8576b\"],[0.6666666666666666,\"#ed7953\"],[0.7777777777777778,\"#fb9f3a\"],[0.8888888888888888,\"#fdca26\"],[1.0,\"#f0f921\"]]}],\"heatmapgl\":[{\"type\":\"heatmapgl\",\"colorbar\":{\"outlinewidth\":0,\"ticks\":\"\"},\"colorscale\":[[0.0,\"#0d0887\"],[0.1111111111111111,\"#46039f\"],[0.2222222222222222,\"#7201a8\"],[0.3333333333333333,\"#9c179e\"],[0.4444444444444444,\"#bd3786\"],[0.5555555555555556,\"#d8576b\"],[0.6666666666666666,\"#ed7953\"],[0.7777777777777778,\"#fb9f3a\"],[0.8888888888888888,\"#fdca26\"],[1.0,\"#f0f921\"]]}],\"contourcarpet\":[{\"type\":\"contourcarpet\",\"colorbar\":{\"outlinewidth\":0,\"ticks\":\"\"}}],\"contour\":[{\"type\":\"contour\",\"colorbar\":{\"outlinewidth\":0,\"ticks\":\"\"},\"colorscale\":[[0.0,\"#0d0887\"],[0.1111111111111111,\"#46039f\"],[0.2222222222222222,\"#7201a8\"],[0.3333333333333333,\"#9c179e\"],[0.4444444444444444,\"#bd3786\"],[0.5555555555555556,\"#d8576b\"],[0.6666666666666666,\"#ed7953\"],[0.7777777777777778,\"#fb9f3a\"],[0.8888888888888888,\"#fdca26\"],[1.0,\"#f0f921\"]]}],\"surface\":[{\"type\":\"surface\",\"colorbar\":{\"outlinewidth\":0,\"ticks\":\"\"},\"colorscale\":[[0.0,\"#0d0887\"],[0.1111111111111111,\"#46039f\"],[0.2222222222222222,\"#7201a8\"],[0.3333333333333333,\"#9c179e\"],[0.4444444444444444,\"#bd3786\"],[0.5555555555555556,\"#d8576b\"],[0.6666666666666666,\"#ed7953\"],[0.7777777777777778,\"#fb9f3a\"],[0.8888888888888888,\"#fdca26\"],[1.0,\"#f0f921\"]]}],\"mesh3d\":[{\"type\":\"mesh3d\",\"colorbar\":{\"outlinewidth\":0,\"ticks\":\"\"}}],\"scatter\":[{\"marker\":{\"line\":{\"color\":\"#283442\"}},\"type\":\"scatter\"}],\"parcoords\":[{\"type\":\"parcoords\",\"line\":{\"colorbar\":{\"outlinewidth\":0,\"ticks\":\"\"}}}],\"scatterpolargl\":[{\"type\":\"scatterpolargl\",\"marker\":{\"colorbar\":{\"outlinewidth\":0,\"ticks\":\"\"}}}],\"bar\":[{\"error_x\":{\"color\":\"#f2f5fa\"},\"error_y\":{\"color\":\"#f2f5fa\"},\"marker\":{\"line\":{\"color\":\"rgb(17,17,17)\",\"width\":0.5},\"pattern\":{\"fillmode\":\"overlay\",\"size\":10,\"solidity\":0.2}},\"type\":\"bar\"}],\"scattergeo\":[{\"type\":\"scattergeo\",\"marker\":{\"colorbar\":{\"outlinewidth\":0,\"ticks\":\"\"}}}],\"scatterpolar\":[{\"type\":\"scatterpolar\",\"marker\":{\"colorbar\":{\"outlinewidth\":0,\"ticks\":\"\"}}}],\"histogram\":[{\"marker\":{\"pattern\":{\"fillmode\":\"overlay\",\"size\":10,\"solidity\":0.2}},\"type\":\"histogram\"}],\"scattergl\":[{\"marker\":{\"line\":{\"color\":\"#283442\"}},\"type\":\"scattergl\"}],\"scatter3d\":[{\"type\":\"scatter3d\",\"line\":{\"colorbar\":{\"outlinewidth\":0,\"ticks\":\"\"}},\"marker\":{\"colorbar\":{\"outlinewidth\":0,\"ticks\":\"\"}}}],\"scattermapbox\":[{\"type\":\"scattermapbox\",\"marker\":{\"colorbar\":{\"outlinewidth\":0,\"ticks\":\"\"}}}],\"scatterternary\":[{\"type\":\"scatterternary\",\"marker\":{\"colorbar\":{\"outlinewidth\":0,\"ticks\":\"\"}}}],\"scattercarpet\":[{\"type\":\"scattercarpet\",\"marker\":{\"colorbar\":{\"outlinewidth\":0,\"ticks\":\"\"}}}],\"carpet\":[{\"aaxis\":{\"endlinecolor\":\"#A2B1C6\",\"gridcolor\":\"#506784\",\"linecolor\":\"#506784\",\"minorgridcolor\":\"#506784\",\"startlinecolor\":\"#A2B1C6\"},\"baxis\":{\"endlinecolor\":\"#A2B1C6\",\"gridcolor\":\"#506784\",\"linecolor\":\"#506784\",\"minorgridcolor\":\"#506784\",\"startlinecolor\":\"#A2B1C6\"},\"type\":\"carpet\"}],\"table\":[{\"cells\":{\"fill\":{\"color\":\"#506784\"},\"line\":{\"color\":\"rgb(17,17,17)\"}},\"header\":{\"fill\":{\"color\":\"#2a3f5f\"},\"line\":{\"color\":\"rgb(17,17,17)\"}},\"type\":\"table\"}],\"barpolar\":[{\"marker\":{\"line\":{\"color\":\"rgb(17,17,17)\",\"width\":0.5},\"pattern\":{\"fillmode\":\"overlay\",\"size\":10,\"solidity\":0.2}},\"type\":\"barpolar\"}],\"pie\":[{\"automargin\":true,\"type\":\"pie\"}]},\"layout\":{\"autotypenumbers\":\"strict\",\"colorway\":[\"#636efa\",\"#EF553B\",\"#00cc96\",\"#ab63fa\",\"#FFA15A\",\"#19d3f3\",\"#FF6692\",\"#B6E880\",\"#FF97FF\",\"#FECB52\"],\"font\":{\"color\":\"#f2f5fa\"},\"hovermode\":\"closest\",\"hoverlabel\":{\"align\":\"left\"},\"paper_bgcolor\":\"rgb(17,17,17)\",\"plot_bgcolor\":\"rgb(17,17,17)\",\"polar\":{\"bgcolor\":\"rgb(17,17,17)\",\"angularaxis\":{\"gridcolor\":\"#506784\",\"linecolor\":\"#506784\",\"ticks\":\"\"},\"radialaxis\":{\"gridcolor\":\"#506784\",\"linecolor\":\"#506784\",\"ticks\":\"\"}},\"ternary\":{\"bgcolor\":\"rgb(17,17,17)\",\"aaxis\":{\"gridcolor\":\"#506784\",\"linecolor\":\"#506784\",\"ticks\":\"\"},\"baxis\":{\"gridcolor\":\"#506784\",\"linecolor\":\"#506784\",\"ticks\":\"\"},\"caxis\":{\"gridcolor\":\"#506784\",\"linecolor\":\"#506784\",\"ticks\":\"\"}},\"coloraxis\":{\"colorbar\":{\"outlinewidth\":0,\"ticks\":\"\"}},\"colorscale\":{\"sequential\":[[0.0,\"#0d0887\"],[0.1111111111111111,\"#46039f\"],[0.2222222222222222,\"#7201a8\"],[0.3333333333333333,\"#9c179e\"],[0.4444444444444444,\"#bd3786\"],[0.5555555555555556,\"#d8576b\"],[0.6666666666666666,\"#ed7953\"],[0.7777777777777778,\"#fb9f3a\"],[0.8888888888888888,\"#fdca26\"],[1.0,\"#f0f921\"]],\"sequentialminus\":[[0.0,\"#0d0887\"],[0.1111111111111111,\"#46039f\"],[0.2222222222222222,\"#7201a8\"],[0.3333333333333333,\"#9c179e\"],[0.4444444444444444,\"#bd3786\"],[0.5555555555555556,\"#d8576b\"],[0.6666666666666666,\"#ed7953\"],[0.7777777777777778,\"#fb9f3a\"],[0.8888888888888888,\"#fdca26\"],[1.0,\"#f0f921\"]],\"diverging\":[[0,\"#8e0152\"],[0.1,\"#c51b7d\"],[0.2,\"#de77ae\"],[0.3,\"#f1b6da\"],[0.4,\"#fde0ef\"],[0.5,\"#f7f7f7\"],[0.6,\"#e6f5d0\"],[0.7,\"#b8e186\"],[0.8,\"#7fbc41\"],[0.9,\"#4d9221\"],[1,\"#276419\"]]},\"xaxis\":{\"gridcolor\":\"#283442\",\"linecolor\":\"#506784\",\"ticks\":\"\",\"title\":{\"standoff\":15},\"zerolinecolor\":\"#283442\",\"automargin\":true,\"zerolinewidth\":2},\"yaxis\":{\"gridcolor\":\"#283442\",\"linecolor\":\"#506784\",\"ticks\":\"\",\"title\":{\"standoff\":15},\"zerolinecolor\":\"#283442\",\"automargin\":true,\"zerolinewidth\":2},\"scene\":{\"xaxis\":{\"backgroundcolor\":\"rgb(17,17,17)\",\"gridcolor\":\"#506784\",\"linecolor\":\"#506784\",\"showbackground\":true,\"ticks\":\"\",\"zerolinecolor\":\"#C8D4E3\",\"gridwidth\":2},\"yaxis\":{\"backgroundcolor\":\"rgb(17,17,17)\",\"gridcolor\":\"#506784\",\"linecolor\":\"#506784\",\"showbackground\":true,\"ticks\":\"\",\"zerolinecolor\":\"#C8D4E3\",\"gridwidth\":2},\"zaxis\":{\"backgroundcolor\":\"rgb(17,17,17)\",\"gridcolor\":\"#506784\",\"linecolor\":\"#506784\",\"showbackground\":true,\"ticks\":\"\",\"zerolinecolor\":\"#C8D4E3\",\"gridwidth\":2}},\"shapedefaults\":{\"line\":{\"color\":\"#f2f5fa\"}},\"annotationdefaults\":{\"arrowcolor\":\"#f2f5fa\",\"arrowhead\":0,\"arrowwidth\":1},\"geo\":{\"bgcolor\":\"rgb(17,17,17)\",\"landcolor\":\"rgb(17,17,17)\",\"subunitcolor\":\"#506784\",\"showland\":true,\"showlakes\":true,\"lakecolor\":\"rgb(17,17,17)\"},\"title\":{\"x\":0.05},\"updatemenudefaults\":{\"bgcolor\":\"#506784\",\"borderwidth\":0},\"sliderdefaults\":{\"bgcolor\":\"#C8D4E3\",\"borderwidth\":1,\"bordercolor\":\"rgb(17,17,17)\",\"tickwidth\":0},\"mapbox\":{\"style\":\"dark\"}}},\"title\":{\"text\":\"Energieflussdiagramm Holzvergaser\"},\"font\":{\"size\":15},\"plot_bgcolor\":\"rgba(0, 0, 0, 0)\",\"paper_bgcolor\":\"rgba(0, 0, 0, 0)\"},                        {\"responsive\": true}                    ).then(function(){\n                            \nvar gd = document.getElementById('77f198ef-1d9f-4012-8d0b-4861ca4bca2b');\nvar x = new MutationObserver(function (mutations, observer) {{\n        var display = window.getComputedStyle(gd).display;\n        if (!display || display === 'none') {{\n            console.log([gd, 'removed!']);\n            Plotly.purge(gd);\n            observer.disconnect();\n        }}\n}});\n\n// Listen for the removal of the full notebook cells\nvar notebookContainer = gd.closest('#notebook-container');\nif (notebookContainer) {{\n    x.observe(notebookContainer, {childList: true});\n}}\n\n// Listen for the clearing of the current output cell\nvar outputEl = gd.closest('.output');\nif (outputEl) {{\n    x.observe(outputEl, {childList: true});\n}}\n\n                        })                };                });            </script>        </div>"
     },
     "metadata": {},
     "output_type": "display_data"
    }
   ],
   "source": [
    "import plotly.graph_objects as go\n",
    "\n",
    "fig = go.Figure(data=[go.Sankey(\n",
    "    node = dict(\n",
    "      pad = 15,\n",
    "      thickness = 20,\n",
    "      line = dict(color = \"black\", width = 0.5),\n",
    "      label = [\"Holz\", \"Luft\", \"Verlust\", \"Puffer\", \"Heizkörper\", \"Warmwasser\"],\n",
    "      color = [\"rgb(124, 71, 0)\", \"rgb(0,255,255)\", \"rgb(128,128,128)\", \"rgb(0,128,0)\", \"rgb(255,0,0)\", \"rgb(0,0,255)\"],\n",
    "      x = [0, 0.3, 0.8, 0.6, 0.9, 0.9],\n",
    "      y = [0.5, 0.5, 1.1, 0.48, 0.2, 0.8]  \n",
    "    ),\n",
    "    link = dict(\n",
    "      source = [0, 1, 1, 3, 3, 3], # indices correspond to labels, eg A1, A2, A1, B1, ...\n",
    "      target = [1, 2, 3, 4, 5, 2],\n",
    "      value = [100, 5, 95, 65, 15, 15],\n",
    "      color = [\"rgba(124, 71, 0,0.2)\", \"rgba(128,128,128,0.2)\", \"rgba(0,255,255,0.2)\", \"rgba(255,0,0,0.2)\", \"rgba(0,0,255,0.2)\", \"rgba(128,128,128,0.2)\"]\n",
    "  ))])\n",
    "\n",
    "fig.update_layout(title_text=\"Energieflussdiagramm Holzvergaser\", font_size=15, plot_bgcolor='rgba(0, 0, 0, 0)', paper_bgcolor='rgba(0, 0, 0, 0)',)\n",
    "fig.show()"
   ],
   "metadata": {
    "collapsed": false,
    "ExecuteTime": {
     "end_time": "2023-09-03T19:47:22.844969Z",
     "start_time": "2023-09-03T19:47:22.826749Z"
    }
   },
   "id": "435ba813361565da"
  },
  {
   "cell_type": "markdown",
   "source": [
    "# Zustände\n",
    "\n",
    "Das Aufheizen des Wassers im Puffer findet nicht kontinuierlich, sondern chargenweise statt. Deshalb kann sich der Holzvergaser in verschiedenen Zuständen befinden. Da diese im weiteren Verlauf der Arbeit relevant sind, werden sie hier kurz aufgeführt. Zu Beginn ist der Holzvergaser ausgeschaltet. Beim Befüllen des Ofens gibt es zwei Möglichkeiten: Er kann entweder direkt oder automatisch angezündet werden (Zündung bereit). \n",
    "Bei beiden Methoden startet die Nachlegetaste den Anheizvorgang. Zunächst müssen dann die Holzart, die Holzfeuchte, und die Zündart angegeben werden. Holzart und Holzfeuchte wirken sich auf die Brenndauer aus, daher sind diese zur Berechnung des nächsten Nachlegezeitpunktes entscheidend. Im nächsten Schritt wird der Nachlegebedarf angezeigt. Nun muss angegeben werden, wieviel Holz tatsächlich nachgelegt werden soll. Anhand dieser Angabe wird dann voraussichtlich nächste Nachlegezeitpunkt angezeigt. Nach diesen Angaben kann der Füllschacht geöffnet und befüllt werden.\n",
    "Die manuelle Zündung erfolgt, indem kleines Holz bzw. Papier oder Pappe direkt angezündet wird. Auf dieses wird dann das Holz gestapelt und der Ofen geschlossen.\n",
    "Bei der automatischen Funktionsweise muss kleines Holz bzw. Papier oder Pappe vor das Zündloch gelegt und Holz darauf gestapelt werden. Die Tür wird geschlossen und die Zündung bestätigt. Diese kann entweder sofort oder nach Aufforderung ausgeführt werden. Ist der Holzvergaser bereits in Benutzung, wartet er, bis ein Pufferladegrad von 15 % unterschritten wird und zündet dann das nachgefüllte Holz mit einem Heißluftgebläse an. Ist die Zündung erfolgt, wechselt der Zustand in den Automatikmodus, bei dem das Holz vollständig verbrannt wird. Wenn nur noch Glut übrig ist, wechselt der Ofen in den Zustand Ausbrennen. Hier gibt es zwei Möglichkeiten. Entweder wird eine neue Charge Holz nachgelegt und der Ofen brennt wieder im Automatikmodus, oder er wechselt nach komplettem Ausbrennen in den ausgeschalteten Zustand.\n",
    "\n",
    "Um einen Überblick über die verschiedenen Zustände des Ofens zu bekommen, sind die Wichtigsten weiter unten in einem Flussdiagramm abgebildet. Diese werden auch im entwickelten Modell eine entscheidende Rolle spielen.\n",
    "[Flowcharting](https://schemdraw.readthedocs.io/en/latest/gallery/flowcharting.html)"
   ],
   "metadata": {
    "collapsed": false
   },
   "id": "48b3c758fe7fc789"
  },
  {
   "cell_type": "code",
   "execution_count": 4,
   "outputs": [
    {
     "data": {
      "text/plain": "<schemdraw.backends.mpl.Figure object at 0x2811f14d0>",
      "image/svg+xml": "<?xml version=\"1.0\" encoding=\"utf-8\" standalone=\"no\"?>\n<!DOCTYPE svg PUBLIC \"-//W3C//DTD SVG 1.1//EN\"\n  \"http://www.w3.org/Graphics/SVG/1.1/DTD/svg11.dtd\">\n<svg xmlns:xlink=\"http://www.w3.org/1999/xlink\" width=\"1274.4pt\" height=\"324pt\" viewBox=\"0 0 1274.4 324\" xmlns=\"http://www.w3.org/2000/svg\" version=\"1.1\">\n <metadata>\n  <rdf:RDF xmlns:dc=\"http://purl.org/dc/elements/1.1/\" xmlns:cc=\"http://creativecommons.org/ns#\" xmlns:rdf=\"http://www.w3.org/1999/02/22-rdf-syntax-ns#\">\n   <cc:Work>\n    <dc:type rdf:resource=\"http://purl.org/dc/dcmitype/StillImage\"/>\n    <dc:date>2023-09-03T21:47:22.947051</dc:date>\n    <dc:format>image/svg+xml</dc:format>\n    <dc:creator>\n     <cc:Agent>\n      <dc:title>Matplotlib v3.7.2, https://matplotlib.org/</dc:title>\n     </cc:Agent>\n    </dc:creator>\n   </cc:Work>\n  </rdf:RDF>\n </metadata>\n <defs>\n  <style type=\"text/css\">*{stroke-linejoin: round; stroke-linecap: butt}</style>\n </defs>\n <g id=\"figure_1\">\n  <g id=\"patch_1\">\n   <path d=\"M 0 324 \nL 1274.4 324 \nL 1274.4 0 \nL 0 0 \nz\n\" style=\"fill: #ffffff\"/>\n  </g>\n  <g id=\"axes_1\">\n   <g id=\"patch_2\">\n    <path d=\"M 194.4 162 \nL 194.571352 161.998641 \nL 194.742662 161.994563 \nL 194.913885 161.987767 \nL 195.084978 161.978256 \nL 195.2559 161.966032 \nL 195.426605 161.951097 \nL 195.597053 161.933455 \nL 195.767198 161.913112 \nL 195.937 161.890072 \nL 196.106415 161.86434 \nL 196.2754 161.835924 \nL 196.443913 161.80483 \nL 196.611912 161.771066 \nL 196.779354 161.734642 \nL 196.946197 161.695565 \nL 197.112398 161.653846 \nL 197.277917 161.609495 \nL 197.442712 161.562524 \nL 197.60674 161.512944 \nL 197.769961 161.460768 \nL 197.932334 161.406009 \nL 198.093818 161.34868 \nL 198.254371 161.288797 \nL 198.413955 161.226374 \nL 198.572527 161.161426 \nL 198.73005 161.093971 \nL 198.886482 161.024026 \nL 199.041785 160.951607 \nL 199.195919 160.876733 \nL 199.348846 160.799423 \nL 199.500528 160.719696 \nL 199.650925 160.637573 \nL 199.8 160.553074 \nL 199.947716 160.466221 \nL 200.094035 160.377035 \nL 200.238921 160.285538 \nL 200.382337 160.191754 \nL 200.524247 160.095707 \nL 200.664615 159.99742 \nL 200.803406 159.896919 \nL 200.940585 159.794228 \nL 201.076117 159.689373 \nL 201.209969 159.582382 \nL 201.342106 159.47328 \nL 201.472496 159.362095 \nL 201.601105 159.248856 \nL 201.727902 159.13359 \nL 201.852853 159.016328 \nL 201.975929 158.897097 \nL 202.097097 158.775929 \nL 202.216328 158.652853 \nL 202.33359 158.527902 \nL 202.448856 158.401105 \nL 202.562095 158.272496 \nL 202.67328 158.142106 \nL 202.782382 158.009969 \nL 202.889373 157.876117 \nL 202.994228 157.740585 \nL 203.096919 157.603406 \nL 203.19742 157.464615 \nL 203.295707 157.324247 \nL 203.391754 157.182337 \nL 203.485538 157.038921 \nL 203.577035 156.894035 \nL 203.666221 156.747716 \nL 203.753074 156.6 \nL 203.837573 156.450925 \nL 203.919696 156.300528 \nL 203.999423 156.148846 \nL 204.076733 155.995919 \nL 204.151607 155.841785 \nL 204.224026 155.686482 \nL 204.293971 155.53005 \nL 204.361426 155.372527 \nL 204.426374 155.213955 \nL 204.488797 155.054371 \nL 204.54868 154.893818 \nL 204.606009 154.732334 \nL 204.660768 154.569961 \nL 204.712944 154.40674 \nL 204.762524 154.242712 \nL 204.809495 154.077917 \nL 204.853846 153.912398 \nL 204.895565 153.746197 \nL 204.934642 153.579354 \nL 204.971066 153.411912 \nL 205.00483 153.243913 \nL 205.035924 153.0754 \nL 205.06434 152.906415 \nL 205.090072 152.737 \nL 205.113112 152.567198 \nL 205.133455 152.397053 \nL 205.151097 152.226605 \nL 205.166032 152.0559 \nL 205.178256 151.884978 \nL 205.187767 151.713885 \nL 205.194563 151.542662 \nL 205.198641 151.371352 \nL 205.2 151.2 \nL 205.2 100.8 \nL 205.198641 100.628648 \nL 205.194563 100.457338 \nL 205.187767 100.286115 \nL 205.178256 100.115022 \nL 205.166032 99.9441 \nL 205.151097 99.773395 \nL 205.133455 99.602947 \nL 205.113112 99.432802 \nL 205.090072 99.263 \nL 205.06434 99.093585 \nL 205.035924 98.9246 \nL 205.00483 98.756087 \nL 204.971066 98.588088 \nL 204.934642 98.420646 \nL 204.895565 98.253803 \nL 204.853846 98.087602 \nL 204.809495 97.922083 \nL 204.762524 97.757288 \nL 204.712944 97.59326 \nL 204.660768 97.430039 \nL 204.606009 97.267666 \nL 204.54868 97.106182 \nL 204.488797 96.945629 \nL 204.426374 96.786045 \nL 204.361426 96.627473 \nL 204.293971 96.46995 \nL 204.224026 96.313518 \nL 204.151607 96.158215 \nL 204.076733 96.004081 \nL 203.999423 95.851154 \nL 203.919696 95.699472 \nL 203.837573 95.549075 \nL 203.753074 95.4 \nL 203.666221 95.252284 \nL 203.577035 95.105965 \nL 203.485538 94.961079 \nL 203.391754 94.817663 \nL 203.295707 94.675753 \nL 203.19742 94.535385 \nL 203.096919 94.396594 \nL 202.994228 94.259415 \nL 202.889373 94.123883 \nL 202.782382 93.990031 \nL 202.67328 93.857894 \nL 202.562095 93.727504 \nL 202.448856 93.598895 \nL 202.33359 93.472098 \nL 202.216328 93.347147 \nL 202.097097 93.224071 \nL 201.975929 93.102903 \nL 201.852853 92.983672 \nL 201.727902 92.86641 \nL 201.601105 92.751144 \nL 201.472496 92.637905 \nL 201.342106 92.52672 \nL 201.209969 92.417618 \nL 201.076117 92.310627 \nL 200.940585 92.205772 \nL 200.803406 92.103081 \nL 200.664615 92.00258 \nL 200.524247 91.904293 \nL 200.382337 91.808246 \nL 200.238921 91.714462 \nL 200.094035 91.622965 \nL 199.947716 91.533779 \nL 199.8 91.446926 \nL 199.650925 91.362427 \nL 199.500528 91.280304 \nL 199.348846 91.200577 \nL 199.195919 91.123267 \nL 199.041785 91.048393 \nL 198.886482 90.975974 \nL 198.73005 90.906029 \nL 198.572527 90.838574 \nL 198.413955 90.773626 \nL 198.254371 90.711203 \nL 198.093818 90.65132 \nL 197.932334 90.593991 \nL 197.769961 90.539232 \nL 197.60674 90.487056 \nL 197.442712 90.437476 \nL 197.277917 90.390505 \nL 197.112398 90.346154 \nL 196.946197 90.304435 \nL 196.779354 90.265358 \nL 196.611912 90.228934 \nL 196.443913 90.19517 \nL 196.2754 90.164076 \nL 196.106415 90.13566 \nL 195.937 90.109928 \nL 195.767198 90.086888 \nL 195.597053 90.066545 \nL 195.426605 90.048903 \nL 195.2559 90.033968 \nL 195.084978 90.021744 \nL 194.913885 90.012233 \nL 194.742662 90.005437 \nL 194.571352 90.001359 \nL 194.4 90 \nL 72 90 \nL 71.828648 90.001359 \nL 71.657338 90.005437 \nL 71.486115 90.012233 \nL 71.315022 90.021744 \nL 71.1441 90.033968 \nL 70.973395 90.048903 \nL 70.802947 90.066545 \nL 70.632802 90.086888 \nL 70.463 90.109928 \nL 70.293585 90.13566 \nL 70.1246 90.164076 \nL 69.956087 90.19517 \nL 69.788088 90.228934 \nL 69.620646 90.265358 \nL 69.453803 90.304435 \nL 69.287602 90.346154 \nL 69.122083 90.390505 \nL 68.957288 90.437476 \nL 68.79326 90.487056 \nL 68.630039 90.539232 \nL 68.467666 90.593991 \nL 68.306182 90.65132 \nL 68.145629 90.711203 \nL 67.986045 90.773626 \nL 67.827473 90.838574 \nL 67.66995 90.906029 \nL 67.513518 90.975974 \nL 67.358215 91.048393 \nL 67.204081 91.123267 \nL 67.051154 91.200577 \nL 66.899472 91.280304 \nL 66.749075 91.362427 \nL 66.6 91.446926 \nL 66.452284 91.533779 \nL 66.305965 91.622965 \nL 66.161079 91.714462 \nL 66.017663 91.808246 \nL 65.875753 91.904293 \nL 65.735385 92.00258 \nL 65.596594 92.103081 \nL 65.459415 92.205772 \nL 65.323883 92.310627 \nL 65.190031 92.417618 \nL 65.057894 92.52672 \nL 64.927504 92.637905 \nL 64.798895 92.751144 \nL 64.672098 92.86641 \nL 64.547147 92.983672 \nL 64.424071 93.102903 \nL 64.302903 93.224071 \nL 64.183672 93.347147 \nL 64.06641 93.472098 \nL 63.951144 93.598895 \nL 63.837905 93.727504 \nL 63.72672 93.857894 \nL 63.617618 93.990031 \nL 63.510627 94.123883 \nL 63.405772 94.259415 \nL 63.303081 94.396594 \nL 63.20258 94.535385 \nL 63.104293 94.675753 \nL 63.008246 94.817663 \nL 62.914462 94.961079 \nL 62.822965 95.105965 \nL 62.733779 95.252284 \nL 62.646926 95.4 \nL 62.562427 95.549075 \nL 62.480304 95.699472 \nL 62.400577 95.851154 \nL 62.323267 96.004081 \nL 62.248393 96.158215 \nL 62.175974 96.313518 \nL 62.106029 96.46995 \nL 62.038574 96.627473 \nL 61.973626 96.786045 \nL 61.911203 96.945629 \nL 61.85132 97.106182 \nL 61.793991 97.267666 \nL 61.739232 97.430039 \nL 61.687056 97.59326 \nL 61.637476 97.757288 \nL 61.590505 97.922083 \nL 61.546154 98.087602 \nL 61.504435 98.253803 \nL 61.465358 98.420646 \nL 61.428934 98.588088 \nL 61.39517 98.756087 \nL 61.364076 98.9246 \nL 61.33566 99.093585 \nL 61.309928 99.263 \nL 61.286888 99.432802 \nL 61.266545 99.602947 \nL 61.248903 99.773395 \nL 61.233968 99.9441 \nL 61.221744 100.115022 \nL 61.212233 100.286115 \nL 61.205437 100.457338 \nL 61.201359 100.628648 \nL 61.2 100.8 \nL 61.2 151.2 \nL 61.201359 151.371352 \nL 61.205437 151.542662 \nL 61.212233 151.713885 \nL 61.221744 151.884978 \nL 61.233968 152.0559 \nL 61.248903 152.226605 \nL 61.266545 152.397053 \nL 61.286888 152.567198 \nL 61.309928 152.737 \nL 61.33566 152.906415 \nL 61.364076 153.0754 \nL 61.39517 153.243913 \nL 61.428934 153.411912 \nL 61.465358 153.579354 \nL 61.504435 153.746197 \nL 61.546154 153.912398 \nL 61.590505 154.077917 \nL 61.637476 154.242712 \nL 61.687056 154.40674 \nL 61.739232 154.569961 \nL 61.793991 154.732334 \nL 61.85132 154.893818 \nL 61.911203 155.054371 \nL 61.973626 155.213955 \nL 62.038574 155.372527 \nL 62.106029 155.53005 \nL 62.175974 155.686482 \nL 62.248393 155.841785 \nL 62.323267 155.995919 \nL 62.400577 156.148846 \nL 62.480304 156.300528 \nL 62.562427 156.450925 \nL 62.646926 156.6 \nL 62.733779 156.747716 \nL 62.822965 156.894035 \nL 62.914462 157.038921 \nL 63.008246 157.182337 \nL 63.104293 157.324247 \nL 63.20258 157.464615 \nL 63.303081 157.603406 \nL 63.405772 157.740585 \nL 63.510627 157.876117 \nL 63.617618 158.009969 \nL 63.72672 158.142106 \nL 63.837905 158.272496 \nL 63.951144 158.401105 \nL 64.06641 158.527902 \nL 64.183672 158.652853 \nL 64.302903 158.775929 \nL 64.424071 158.897097 \nL 64.547147 159.016328 \nL 64.672098 159.13359 \nL 64.798895 159.248856 \nL 64.927504 159.362095 \nL 65.057894 159.47328 \nL 65.190031 159.582382 \nL 65.323883 159.689373 \nL 65.459415 159.794228 \nL 65.596594 159.896919 \nL 65.735385 159.99742 \nL 65.875753 160.095707 \nL 66.017663 160.191754 \nL 66.161079 160.285538 \nL 66.305965 160.377035 \nL 66.452284 160.466221 \nL 66.6 160.553074 \nL 66.749075 160.637573 \nL 66.899472 160.719696 \nL 67.051154 160.799423 \nL 67.204081 160.876733 \nL 67.358215 160.951607 \nL 67.513518 161.024026 \nL 67.66995 161.093971 \nL 67.827473 161.161426 \nL 67.986045 161.226374 \nL 68.145629 161.288797 \nL 68.306182 161.34868 \nL 68.467666 161.406009 \nL 68.630039 161.460768 \nL 68.79326 161.512944 \nL 68.957288 161.562524 \nL 69.122083 161.609495 \nL 69.287602 161.653846 \nL 69.453803 161.695565 \nL 69.620646 161.734642 \nL 69.788088 161.771066 \nL 69.956087 161.80483 \nL 70.1246 161.835924 \nL 70.293585 161.86434 \nL 70.463 161.890072 \nL 70.632802 161.913112 \nL 70.802947 161.933455 \nL 70.973395 161.951097 \nL 71.1441 161.966032 \nL 71.315022 161.978256 \nL 71.486115 161.987767 \nL 71.657338 161.994563 \nL 71.828648 161.998641 \nL 72 162 \nL 194.4 162 \nz\n\" clip-path=\"url(#p810f04aa45)\" style=\"fill: none; stroke: #000000; stroke-width: 2; stroke-linecap: round\"/>\n   </g>\n   <g id=\"patch_3\">\n    <path d=\"M 259.2 126 \nL 331.2 54 \nL 403.2 126 \nL 331.2 198 \nL 259.2 126 \nz\n\" clip-path=\"url(#p810f04aa45)\" style=\"fill: none; stroke: #000000; stroke-width: 2; stroke-linecap: round\"/>\n   </g>\n   <g id=\"patch_4\">\n    <path d=\"M 608.4 162 \nL 608.571352 161.998641 \nL 608.742662 161.994563 \nL 608.913885 161.987767 \nL 609.084978 161.978256 \nL 609.2559 161.966032 \nL 609.426605 161.951097 \nL 609.597053 161.933455 \nL 609.767198 161.913112 \nL 609.937 161.890072 \nL 610.106415 161.86434 \nL 610.2754 161.835924 \nL 610.443913 161.80483 \nL 610.611912 161.771066 \nL 610.779354 161.734642 \nL 610.946197 161.695565 \nL 611.112398 161.653846 \nL 611.277917 161.609495 \nL 611.442712 161.562524 \nL 611.60674 161.512944 \nL 611.769961 161.460768 \nL 611.932334 161.406009 \nL 612.093818 161.34868 \nL 612.254371 161.288797 \nL 612.413955 161.226374 \nL 612.572527 161.161426 \nL 612.73005 161.093971 \nL 612.886482 161.024026 \nL 613.041785 160.951607 \nL 613.195919 160.876733 \nL 613.348846 160.799423 \nL 613.500528 160.719696 \nL 613.650925 160.637573 \nL 613.8 160.553074 \nL 613.947716 160.466221 \nL 614.094035 160.377035 \nL 614.238921 160.285538 \nL 614.382337 160.191754 \nL 614.524247 160.095707 \nL 614.664615 159.99742 \nL 614.803406 159.896919 \nL 614.940585 159.794228 \nL 615.076117 159.689373 \nL 615.209969 159.582382 \nL 615.342106 159.47328 \nL 615.472496 159.362095 \nL 615.601105 159.248856 \nL 615.727902 159.13359 \nL 615.852853 159.016328 \nL 615.975929 158.897097 \nL 616.097097 158.775929 \nL 616.216328 158.652853 \nL 616.33359 158.527902 \nL 616.448856 158.401105 \nL 616.562095 158.272496 \nL 616.67328 158.142106 \nL 616.782382 158.009969 \nL 616.889373 157.876117 \nL 616.994228 157.740585 \nL 617.096919 157.603406 \nL 617.19742 157.464615 \nL 617.295707 157.324247 \nL 617.391754 157.182337 \nL 617.485538 157.038921 \nL 617.577035 156.894035 \nL 617.666221 156.747716 \nL 617.753074 156.6 \nL 617.837573 156.450925 \nL 617.919696 156.300528 \nL 617.999423 156.148846 \nL 618.076733 155.995919 \nL 618.151607 155.841785 \nL 618.224026 155.686482 \nL 618.293971 155.53005 \nL 618.361426 155.372527 \nL 618.426374 155.213955 \nL 618.488797 155.054371 \nL 618.54868 154.893818 \nL 618.606009 154.732334 \nL 618.660768 154.569961 \nL 618.712944 154.40674 \nL 618.762524 154.242712 \nL 618.809495 154.077917 \nL 618.853846 153.912398 \nL 618.895565 153.746197 \nL 618.934642 153.579354 \nL 618.971066 153.411912 \nL 619.00483 153.243913 \nL 619.035924 153.0754 \nL 619.06434 152.906415 \nL 619.090072 152.737 \nL 619.113112 152.567198 \nL 619.133455 152.397053 \nL 619.151097 152.226605 \nL 619.166032 152.0559 \nL 619.178256 151.884978 \nL 619.187767 151.713885 \nL 619.194563 151.542662 \nL 619.198641 151.371352 \nL 619.2 151.2 \nL 619.2 100.8 \nL 619.198641 100.628648 \nL 619.194563 100.457338 \nL 619.187767 100.286115 \nL 619.178256 100.115022 \nL 619.166032 99.9441 \nL 619.151097 99.773395 \nL 619.133455 99.602947 \nL 619.113112 99.432802 \nL 619.090072 99.263 \nL 619.06434 99.093585 \nL 619.035924 98.9246 \nL 619.00483 98.756087 \nL 618.971066 98.588088 \nL 618.934642 98.420646 \nL 618.895565 98.253803 \nL 618.853846 98.087602 \nL 618.809495 97.922083 \nL 618.762524 97.757288 \nL 618.712944 97.59326 \nL 618.660768 97.430039 \nL 618.606009 97.267666 \nL 618.54868 97.106182 \nL 618.488797 96.945629 \nL 618.426374 96.786045 \nL 618.361426 96.627473 \nL 618.293971 96.46995 \nL 618.224026 96.313518 \nL 618.151607 96.158215 \nL 618.076733 96.004081 \nL 617.999423 95.851154 \nL 617.919696 95.699472 \nL 617.837573 95.549075 \nL 617.753074 95.4 \nL 617.666221 95.252284 \nL 617.577035 95.105965 \nL 617.485538 94.961079 \nL 617.391754 94.817663 \nL 617.295707 94.675753 \nL 617.19742 94.535385 \nL 617.096919 94.396594 \nL 616.994228 94.259415 \nL 616.889373 94.123883 \nL 616.782382 93.990031 \nL 616.67328 93.857894 \nL 616.562095 93.727504 \nL 616.448856 93.598895 \nL 616.33359 93.472098 \nL 616.216328 93.347147 \nL 616.097097 93.224071 \nL 615.975929 93.102903 \nL 615.852853 92.983672 \nL 615.727902 92.86641 \nL 615.601105 92.751144 \nL 615.472496 92.637905 \nL 615.342106 92.52672 \nL 615.209969 92.417618 \nL 615.076117 92.310627 \nL 614.940585 92.205772 \nL 614.803406 92.103081 \nL 614.664615 92.00258 \nL 614.524247 91.904293 \nL 614.382337 91.808246 \nL 614.238921 91.714462 \nL 614.094035 91.622965 \nL 613.947716 91.533779 \nL 613.8 91.446926 \nL 613.650925 91.362427 \nL 613.500528 91.280304 \nL 613.348846 91.200577 \nL 613.195919 91.123267 \nL 613.041785 91.048393 \nL 612.886482 90.975974 \nL 612.73005 90.906029 \nL 612.572527 90.838574 \nL 612.413955 90.773626 \nL 612.254371 90.711203 \nL 612.093818 90.65132 \nL 611.932334 90.593991 \nL 611.769961 90.539232 \nL 611.60674 90.487056 \nL 611.442712 90.437476 \nL 611.277917 90.390505 \nL 611.112398 90.346154 \nL 610.946197 90.304435 \nL 610.779354 90.265358 \nL 610.611912 90.228934 \nL 610.443913 90.19517 \nL 610.2754 90.164076 \nL 610.106415 90.13566 \nL 609.937 90.109928 \nL 609.767198 90.086888 \nL 609.597053 90.066545 \nL 609.426605 90.048903 \nL 609.2559 90.033968 \nL 609.084978 90.021744 \nL 608.913885 90.012233 \nL 608.742662 90.005437 \nL 608.571352 90.001359 \nL 608.4 90 \nL 486 90 \nL 485.828648 90.001359 \nL 485.657338 90.005437 \nL 485.486115 90.012233 \nL 485.315022 90.021744 \nL 485.1441 90.033968 \nL 484.973395 90.048903 \nL 484.802947 90.066545 \nL 484.632802 90.086888 \nL 484.463 90.109928 \nL 484.293585 90.13566 \nL 484.1246 90.164076 \nL 483.956087 90.19517 \nL 483.788088 90.228934 \nL 483.620646 90.265358 \nL 483.453803 90.304435 \nL 483.287602 90.346154 \nL 483.122083 90.390505 \nL 482.957288 90.437476 \nL 482.79326 90.487056 \nL 482.630039 90.539232 \nL 482.467666 90.593991 \nL 482.306182 90.65132 \nL 482.145629 90.711203 \nL 481.986045 90.773626 \nL 481.827473 90.838574 \nL 481.66995 90.906029 \nL 481.513518 90.975974 \nL 481.358215 91.048393 \nL 481.204081 91.123267 \nL 481.051154 91.200577 \nL 480.899472 91.280304 \nL 480.749075 91.362427 \nL 480.6 91.446926 \nL 480.452284 91.533779 \nL 480.305965 91.622965 \nL 480.161079 91.714462 \nL 480.017663 91.808246 \nL 479.875753 91.904293 \nL 479.735385 92.00258 \nL 479.596594 92.103081 \nL 479.459415 92.205772 \nL 479.323883 92.310627 \nL 479.190031 92.417618 \nL 479.057894 92.52672 \nL 478.927504 92.637905 \nL 478.798895 92.751144 \nL 478.672098 92.86641 \nL 478.547147 92.983672 \nL 478.424071 93.102903 \nL 478.302903 93.224071 \nL 478.183672 93.347147 \nL 478.06641 93.472098 \nL 477.951144 93.598895 \nL 477.837905 93.727504 \nL 477.72672 93.857894 \nL 477.617618 93.990031 \nL 477.510627 94.123883 \nL 477.405772 94.259415 \nL 477.303081 94.396594 \nL 477.20258 94.535385 \nL 477.104293 94.675753 \nL 477.008246 94.817663 \nL 476.914462 94.961079 \nL 476.822965 95.105965 \nL 476.733779 95.252284 \nL 476.646926 95.4 \nL 476.562427 95.549075 \nL 476.480304 95.699472 \nL 476.400577 95.851154 \nL 476.323267 96.004081 \nL 476.248393 96.158215 \nL 476.175974 96.313518 \nL 476.106029 96.46995 \nL 476.038574 96.627473 \nL 475.973626 96.786045 \nL 475.911203 96.945629 \nL 475.85132 97.106182 \nL 475.793991 97.267666 \nL 475.739232 97.430039 \nL 475.687056 97.59326 \nL 475.637476 97.757288 \nL 475.590505 97.922083 \nL 475.546154 98.087602 \nL 475.504435 98.253803 \nL 475.465358 98.420646 \nL 475.428934 98.588088 \nL 475.39517 98.756087 \nL 475.364076 98.9246 \nL 475.33566 99.093585 \nL 475.309928 99.263 \nL 475.286888 99.432802 \nL 475.266545 99.602947 \nL 475.248903 99.773395 \nL 475.233968 99.9441 \nL 475.221744 100.115022 \nL 475.212233 100.286115 \nL 475.205437 100.457338 \nL 475.201359 100.628648 \nL 475.2 100.8 \nL 475.2 151.2 \nL 475.201359 151.371352 \nL 475.205437 151.542662 \nL 475.212233 151.713885 \nL 475.221744 151.884978 \nL 475.233968 152.0559 \nL 475.248903 152.226605 \nL 475.266545 152.397053 \nL 475.286888 152.567198 \nL 475.309928 152.737 \nL 475.33566 152.906415 \nL 475.364076 153.0754 \nL 475.39517 153.243913 \nL 475.428934 153.411912 \nL 475.465358 153.579354 \nL 475.504435 153.746197 \nL 475.546154 153.912398 \nL 475.590505 154.077917 \nL 475.637476 154.242712 \nL 475.687056 154.40674 \nL 475.739232 154.569961 \nL 475.793991 154.732334 \nL 475.85132 154.893818 \nL 475.911203 155.054371 \nL 475.973626 155.213955 \nL 476.038574 155.372527 \nL 476.106029 155.53005 \nL 476.175974 155.686482 \nL 476.248393 155.841785 \nL 476.323267 155.995919 \nL 476.400577 156.148846 \nL 476.480304 156.300528 \nL 476.562427 156.450925 \nL 476.646926 156.6 \nL 476.733779 156.747716 \nL 476.822965 156.894035 \nL 476.914462 157.038921 \nL 477.008246 157.182337 \nL 477.104293 157.324247 \nL 477.20258 157.464615 \nL 477.303081 157.603406 \nL 477.405772 157.740585 \nL 477.510627 157.876117 \nL 477.617618 158.009969 \nL 477.72672 158.142106 \nL 477.837905 158.272496 \nL 477.951144 158.401105 \nL 478.06641 158.527902 \nL 478.183672 158.652853 \nL 478.302903 158.775929 \nL 478.424071 158.897097 \nL 478.547147 159.016328 \nL 478.672098 159.13359 \nL 478.798895 159.248856 \nL 478.927504 159.362095 \nL 479.057894 159.47328 \nL 479.190031 159.582382 \nL 479.323883 159.689373 \nL 479.459415 159.794228 \nL 479.596594 159.896919 \nL 479.735385 159.99742 \nL 479.875753 160.095707 \nL 480.017663 160.191754 \nL 480.161079 160.285538 \nL 480.305965 160.377035 \nL 480.452284 160.466221 \nL 480.6 160.553074 \nL 480.749075 160.637573 \nL 480.899472 160.719696 \nL 481.051154 160.799423 \nL 481.204081 160.876733 \nL 481.358215 160.951607 \nL 481.513518 161.024026 \nL 481.66995 161.093971 \nL 481.827473 161.161426 \nL 481.986045 161.226374 \nL 482.145629 161.288797 \nL 482.306182 161.34868 \nL 482.467666 161.406009 \nL 482.630039 161.460768 \nL 482.79326 161.512944 \nL 482.957288 161.562524 \nL 483.122083 161.609495 \nL 483.287602 161.653846 \nL 483.453803 161.695565 \nL 483.620646 161.734642 \nL 483.788088 161.771066 \nL 483.956087 161.80483 \nL 484.1246 161.835924 \nL 484.293585 161.86434 \nL 484.463 161.890072 \nL 484.632802 161.913112 \nL 484.802947 161.933455 \nL 484.973395 161.951097 \nL 485.1441 161.966032 \nL 485.315022 161.978256 \nL 485.486115 161.987767 \nL 485.657338 161.994563 \nL 485.828648 161.998641 \nL 486 162 \nL 608.4 162 \nz\n\" clip-path=\"url(#p810f04aa45)\" style=\"fill: none; stroke: #000000; stroke-width: 2; stroke-linecap: round\"/>\n   </g>\n   <g id=\"patch_5\">\n    <path d=\"M 806.4 162 \nL 806.571352 161.998641 \nL 806.742662 161.994563 \nL 806.913885 161.987767 \nL 807.084978 161.978256 \nL 807.2559 161.966032 \nL 807.426605 161.951097 \nL 807.597053 161.933455 \nL 807.767198 161.913112 \nL 807.937 161.890072 \nL 808.106415 161.86434 \nL 808.2754 161.835924 \nL 808.443913 161.80483 \nL 808.611912 161.771066 \nL 808.779354 161.734642 \nL 808.946197 161.695565 \nL 809.112398 161.653846 \nL 809.277917 161.609495 \nL 809.442712 161.562524 \nL 809.60674 161.512944 \nL 809.769961 161.460768 \nL 809.932334 161.406009 \nL 810.093818 161.34868 \nL 810.254371 161.288797 \nL 810.413955 161.226374 \nL 810.572527 161.161426 \nL 810.73005 161.093971 \nL 810.886482 161.024026 \nL 811.041785 160.951607 \nL 811.195919 160.876733 \nL 811.348846 160.799423 \nL 811.500528 160.719696 \nL 811.650925 160.637573 \nL 811.8 160.553074 \nL 811.947716 160.466221 \nL 812.094035 160.377035 \nL 812.238921 160.285538 \nL 812.382337 160.191754 \nL 812.524247 160.095707 \nL 812.664615 159.99742 \nL 812.803406 159.896919 \nL 812.940585 159.794228 \nL 813.076117 159.689373 \nL 813.209969 159.582382 \nL 813.342106 159.47328 \nL 813.472496 159.362095 \nL 813.601105 159.248856 \nL 813.727902 159.13359 \nL 813.852853 159.016328 \nL 813.975929 158.897097 \nL 814.097097 158.775929 \nL 814.216328 158.652853 \nL 814.33359 158.527902 \nL 814.448856 158.401105 \nL 814.562095 158.272496 \nL 814.67328 158.142106 \nL 814.782382 158.009969 \nL 814.889373 157.876117 \nL 814.994228 157.740585 \nL 815.096919 157.603406 \nL 815.19742 157.464615 \nL 815.295707 157.324247 \nL 815.391754 157.182337 \nL 815.485538 157.038921 \nL 815.577035 156.894035 \nL 815.666221 156.747716 \nL 815.753074 156.6 \nL 815.837573 156.450925 \nL 815.919696 156.300528 \nL 815.999423 156.148846 \nL 816.076733 155.995919 \nL 816.151607 155.841785 \nL 816.224026 155.686482 \nL 816.293971 155.53005 \nL 816.361426 155.372527 \nL 816.426374 155.213955 \nL 816.488797 155.054371 \nL 816.54868 154.893818 \nL 816.606009 154.732334 \nL 816.660768 154.569961 \nL 816.712944 154.40674 \nL 816.762524 154.242712 \nL 816.809495 154.077917 \nL 816.853846 153.912398 \nL 816.895565 153.746197 \nL 816.934642 153.579354 \nL 816.971066 153.411912 \nL 817.00483 153.243913 \nL 817.035924 153.0754 \nL 817.06434 152.906415 \nL 817.090072 152.737 \nL 817.113112 152.567198 \nL 817.133455 152.397053 \nL 817.151097 152.226605 \nL 817.166032 152.0559 \nL 817.178256 151.884978 \nL 817.187767 151.713885 \nL 817.194563 151.542662 \nL 817.198641 151.371352 \nL 817.2 151.2 \nL 817.2 100.8 \nL 817.198641 100.628648 \nL 817.194563 100.457338 \nL 817.187767 100.286115 \nL 817.178256 100.115022 \nL 817.166032 99.9441 \nL 817.151097 99.773395 \nL 817.133455 99.602947 \nL 817.113112 99.432802 \nL 817.090072 99.263 \nL 817.06434 99.093585 \nL 817.035924 98.9246 \nL 817.00483 98.756087 \nL 816.971066 98.588088 \nL 816.934642 98.420646 \nL 816.895565 98.253803 \nL 816.853846 98.087602 \nL 816.809495 97.922083 \nL 816.762524 97.757288 \nL 816.712944 97.59326 \nL 816.660768 97.430039 \nL 816.606009 97.267666 \nL 816.54868 97.106182 \nL 816.488797 96.945629 \nL 816.426374 96.786045 \nL 816.361426 96.627473 \nL 816.293971 96.46995 \nL 816.224026 96.313518 \nL 816.151607 96.158215 \nL 816.076733 96.004081 \nL 815.999423 95.851154 \nL 815.919696 95.699472 \nL 815.837573 95.549075 \nL 815.753074 95.4 \nL 815.666221 95.252284 \nL 815.577035 95.105965 \nL 815.485538 94.961079 \nL 815.391754 94.817663 \nL 815.295707 94.675753 \nL 815.19742 94.535385 \nL 815.096919 94.396594 \nL 814.994228 94.259415 \nL 814.889373 94.123883 \nL 814.782382 93.990031 \nL 814.67328 93.857894 \nL 814.562095 93.727504 \nL 814.448856 93.598895 \nL 814.33359 93.472098 \nL 814.216328 93.347147 \nL 814.097097 93.224071 \nL 813.975929 93.102903 \nL 813.852853 92.983672 \nL 813.727902 92.86641 \nL 813.601105 92.751144 \nL 813.472496 92.637905 \nL 813.342106 92.52672 \nL 813.209969 92.417618 \nL 813.076117 92.310627 \nL 812.940585 92.205772 \nL 812.803406 92.103081 \nL 812.664615 92.00258 \nL 812.524247 91.904293 \nL 812.382337 91.808246 \nL 812.238921 91.714462 \nL 812.094035 91.622965 \nL 811.947716 91.533779 \nL 811.8 91.446926 \nL 811.650925 91.362427 \nL 811.500528 91.280304 \nL 811.348846 91.200577 \nL 811.195919 91.123267 \nL 811.041785 91.048393 \nL 810.886482 90.975974 \nL 810.73005 90.906029 \nL 810.572527 90.838574 \nL 810.413955 90.773626 \nL 810.254371 90.711203 \nL 810.093818 90.65132 \nL 809.932334 90.593991 \nL 809.769961 90.539232 \nL 809.60674 90.487056 \nL 809.442712 90.437476 \nL 809.277917 90.390505 \nL 809.112398 90.346154 \nL 808.946197 90.304435 \nL 808.779354 90.265358 \nL 808.611912 90.228934 \nL 808.443913 90.19517 \nL 808.2754 90.164076 \nL 808.106415 90.13566 \nL 807.937 90.109928 \nL 807.767198 90.086888 \nL 807.597053 90.066545 \nL 807.426605 90.048903 \nL 807.2559 90.033968 \nL 807.084978 90.021744 \nL 806.913885 90.012233 \nL 806.742662 90.005437 \nL 806.571352 90.001359 \nL 806.4 90 \nL 684 90 \nL 683.828648 90.001359 \nL 683.657338 90.005437 \nL 683.486115 90.012233 \nL 683.315022 90.021744 \nL 683.1441 90.033968 \nL 682.973395 90.048903 \nL 682.802947 90.066545 \nL 682.632802 90.086888 \nL 682.463 90.109928 \nL 682.293585 90.13566 \nL 682.1246 90.164076 \nL 681.956087 90.19517 \nL 681.788088 90.228934 \nL 681.620646 90.265358 \nL 681.453803 90.304435 \nL 681.287602 90.346154 \nL 681.122083 90.390505 \nL 680.957288 90.437476 \nL 680.79326 90.487056 \nL 680.630039 90.539232 \nL 680.467666 90.593991 \nL 680.306182 90.65132 \nL 680.145629 90.711203 \nL 679.986045 90.773626 \nL 679.827473 90.838574 \nL 679.66995 90.906029 \nL 679.513518 90.975974 \nL 679.358215 91.048393 \nL 679.204081 91.123267 \nL 679.051154 91.200577 \nL 678.899472 91.280304 \nL 678.749075 91.362427 \nL 678.6 91.446926 \nL 678.452284 91.533779 \nL 678.305965 91.622965 \nL 678.161079 91.714462 \nL 678.017663 91.808246 \nL 677.875753 91.904293 \nL 677.735385 92.00258 \nL 677.596594 92.103081 \nL 677.459415 92.205772 \nL 677.323883 92.310627 \nL 677.190031 92.417618 \nL 677.057894 92.52672 \nL 676.927504 92.637905 \nL 676.798895 92.751144 \nL 676.672098 92.86641 \nL 676.547147 92.983672 \nL 676.424071 93.102903 \nL 676.302903 93.224071 \nL 676.183672 93.347147 \nL 676.06641 93.472098 \nL 675.951144 93.598895 \nL 675.837905 93.727504 \nL 675.72672 93.857894 \nL 675.617618 93.990031 \nL 675.510627 94.123883 \nL 675.405772 94.259415 \nL 675.303081 94.396594 \nL 675.20258 94.535385 \nL 675.104293 94.675753 \nL 675.008246 94.817663 \nL 674.914462 94.961079 \nL 674.822965 95.105965 \nL 674.733779 95.252284 \nL 674.646926 95.4 \nL 674.562427 95.549075 \nL 674.480304 95.699472 \nL 674.400577 95.851154 \nL 674.323267 96.004081 \nL 674.248393 96.158215 \nL 674.175974 96.313518 \nL 674.106029 96.46995 \nL 674.038574 96.627473 \nL 673.973626 96.786045 \nL 673.911203 96.945629 \nL 673.85132 97.106182 \nL 673.793991 97.267666 \nL 673.739232 97.430039 \nL 673.687056 97.59326 \nL 673.637476 97.757288 \nL 673.590505 97.922083 \nL 673.546154 98.087602 \nL 673.504435 98.253803 \nL 673.465358 98.420646 \nL 673.428934 98.588088 \nL 673.39517 98.756087 \nL 673.364076 98.9246 \nL 673.33566 99.093585 \nL 673.309928 99.263 \nL 673.286888 99.432802 \nL 673.266545 99.602947 \nL 673.248903 99.773395 \nL 673.233968 99.9441 \nL 673.221744 100.115022 \nL 673.212233 100.286115 \nL 673.205437 100.457338 \nL 673.201359 100.628648 \nL 673.2 100.8 \nL 673.2 151.2 \nL 673.201359 151.371352 \nL 673.205437 151.542662 \nL 673.212233 151.713885 \nL 673.221744 151.884978 \nL 673.233968 152.0559 \nL 673.248903 152.226605 \nL 673.266545 152.397053 \nL 673.286888 152.567198 \nL 673.309928 152.737 \nL 673.33566 152.906415 \nL 673.364076 153.0754 \nL 673.39517 153.243913 \nL 673.428934 153.411912 \nL 673.465358 153.579354 \nL 673.504435 153.746197 \nL 673.546154 153.912398 \nL 673.590505 154.077917 \nL 673.637476 154.242712 \nL 673.687056 154.40674 \nL 673.739232 154.569961 \nL 673.793991 154.732334 \nL 673.85132 154.893818 \nL 673.911203 155.054371 \nL 673.973626 155.213955 \nL 674.038574 155.372527 \nL 674.106029 155.53005 \nL 674.175974 155.686482 \nL 674.248393 155.841785 \nL 674.323267 155.995919 \nL 674.400577 156.148846 \nL 674.480304 156.300528 \nL 674.562427 156.450925 \nL 674.646926 156.6 \nL 674.733779 156.747716 \nL 674.822965 156.894035 \nL 674.914462 157.038921 \nL 675.008246 157.182337 \nL 675.104293 157.324247 \nL 675.20258 157.464615 \nL 675.303081 157.603406 \nL 675.405772 157.740585 \nL 675.510627 157.876117 \nL 675.617618 158.009969 \nL 675.72672 158.142106 \nL 675.837905 158.272496 \nL 675.951144 158.401105 \nL 676.06641 158.527902 \nL 676.183672 158.652853 \nL 676.302903 158.775929 \nL 676.424071 158.897097 \nL 676.547147 159.016328 \nL 676.672098 159.13359 \nL 676.798895 159.248856 \nL 676.927504 159.362095 \nL 677.057894 159.47328 \nL 677.190031 159.582382 \nL 677.323883 159.689373 \nL 677.459415 159.794228 \nL 677.596594 159.896919 \nL 677.735385 159.99742 \nL 677.875753 160.095707 \nL 678.017663 160.191754 \nL 678.161079 160.285538 \nL 678.305965 160.377035 \nL 678.452284 160.466221 \nL 678.6 160.553074 \nL 678.749075 160.637573 \nL 678.899472 160.719696 \nL 679.051154 160.799423 \nL 679.204081 160.876733 \nL 679.358215 160.951607 \nL 679.513518 161.024026 \nL 679.66995 161.093971 \nL 679.827473 161.161426 \nL 679.986045 161.226374 \nL 680.145629 161.288797 \nL 680.306182 161.34868 \nL 680.467666 161.406009 \nL 680.630039 161.460768 \nL 680.79326 161.512944 \nL 680.957288 161.562524 \nL 681.122083 161.609495 \nL 681.287602 161.653846 \nL 681.453803 161.695565 \nL 681.620646 161.734642 \nL 681.788088 161.771066 \nL 681.956087 161.80483 \nL 682.1246 161.835924 \nL 682.293585 161.86434 \nL 682.463 161.890072 \nL 682.632802 161.913112 \nL 682.802947 161.933455 \nL 682.973395 161.951097 \nL 683.1441 161.966032 \nL 683.315022 161.978256 \nL 683.486115 161.987767 \nL 683.657338 161.994563 \nL 683.828648 161.998641 \nL 684 162 \nL 806.4 162 \nz\n\" clip-path=\"url(#p810f04aa45)\" style=\"fill: none; stroke: #000000; stroke-width: 2; stroke-linecap: round\"/>\n   </g>\n   <g id=\"patch_6\">\n    <path d=\"M 1004.4 162 \nL 1004.571352 161.998641 \nL 1004.742662 161.994563 \nL 1004.913885 161.987767 \nL 1005.084978 161.978256 \nL 1005.2559 161.966032 \nL 1005.426605 161.951097 \nL 1005.597053 161.933455 \nL 1005.767198 161.913112 \nL 1005.937 161.890072 \nL 1006.106415 161.86434 \nL 1006.2754 161.835924 \nL 1006.443913 161.80483 \nL 1006.611912 161.771066 \nL 1006.779354 161.734642 \nL 1006.946197 161.695565 \nL 1007.112398 161.653846 \nL 1007.277917 161.609495 \nL 1007.442712 161.562524 \nL 1007.60674 161.512944 \nL 1007.769961 161.460768 \nL 1007.932334 161.406009 \nL 1008.093818 161.34868 \nL 1008.254371 161.288797 \nL 1008.413955 161.226374 \nL 1008.572527 161.161426 \nL 1008.73005 161.093971 \nL 1008.886482 161.024026 \nL 1009.041785 160.951607 \nL 1009.195919 160.876733 \nL 1009.348846 160.799423 \nL 1009.500528 160.719696 \nL 1009.650925 160.637573 \nL 1009.8 160.553074 \nL 1009.947716 160.466221 \nL 1010.094035 160.377035 \nL 1010.238921 160.285538 \nL 1010.382337 160.191754 \nL 1010.524247 160.095707 \nL 1010.664615 159.99742 \nL 1010.803406 159.896919 \nL 1010.940585 159.794228 \nL 1011.076117 159.689373 \nL 1011.209969 159.582382 \nL 1011.342106 159.47328 \nL 1011.472496 159.362095 \nL 1011.601105 159.248856 \nL 1011.727902 159.13359 \nL 1011.852853 159.016328 \nL 1011.975929 158.897097 \nL 1012.097097 158.775929 \nL 1012.216328 158.652853 \nL 1012.33359 158.527902 \nL 1012.448856 158.401105 \nL 1012.562095 158.272496 \nL 1012.67328 158.142106 \nL 1012.782382 158.009969 \nL 1012.889373 157.876117 \nL 1012.994228 157.740585 \nL 1013.096919 157.603406 \nL 1013.19742 157.464615 \nL 1013.295707 157.324247 \nL 1013.391754 157.182337 \nL 1013.485538 157.038921 \nL 1013.577035 156.894035 \nL 1013.666221 156.747716 \nL 1013.753074 156.6 \nL 1013.837573 156.450925 \nL 1013.919696 156.300528 \nL 1013.999423 156.148846 \nL 1014.076733 155.995919 \nL 1014.151607 155.841785 \nL 1014.224026 155.686482 \nL 1014.293971 155.53005 \nL 1014.361426 155.372527 \nL 1014.426374 155.213955 \nL 1014.488797 155.054371 \nL 1014.54868 154.893818 \nL 1014.606009 154.732334 \nL 1014.660768 154.569961 \nL 1014.712944 154.40674 \nL 1014.762524 154.242712 \nL 1014.809495 154.077917 \nL 1014.853846 153.912398 \nL 1014.895565 153.746197 \nL 1014.934642 153.579354 \nL 1014.971066 153.411912 \nL 1015.00483 153.243913 \nL 1015.035924 153.0754 \nL 1015.06434 152.906415 \nL 1015.090072 152.737 \nL 1015.113112 152.567198 \nL 1015.133455 152.397053 \nL 1015.151097 152.226605 \nL 1015.166032 152.0559 \nL 1015.178256 151.884978 \nL 1015.187767 151.713885 \nL 1015.194563 151.542662 \nL 1015.198641 151.371352 \nL 1015.2 151.2 \nL 1015.2 100.8 \nL 1015.198641 100.628648 \nL 1015.194563 100.457338 \nL 1015.187767 100.286115 \nL 1015.178256 100.115022 \nL 1015.166032 99.9441 \nL 1015.151097 99.773395 \nL 1015.133455 99.602947 \nL 1015.113112 99.432802 \nL 1015.090072 99.263 \nL 1015.06434 99.093585 \nL 1015.035924 98.9246 \nL 1015.00483 98.756087 \nL 1014.971066 98.588088 \nL 1014.934642 98.420646 \nL 1014.895565 98.253803 \nL 1014.853846 98.087602 \nL 1014.809495 97.922083 \nL 1014.762524 97.757288 \nL 1014.712944 97.59326 \nL 1014.660768 97.430039 \nL 1014.606009 97.267666 \nL 1014.54868 97.106182 \nL 1014.488797 96.945629 \nL 1014.426374 96.786045 \nL 1014.361426 96.627473 \nL 1014.293971 96.46995 \nL 1014.224026 96.313518 \nL 1014.151607 96.158215 \nL 1014.076733 96.004081 \nL 1013.999423 95.851154 \nL 1013.919696 95.699472 \nL 1013.837573 95.549075 \nL 1013.753074 95.4 \nL 1013.666221 95.252284 \nL 1013.577035 95.105965 \nL 1013.485538 94.961079 \nL 1013.391754 94.817663 \nL 1013.295707 94.675753 \nL 1013.19742 94.535385 \nL 1013.096919 94.396594 \nL 1012.994228 94.259415 \nL 1012.889373 94.123883 \nL 1012.782382 93.990031 \nL 1012.67328 93.857894 \nL 1012.562095 93.727504 \nL 1012.448856 93.598895 \nL 1012.33359 93.472098 \nL 1012.216328 93.347147 \nL 1012.097097 93.224071 \nL 1011.975929 93.102903 \nL 1011.852853 92.983672 \nL 1011.727902 92.86641 \nL 1011.601105 92.751144 \nL 1011.472496 92.637905 \nL 1011.342106 92.52672 \nL 1011.209969 92.417618 \nL 1011.076117 92.310627 \nL 1010.940585 92.205772 \nL 1010.803406 92.103081 \nL 1010.664615 92.00258 \nL 1010.524247 91.904293 \nL 1010.382337 91.808246 \nL 1010.238921 91.714462 \nL 1010.094035 91.622965 \nL 1009.947716 91.533779 \nL 1009.8 91.446926 \nL 1009.650925 91.362427 \nL 1009.500528 91.280304 \nL 1009.348846 91.200577 \nL 1009.195919 91.123267 \nL 1009.041785 91.048393 \nL 1008.886482 90.975974 \nL 1008.73005 90.906029 \nL 1008.572527 90.838574 \nL 1008.413955 90.773626 \nL 1008.254371 90.711203 \nL 1008.093818 90.65132 \nL 1007.932334 90.593991 \nL 1007.769961 90.539232 \nL 1007.60674 90.487056 \nL 1007.442712 90.437476 \nL 1007.277917 90.390505 \nL 1007.112398 90.346154 \nL 1006.946197 90.304435 \nL 1006.779354 90.265358 \nL 1006.611912 90.228934 \nL 1006.443913 90.19517 \nL 1006.2754 90.164076 \nL 1006.106415 90.13566 \nL 1005.937 90.109928 \nL 1005.767198 90.086888 \nL 1005.597053 90.066545 \nL 1005.426605 90.048903 \nL 1005.2559 90.033968 \nL 1005.084978 90.021744 \nL 1004.913885 90.012233 \nL 1004.742662 90.005437 \nL 1004.571352 90.001359 \nL 1004.4 90 \nL 882 90 \nL 881.828648 90.001359 \nL 881.657338 90.005437 \nL 881.486115 90.012233 \nL 881.315022 90.021744 \nL 881.1441 90.033968 \nL 880.973395 90.048903 \nL 880.802947 90.066545 \nL 880.632802 90.086888 \nL 880.463 90.109928 \nL 880.293585 90.13566 \nL 880.1246 90.164076 \nL 879.956087 90.19517 \nL 879.788088 90.228934 \nL 879.620646 90.265358 \nL 879.453803 90.304435 \nL 879.287602 90.346154 \nL 879.122083 90.390505 \nL 878.957288 90.437476 \nL 878.79326 90.487056 \nL 878.630039 90.539232 \nL 878.467666 90.593991 \nL 878.306182 90.65132 \nL 878.145629 90.711203 \nL 877.986045 90.773626 \nL 877.827473 90.838574 \nL 877.66995 90.906029 \nL 877.513518 90.975974 \nL 877.358215 91.048393 \nL 877.204081 91.123267 \nL 877.051154 91.200577 \nL 876.899472 91.280304 \nL 876.749075 91.362427 \nL 876.6 91.446926 \nL 876.452284 91.533779 \nL 876.305965 91.622965 \nL 876.161079 91.714462 \nL 876.017663 91.808246 \nL 875.875753 91.904293 \nL 875.735385 92.00258 \nL 875.596594 92.103081 \nL 875.459415 92.205772 \nL 875.323883 92.310627 \nL 875.190031 92.417618 \nL 875.057894 92.52672 \nL 874.927504 92.637905 \nL 874.798895 92.751144 \nL 874.672098 92.86641 \nL 874.547147 92.983672 \nL 874.424071 93.102903 \nL 874.302903 93.224071 \nL 874.183672 93.347147 \nL 874.06641 93.472098 \nL 873.951144 93.598895 \nL 873.837905 93.727504 \nL 873.72672 93.857894 \nL 873.617618 93.990031 \nL 873.510627 94.123883 \nL 873.405772 94.259415 \nL 873.303081 94.396594 \nL 873.20258 94.535385 \nL 873.104293 94.675753 \nL 873.008246 94.817663 \nL 872.914462 94.961079 \nL 872.822965 95.105965 \nL 872.733779 95.252284 \nL 872.646926 95.4 \nL 872.562427 95.549075 \nL 872.480304 95.699472 \nL 872.400577 95.851154 \nL 872.323267 96.004081 \nL 872.248393 96.158215 \nL 872.175974 96.313518 \nL 872.106029 96.46995 \nL 872.038574 96.627473 \nL 871.973626 96.786045 \nL 871.911203 96.945629 \nL 871.85132 97.106182 \nL 871.793991 97.267666 \nL 871.739232 97.430039 \nL 871.687056 97.59326 \nL 871.637476 97.757288 \nL 871.590505 97.922083 \nL 871.546154 98.087602 \nL 871.504435 98.253803 \nL 871.465358 98.420646 \nL 871.428934 98.588088 \nL 871.39517 98.756087 \nL 871.364076 98.9246 \nL 871.33566 99.093585 \nL 871.309928 99.263 \nL 871.286888 99.432802 \nL 871.266545 99.602947 \nL 871.248903 99.773395 \nL 871.233968 99.9441 \nL 871.221744 100.115022 \nL 871.212233 100.286115 \nL 871.205437 100.457338 \nL 871.201359 100.628648 \nL 871.2 100.8 \nL 871.2 151.2 \nL 871.201359 151.371352 \nL 871.205437 151.542662 \nL 871.212233 151.713885 \nL 871.221744 151.884978 \nL 871.233968 152.0559 \nL 871.248903 152.226605 \nL 871.266545 152.397053 \nL 871.286888 152.567198 \nL 871.309928 152.737 \nL 871.33566 152.906415 \nL 871.364076 153.0754 \nL 871.39517 153.243913 \nL 871.428934 153.411912 \nL 871.465358 153.579354 \nL 871.504435 153.746197 \nL 871.546154 153.912398 \nL 871.590505 154.077917 \nL 871.637476 154.242712 \nL 871.687056 154.40674 \nL 871.739232 154.569961 \nL 871.793991 154.732334 \nL 871.85132 154.893818 \nL 871.911203 155.054371 \nL 871.973626 155.213955 \nL 872.038574 155.372527 \nL 872.106029 155.53005 \nL 872.175974 155.686482 \nL 872.248393 155.841785 \nL 872.323267 155.995919 \nL 872.400577 156.148846 \nL 872.480304 156.300528 \nL 872.562427 156.450925 \nL 872.646926 156.6 \nL 872.733779 156.747716 \nL 872.822965 156.894035 \nL 872.914462 157.038921 \nL 873.008246 157.182337 \nL 873.104293 157.324247 \nL 873.20258 157.464615 \nL 873.303081 157.603406 \nL 873.405772 157.740585 \nL 873.510627 157.876117 \nL 873.617618 158.009969 \nL 873.72672 158.142106 \nL 873.837905 158.272496 \nL 873.951144 158.401105 \nL 874.06641 158.527902 \nL 874.183672 158.652853 \nL 874.302903 158.775929 \nL 874.424071 158.897097 \nL 874.547147 159.016328 \nL 874.672098 159.13359 \nL 874.798895 159.248856 \nL 874.927504 159.362095 \nL 875.057894 159.47328 \nL 875.190031 159.582382 \nL 875.323883 159.689373 \nL 875.459415 159.794228 \nL 875.596594 159.896919 \nL 875.735385 159.99742 \nL 875.875753 160.095707 \nL 876.017663 160.191754 \nL 876.161079 160.285538 \nL 876.305965 160.377035 \nL 876.452284 160.466221 \nL 876.6 160.553074 \nL 876.749075 160.637573 \nL 876.899472 160.719696 \nL 877.051154 160.799423 \nL 877.204081 160.876733 \nL 877.358215 160.951607 \nL 877.513518 161.024026 \nL 877.66995 161.093971 \nL 877.827473 161.161426 \nL 877.986045 161.226374 \nL 878.145629 161.288797 \nL 878.306182 161.34868 \nL 878.467666 161.406009 \nL 878.630039 161.460768 \nL 878.79326 161.512944 \nL 878.957288 161.562524 \nL 879.122083 161.609495 \nL 879.287602 161.653846 \nL 879.453803 161.695565 \nL 879.620646 161.734642 \nL 879.788088 161.771066 \nL 879.956087 161.80483 \nL 880.1246 161.835924 \nL 880.293585 161.86434 \nL 880.463 161.890072 \nL 880.632802 161.913112 \nL 880.802947 161.933455 \nL 880.973395 161.951097 \nL 881.1441 161.966032 \nL 881.315022 161.978256 \nL 881.486115 161.987767 \nL 881.657338 161.994563 \nL 881.828648 161.998641 \nL 882 162 \nL 1004.4 162 \nz\n\" clip-path=\"url(#p810f04aa45)\" style=\"fill: none; stroke: #000000; stroke-width: 2; stroke-linecap: round\"/>\n   </g>\n   <g id=\"patch_7\">\n    <path d=\"M 1069.2 126 \nL 1141.2 54 \nL 1213.2 126 \nL 1141.2 198 \nL 1069.2 126 \nz\n\" clip-path=\"url(#p810f04aa45)\" style=\"fill: none; stroke: #000000; stroke-width: 2; stroke-linecap: round\"/>\n   </g>\n   <g id=\"patch_8\">\n    <path d=\"M 392.4 306 \nL 392.571352 305.998641 \nL 392.742662 305.994563 \nL 392.913885 305.987767 \nL 393.084978 305.978256 \nL 393.2559 305.966032 \nL 393.426605 305.951097 \nL 393.597053 305.933455 \nL 393.767198 305.913112 \nL 393.937 305.890072 \nL 394.106415 305.86434 \nL 394.2754 305.835924 \nL 394.443913 305.80483 \nL 394.611912 305.771066 \nL 394.779354 305.734642 \nL 394.946197 305.695565 \nL 395.112398 305.653846 \nL 395.277917 305.609495 \nL 395.442712 305.562524 \nL 395.60674 305.512944 \nL 395.769961 305.460768 \nL 395.932334 305.406009 \nL 396.093818 305.34868 \nL 396.254371 305.288797 \nL 396.413955 305.226374 \nL 396.572527 305.161426 \nL 396.73005 305.093971 \nL 396.886482 305.024026 \nL 397.041785 304.951607 \nL 397.195919 304.876733 \nL 397.348846 304.799423 \nL 397.500528 304.719696 \nL 397.650925 304.637573 \nL 397.8 304.553074 \nL 397.947716 304.466221 \nL 398.094035 304.377035 \nL 398.238921 304.285538 \nL 398.382337 304.191754 \nL 398.524247 304.095707 \nL 398.664615 303.99742 \nL 398.803406 303.896919 \nL 398.940585 303.794228 \nL 399.076117 303.689373 \nL 399.209969 303.582382 \nL 399.342106 303.47328 \nL 399.472496 303.362095 \nL 399.601105 303.248856 \nL 399.727902 303.13359 \nL 399.852853 303.016328 \nL 399.975929 302.897097 \nL 400.097097 302.775929 \nL 400.216328 302.652853 \nL 400.33359 302.527902 \nL 400.448856 302.401105 \nL 400.562095 302.272496 \nL 400.67328 302.142106 \nL 400.782382 302.009969 \nL 400.889373 301.876117 \nL 400.994228 301.740585 \nL 401.096919 301.603406 \nL 401.19742 301.464615 \nL 401.295707 301.324247 \nL 401.391754 301.182337 \nL 401.485538 301.038921 \nL 401.577035 300.894035 \nL 401.666221 300.747716 \nL 401.753074 300.6 \nL 401.837573 300.450925 \nL 401.919696 300.300528 \nL 401.999423 300.148846 \nL 402.076733 299.995919 \nL 402.151607 299.841785 \nL 402.224026 299.686482 \nL 402.293971 299.53005 \nL 402.361426 299.372527 \nL 402.426374 299.213955 \nL 402.488797 299.054371 \nL 402.54868 298.893818 \nL 402.606009 298.732334 \nL 402.660768 298.569961 \nL 402.712944 298.40674 \nL 402.762524 298.242712 \nL 402.809495 298.077917 \nL 402.853846 297.912398 \nL 402.895565 297.746197 \nL 402.934642 297.579354 \nL 402.971066 297.411912 \nL 403.00483 297.243913 \nL 403.035924 297.0754 \nL 403.06434 296.906415 \nL 403.090072 296.737 \nL 403.113112 296.567198 \nL 403.133455 296.397053 \nL 403.151097 296.226605 \nL 403.166032 296.0559 \nL 403.178256 295.884978 \nL 403.187767 295.713885 \nL 403.194563 295.542662 \nL 403.198641 295.371352 \nL 403.2 295.2 \nL 403.2 244.8 \nL 403.198641 244.628648 \nL 403.194563 244.457338 \nL 403.187767 244.286115 \nL 403.178256 244.115022 \nL 403.166032 243.9441 \nL 403.151097 243.773395 \nL 403.133455 243.602947 \nL 403.113112 243.432802 \nL 403.090072 243.263 \nL 403.06434 243.093585 \nL 403.035924 242.9246 \nL 403.00483 242.756087 \nL 402.971066 242.588088 \nL 402.934642 242.420646 \nL 402.895565 242.253803 \nL 402.853846 242.087602 \nL 402.809495 241.922083 \nL 402.762524 241.757288 \nL 402.712944 241.59326 \nL 402.660768 241.430039 \nL 402.606009 241.267666 \nL 402.54868 241.106182 \nL 402.488797 240.945629 \nL 402.426374 240.786045 \nL 402.361426 240.627473 \nL 402.293971 240.46995 \nL 402.224026 240.313518 \nL 402.151607 240.158215 \nL 402.076733 240.004081 \nL 401.999423 239.851154 \nL 401.919696 239.699472 \nL 401.837573 239.549075 \nL 401.753074 239.4 \nL 401.666221 239.252284 \nL 401.577035 239.105965 \nL 401.485538 238.961079 \nL 401.391754 238.817663 \nL 401.295707 238.675753 \nL 401.19742 238.535385 \nL 401.096919 238.396594 \nL 400.994228 238.259415 \nL 400.889373 238.123883 \nL 400.782382 237.990031 \nL 400.67328 237.857894 \nL 400.562095 237.727504 \nL 400.448856 237.598895 \nL 400.33359 237.472098 \nL 400.216328 237.347147 \nL 400.097097 237.224071 \nL 399.975929 237.102903 \nL 399.852853 236.983672 \nL 399.727902 236.86641 \nL 399.601105 236.751144 \nL 399.472496 236.637905 \nL 399.342106 236.52672 \nL 399.209969 236.417618 \nL 399.076117 236.310627 \nL 398.940585 236.205772 \nL 398.803406 236.103081 \nL 398.664615 236.00258 \nL 398.524247 235.904293 \nL 398.382337 235.808246 \nL 398.238921 235.714462 \nL 398.094035 235.622965 \nL 397.947716 235.533779 \nL 397.8 235.446926 \nL 397.650925 235.362427 \nL 397.500528 235.280304 \nL 397.348846 235.200577 \nL 397.195919 235.123267 \nL 397.041785 235.048393 \nL 396.886482 234.975974 \nL 396.73005 234.906029 \nL 396.572527 234.838574 \nL 396.413955 234.773626 \nL 396.254371 234.711203 \nL 396.093818 234.65132 \nL 395.932334 234.593991 \nL 395.769961 234.539232 \nL 395.60674 234.487056 \nL 395.442712 234.437476 \nL 395.277917 234.390505 \nL 395.112398 234.346154 \nL 394.946197 234.304435 \nL 394.779354 234.265358 \nL 394.611912 234.228934 \nL 394.443913 234.19517 \nL 394.2754 234.164076 \nL 394.106415 234.13566 \nL 393.937 234.109928 \nL 393.767198 234.086888 \nL 393.597053 234.066545 \nL 393.426605 234.048903 \nL 393.2559 234.033968 \nL 393.084978 234.021744 \nL 392.913885 234.012233 \nL 392.742662 234.005437 \nL 392.571352 234.001359 \nL 392.4 234 \nL 270 234 \nL 269.828648 234.001359 \nL 269.657338 234.005437 \nL 269.486115 234.012233 \nL 269.315022 234.021744 \nL 269.1441 234.033968 \nL 268.973395 234.048903 \nL 268.802947 234.066545 \nL 268.632802 234.086888 \nL 268.463 234.109928 \nL 268.293585 234.13566 \nL 268.1246 234.164076 \nL 267.956087 234.19517 \nL 267.788088 234.228934 \nL 267.620646 234.265358 \nL 267.453803 234.304435 \nL 267.287602 234.346154 \nL 267.122083 234.390505 \nL 266.957288 234.437476 \nL 266.79326 234.487056 \nL 266.630039 234.539232 \nL 266.467666 234.593991 \nL 266.306182 234.65132 \nL 266.145629 234.711203 \nL 265.986045 234.773626 \nL 265.827473 234.838574 \nL 265.66995 234.906029 \nL 265.513518 234.975974 \nL 265.358215 235.048393 \nL 265.204081 235.123267 \nL 265.051154 235.200577 \nL 264.899472 235.280304 \nL 264.749075 235.362427 \nL 264.6 235.446926 \nL 264.452284 235.533779 \nL 264.305965 235.622965 \nL 264.161079 235.714462 \nL 264.017663 235.808246 \nL 263.875753 235.904293 \nL 263.735385 236.00258 \nL 263.596594 236.103081 \nL 263.459415 236.205772 \nL 263.323883 236.310627 \nL 263.190031 236.417618 \nL 263.057894 236.52672 \nL 262.927504 236.637905 \nL 262.798895 236.751144 \nL 262.672098 236.86641 \nL 262.547147 236.983672 \nL 262.424071 237.102903 \nL 262.302903 237.224071 \nL 262.183672 237.347147 \nL 262.06641 237.472098 \nL 261.951144 237.598895 \nL 261.837905 237.727504 \nL 261.72672 237.857894 \nL 261.617618 237.990031 \nL 261.510627 238.123883 \nL 261.405772 238.259415 \nL 261.303081 238.396594 \nL 261.20258 238.535385 \nL 261.104293 238.675753 \nL 261.008246 238.817663 \nL 260.914462 238.961079 \nL 260.822965 239.105965 \nL 260.733779 239.252284 \nL 260.646926 239.4 \nL 260.562427 239.549075 \nL 260.480304 239.699472 \nL 260.400577 239.851154 \nL 260.323267 240.004081 \nL 260.248393 240.158215 \nL 260.175974 240.313518 \nL 260.106029 240.46995 \nL 260.038574 240.627473 \nL 259.973626 240.786045 \nL 259.911203 240.945629 \nL 259.85132 241.106182 \nL 259.793991 241.267666 \nL 259.739232 241.430039 \nL 259.687056 241.59326 \nL 259.637476 241.757288 \nL 259.590505 241.922083 \nL 259.546154 242.087602 \nL 259.504435 242.253803 \nL 259.465358 242.420646 \nL 259.428934 242.588088 \nL 259.39517 242.756087 \nL 259.364076 242.9246 \nL 259.33566 243.093585 \nL 259.309928 243.263 \nL 259.286888 243.432802 \nL 259.266545 243.602947 \nL 259.248903 243.773395 \nL 259.233968 243.9441 \nL 259.221744 244.115022 \nL 259.212233 244.286115 \nL 259.205437 244.457338 \nL 259.201359 244.628648 \nL 259.2 244.8 \nL 259.2 295.2 \nL 259.201359 295.371352 \nL 259.205437 295.542662 \nL 259.212233 295.713885 \nL 259.221744 295.884978 \nL 259.233968 296.0559 \nL 259.248903 296.226605 \nL 259.266545 296.397053 \nL 259.286888 296.567198 \nL 259.309928 296.737 \nL 259.33566 296.906415 \nL 259.364076 297.0754 \nL 259.39517 297.243913 \nL 259.428934 297.411912 \nL 259.465358 297.579354 \nL 259.504435 297.746197 \nL 259.546154 297.912398 \nL 259.590505 298.077917 \nL 259.637476 298.242712 \nL 259.687056 298.40674 \nL 259.739232 298.569961 \nL 259.793991 298.732334 \nL 259.85132 298.893818 \nL 259.911203 299.054371 \nL 259.973626 299.213955 \nL 260.038574 299.372527 \nL 260.106029 299.53005 \nL 260.175974 299.686482 \nL 260.248393 299.841785 \nL 260.323267 299.995919 \nL 260.400577 300.148846 \nL 260.480304 300.300528 \nL 260.562427 300.450925 \nL 260.646926 300.6 \nL 260.733779 300.747716 \nL 260.822965 300.894035 \nL 260.914462 301.038921 \nL 261.008246 301.182337 \nL 261.104293 301.324247 \nL 261.20258 301.464615 \nL 261.303081 301.603406 \nL 261.405772 301.740585 \nL 261.510627 301.876117 \nL 261.617618 302.009969 \nL 261.72672 302.142106 \nL 261.837905 302.272496 \nL 261.951144 302.401105 \nL 262.06641 302.527902 \nL 262.183672 302.652853 \nL 262.302903 302.775929 \nL 262.424071 302.897097 \nL 262.547147 303.016328 \nL 262.672098 303.13359 \nL 262.798895 303.248856 \nL 262.927504 303.362095 \nL 263.057894 303.47328 \nL 263.190031 303.582382 \nL 263.323883 303.689373 \nL 263.459415 303.794228 \nL 263.596594 303.896919 \nL 263.735385 303.99742 \nL 263.875753 304.095707 \nL 264.017663 304.191754 \nL 264.161079 304.285538 \nL 264.305965 304.377035 \nL 264.452284 304.466221 \nL 264.6 304.553074 \nL 264.749075 304.637573 \nL 264.899472 304.719696 \nL 265.051154 304.799423 \nL 265.204081 304.876733 \nL 265.358215 304.951607 \nL 265.513518 305.024026 \nL 265.66995 305.093971 \nL 265.827473 305.161426 \nL 265.986045 305.226374 \nL 266.145629 305.288797 \nL 266.306182 305.34868 \nL 266.467666 305.406009 \nL 266.630039 305.460768 \nL 266.79326 305.512944 \nL 266.957288 305.562524 \nL 267.122083 305.609495 \nL 267.287602 305.653846 \nL 267.453803 305.695565 \nL 267.620646 305.734642 \nL 267.788088 305.771066 \nL 267.956087 305.80483 \nL 268.1246 305.835924 \nL 268.293585 305.86434 \nL 268.463 305.890072 \nL 268.632802 305.913112 \nL 268.802947 305.933455 \nL 268.973395 305.951097 \nL 269.1441 305.966032 \nL 269.315022 305.978256 \nL 269.486115 305.987767 \nL 269.657338 305.994563 \nL 269.828648 305.998641 \nL 270 306 \nL 392.4 306 \nz\n\" clip-path=\"url(#p810f04aa45)\" style=\"fill: none; stroke: #000000; stroke-width: 2; stroke-linecap: round\"/>\n   </g>\n   <g id=\"line2d_1\">\n    <path d=\"M 205.2 126 \nL 232.2 126 \nL 250.2 126 \n\" clip-path=\"url(#p810f04aa45)\" style=\"fill: none; stroke: #000000; stroke-width: 2; stroke-linecap: round\"/>\n   </g>\n   <g id=\"patch_9\">\n    <path d=\"M 250.2 123.3 \nL 259.2 126 \nL 250.2 128.7 \nz\n\" clip-path=\"url(#p810f04aa45)\"/>\n   </g>\n   <g id=\"line2d_2\">\n    <path d=\"M 403.2 126 \nL 439.2 126 \nL 466.2 126 \n\" clip-path=\"url(#p810f04aa45)\" style=\"fill: none; stroke: #000000; stroke-width: 2; stroke-linecap: round\"/>\n   </g>\n   <g id=\"patch_10\">\n    <path d=\"M 466.2 123.3 \nL 475.2 126 \nL 466.2 128.7 \nz\n\" clip-path=\"url(#p810f04aa45)\"/>\n   </g>\n   <g id=\"line2d_3\">\n    <path d=\"M 619.2 126 \nL 646.2 126 \nL 664.2 126 \n\" clip-path=\"url(#p810f04aa45)\" style=\"fill: none; stroke: #000000; stroke-width: 2; stroke-linecap: round\"/>\n   </g>\n   <g id=\"patch_11\">\n    <path d=\"M 664.2 123.3 \nL 673.2 126 \nL 664.2 128.7 \nz\n\" clip-path=\"url(#p810f04aa45)\"/>\n   </g>\n   <g id=\"line2d_4\">\n    <path d=\"M 817.2 126 \nL 844.2 126 \nL 862.2 126 \n\" clip-path=\"url(#p810f04aa45)\" style=\"fill: none; stroke: #000000; stroke-width: 2; stroke-linecap: round\"/>\n   </g>\n   <g id=\"patch_12\">\n    <path d=\"M 862.2 123.3 \nL 871.2 126 \nL 862.2 128.7 \nz\n\" clip-path=\"url(#p810f04aa45)\"/>\n   </g>\n   <g id=\"line2d_5\">\n    <path d=\"M 1015.2 126 \nL 1042.2 126 \nL 1060.2 126 \n\" clip-path=\"url(#p810f04aa45)\" style=\"fill: none; stroke: #000000; stroke-width: 2; stroke-linecap: round\"/>\n   </g>\n   <g id=\"patch_13\">\n    <path d=\"M 1060.2 123.3 \nL 1069.2 126 \nL 1060.2 128.7 \nz\n\" clip-path=\"url(#p810f04aa45)\"/>\n   </g>\n   <g id=\"line2d_6\">\n    <path d=\"M 331.2 198 \nL 331.2 216 \nL 331.2 225 \n\" clip-path=\"url(#p810f04aa45)\" style=\"fill: none; stroke: #000000; stroke-width: 2; stroke-linecap: round\"/>\n   </g>\n   <g id=\"patch_14\">\n    <path d=\"M 333.9 225 \nL 331.2 234 \nL 328.5 225 \nz\n\" clip-path=\"url(#p810f04aa45)\"/>\n   </g>\n   <g id=\"line2d_7\">\n    <path d=\"M 403.2 270 \nL 547.2 270 \nL 547.2 171 \n\" clip-path=\"url(#p810f04aa45)\" style=\"fill: none; stroke: #000000; stroke-width: 2; stroke-linecap: round\"/>\n   </g>\n   <g id=\"patch_15\">\n    <path d=\"M 544.5 171 \nL 547.2 162 \nL 549.9 171 \nz\n\" clip-path=\"url(#p810f04aa45)\"/>\n   </g>\n   <g id=\"line2d_8\">\n    <path d=\"M 1141.2 198 \nL 1141.2 234 \nL 745.2 234 \nL 745.2 171 \n\" clip-path=\"url(#p810f04aa45)\" style=\"fill: none; stroke: #000000; stroke-width: 2; stroke-linecap: round\"/>\n   </g>\n   <g id=\"patch_16\">\n    <path d=\"M 742.5 171 \nL 745.2 162 \nL 747.9 171 \nz\n\" clip-path=\"url(#p810f04aa45)\"/>\n   </g>\n   <g id=\"line2d_9\">\n    <path d=\"M 1141.2 54 \nL 1141.2 18 \nL 133.2 18 \nL 133.2 81 \n\" clip-path=\"url(#p810f04aa45)\" style=\"fill: none; stroke: #000000; stroke-width: 2; stroke-linecap: round\"/>\n   </g>\n   <g id=\"patch_17\">\n    <path d=\"M 135.9 81 \nL 133.2 90 \nL 130.5 81 \nz\n\" clip-path=\"url(#p810f04aa45)\"/>\n   </g>\n   <g id=\"text_1\">\n    <!-- Ausgeschaltet -->\n    <g transform=\"translate(93.941211 129.158203) scale(0.125 -0.125)\">\n     <defs>\n      <path id=\"ArialMT-41\" d=\"M -9 0 \nL 1750 4581 \nL 2403 4581 \nL 4278 0 \nL 3588 0 \nL 3053 1388 \nL 1138 1388 \nL 634 0 \nL -9 0 \nz\nM 1313 1881 \nL 2866 1881 \nL 2388 3150 \nQ 2169 3728 2063 4100 \nQ 1975 3659 1816 3225 \nL 1313 1881 \nz\n\" transform=\"scale(0.015625)\"/>\n      <path id=\"ArialMT-75\" d=\"M 2597 0 \nL 2597 488 \nQ 2209 -75 1544 -75 \nQ 1250 -75 995 37 \nQ 741 150 617 320 \nQ 494 491 444 738 \nQ 409 903 409 1263 \nL 409 3319 \nL 972 3319 \nL 972 1478 \nQ 972 1038 1006 884 \nQ 1059 663 1231 536 \nQ 1403 409 1656 409 \nQ 1909 409 2131 539 \nQ 2353 669 2445 892 \nQ 2538 1116 2538 1541 \nL 2538 3319 \nL 3100 3319 \nL 3100 0 \nL 2597 0 \nz\n\" transform=\"scale(0.015625)\"/>\n      <path id=\"ArialMT-73\" d=\"M 197 991 \nL 753 1078 \nQ 800 744 1014 566 \nQ 1228 388 1613 388 \nQ 2000 388 2187 545 \nQ 2375 703 2375 916 \nQ 2375 1106 2209 1216 \nQ 2094 1291 1634 1406 \nQ 1016 1563 777 1677 \nQ 538 1791 414 1992 \nQ 291 2194 291 2438 \nQ 291 2659 392 2848 \nQ 494 3038 669 3163 \nQ 800 3259 1026 3326 \nQ 1253 3394 1513 3394 \nQ 1903 3394 2198 3281 \nQ 2494 3169 2634 2976 \nQ 2775 2784 2828 2463 \nL 2278 2388 \nQ 2241 2644 2061 2787 \nQ 1881 2931 1553 2931 \nQ 1166 2931 1000 2803 \nQ 834 2675 834 2503 \nQ 834 2394 903 2306 \nQ 972 2216 1119 2156 \nQ 1203 2125 1616 2013 \nQ 2213 1853 2448 1751 \nQ 2684 1650 2818 1456 \nQ 2953 1263 2953 975 \nQ 2953 694 2789 445 \nQ 2625 197 2315 61 \nQ 2006 -75 1616 -75 \nQ 969 -75 630 194 \nQ 291 463 197 991 \nz\n\" transform=\"scale(0.015625)\"/>\n      <path id=\"ArialMT-67\" d=\"M 319 -275 \nL 866 -356 \nQ 900 -609 1056 -725 \nQ 1266 -881 1628 -881 \nQ 2019 -881 2231 -725 \nQ 2444 -569 2519 -288 \nQ 2563 -116 2559 434 \nQ 2191 0 1641 0 \nQ 956 0 581 494 \nQ 206 988 206 1678 \nQ 206 2153 378 2554 \nQ 550 2956 876 3175 \nQ 1203 3394 1644 3394 \nQ 2231 3394 2613 2919 \nL 2613 3319 \nL 3131 3319 \nL 3131 450 \nQ 3131 -325 2973 -648 \nQ 2816 -972 2473 -1159 \nQ 2131 -1347 1631 -1347 \nQ 1038 -1347 672 -1080 \nQ 306 -813 319 -275 \nz\nM 784 1719 \nQ 784 1066 1043 766 \nQ 1303 466 1694 466 \nQ 2081 466 2343 764 \nQ 2606 1063 2606 1700 \nQ 2606 2309 2336 2618 \nQ 2066 2928 1684 2928 \nQ 1309 2928 1046 2623 \nQ 784 2319 784 1719 \nz\n\" transform=\"scale(0.015625)\"/>\n      <path id=\"ArialMT-65\" d=\"M 2694 1069 \nL 3275 997 \nQ 3138 488 2766 206 \nQ 2394 -75 1816 -75 \nQ 1088 -75 661 373 \nQ 234 822 234 1631 \nQ 234 2469 665 2931 \nQ 1097 3394 1784 3394 \nQ 2450 3394 2872 2941 \nQ 3294 2488 3294 1666 \nQ 3294 1616 3291 1516 \nL 816 1516 \nQ 847 969 1125 678 \nQ 1403 388 1819 388 \nQ 2128 388 2347 550 \nQ 2566 713 2694 1069 \nz\nM 847 1978 \nL 2700 1978 \nQ 2663 2397 2488 2606 \nQ 2219 2931 1791 2931 \nQ 1403 2931 1139 2672 \nQ 875 2413 847 1978 \nz\n\" transform=\"scale(0.015625)\"/>\n      <path id=\"ArialMT-63\" d=\"M 2588 1216 \nL 3141 1144 \nQ 3050 572 2676 248 \nQ 2303 -75 1759 -75 \nQ 1078 -75 664 370 \nQ 250 816 250 1647 \nQ 250 2184 428 2587 \nQ 606 2991 970 3192 \nQ 1334 3394 1763 3394 \nQ 2303 3394 2647 3120 \nQ 2991 2847 3088 2344 \nL 2541 2259 \nQ 2463 2594 2264 2762 \nQ 2066 2931 1784 2931 \nQ 1359 2931 1093 2626 \nQ 828 2322 828 1663 \nQ 828 994 1084 691 \nQ 1341 388 1753 388 \nQ 2084 388 2306 591 \nQ 2528 794 2588 1216 \nz\n\" transform=\"scale(0.015625)\"/>\n      <path id=\"ArialMT-68\" d=\"M 422 0 \nL 422 4581 \nL 984 4581 \nL 984 2938 \nQ 1378 3394 1978 3394 \nQ 2347 3394 2619 3248 \nQ 2891 3103 3008 2847 \nQ 3125 2591 3125 2103 \nL 3125 0 \nL 2563 0 \nL 2563 2103 \nQ 2563 2525 2380 2717 \nQ 2197 2909 1863 2909 \nQ 1613 2909 1392 2779 \nQ 1172 2650 1078 2428 \nQ 984 2206 984 1816 \nL 984 0 \nL 422 0 \nz\n\" transform=\"scale(0.015625)\"/>\n      <path id=\"ArialMT-61\" d=\"M 2588 409 \nQ 2275 144 1986 34 \nQ 1697 -75 1366 -75 \nQ 819 -75 525 192 \nQ 231 459 231 875 \nQ 231 1119 342 1320 \nQ 453 1522 633 1644 \nQ 813 1766 1038 1828 \nQ 1203 1872 1538 1913 \nQ 2219 1994 2541 2106 \nQ 2544 2222 2544 2253 \nQ 2544 2597 2384 2738 \nQ 2169 2928 1744 2928 \nQ 1347 2928 1158 2789 \nQ 969 2650 878 2297 \nL 328 2372 \nQ 403 2725 575 2942 \nQ 747 3159 1072 3276 \nQ 1397 3394 1825 3394 \nQ 2250 3394 2515 3294 \nQ 2781 3194 2906 3042 \nQ 3031 2891 3081 2659 \nQ 3109 2516 3109 2141 \nL 3109 1391 \nQ 3109 606 3145 398 \nQ 3181 191 3288 0 \nL 2700 0 \nQ 2613 175 2588 409 \nz\nM 2541 1666 \nQ 2234 1541 1622 1453 \nQ 1275 1403 1131 1340 \nQ 988 1278 909 1158 \nQ 831 1038 831 891 \nQ 831 666 1001 516 \nQ 1172 366 1500 366 \nQ 1825 366 2078 508 \nQ 2331 650 2450 897 \nQ 2541 1088 2541 1459 \nL 2541 1666 \nz\n\" transform=\"scale(0.015625)\"/>\n      <path id=\"ArialMT-6c\" d=\"M 409 0 \nL 409 4581 \nL 972 4581 \nL 972 0 \nL 409 0 \nz\n\" transform=\"scale(0.015625)\"/>\n      <path id=\"ArialMT-74\" d=\"M 1650 503 \nL 1731 6 \nQ 1494 -44 1306 -44 \nQ 1000 -44 831 53 \nQ 663 150 594 308 \nQ 525 466 525 972 \nL 525 2881 \nL 113 2881 \nL 113 3319 \nL 525 3319 \nL 525 4141 \nL 1084 4478 \nL 1084 3319 \nL 1650 3319 \nL 1650 2881 \nL 1084 2881 \nL 1084 941 \nQ 1084 700 1114 631 \nQ 1144 563 1211 522 \nQ 1278 481 1403 481 \nQ 1497 481 1650 503 \nz\n\" transform=\"scale(0.015625)\"/>\n     </defs>\n     <use xlink:href=\"#ArialMT-41\"/>\n     <use xlink:href=\"#ArialMT-75\" x=\"66.699219\"/>\n     <use xlink:href=\"#ArialMT-73\" x=\"122.314453\"/>\n     <use xlink:href=\"#ArialMT-67\" x=\"172.314453\"/>\n     <use xlink:href=\"#ArialMT-65\" x=\"227.929688\"/>\n     <use xlink:href=\"#ArialMT-73\" x=\"283.544922\"/>\n     <use xlink:href=\"#ArialMT-63\" x=\"333.544922\"/>\n     <use xlink:href=\"#ArialMT-68\" x=\"383.544922\"/>\n     <use xlink:href=\"#ArialMT-61\" x=\"439.160156\"/>\n     <use xlink:href=\"#ArialMT-6c\" x=\"494.775391\"/>\n     <use xlink:href=\"#ArialMT-74\" x=\"516.992188\"/>\n     <use xlink:href=\"#ArialMT-65\" x=\"544.775391\"/>\n     <use xlink:href=\"#ArialMT-74\" x=\"600.390625\"/>\n    </g>\n   </g>\n   <g id=\"text_2\">\n    <!-- Automatisch -->\n    <g transform=\"translate(335.88 211.627266) scale(0.125 -0.125)\">\n     <defs>\n      <path id=\"ArialMT-6f\" d=\"M 213 1659 \nQ 213 2581 725 3025 \nQ 1153 3394 1769 3394 \nQ 2453 3394 2887 2945 \nQ 3322 2497 3322 1706 \nQ 3322 1066 3130 698 \nQ 2938 331 2570 128 \nQ 2203 -75 1769 -75 \nQ 1072 -75 642 372 \nQ 213 819 213 1659 \nz\nM 791 1659 \nQ 791 1022 1069 705 \nQ 1347 388 1769 388 \nQ 2188 388 2466 706 \nQ 2744 1025 2744 1678 \nQ 2744 2294 2464 2611 \nQ 2184 2928 1769 2928 \nQ 1347 2928 1069 2612 \nQ 791 2297 791 1659 \nz\n\" transform=\"scale(0.015625)\"/>\n      <path id=\"ArialMT-6d\" d=\"M 422 0 \nL 422 3319 \nL 925 3319 \nL 925 2853 \nQ 1081 3097 1340 3245 \nQ 1600 3394 1931 3394 \nQ 2300 3394 2536 3241 \nQ 2772 3088 2869 2813 \nQ 3263 3394 3894 3394 \nQ 4388 3394 4653 3120 \nQ 4919 2847 4919 2278 \nL 4919 0 \nL 4359 0 \nL 4359 2091 \nQ 4359 2428 4304 2576 \nQ 4250 2725 4106 2815 \nQ 3963 2906 3769 2906 \nQ 3419 2906 3187 2673 \nQ 2956 2441 2956 1928 \nL 2956 0 \nL 2394 0 \nL 2394 2156 \nQ 2394 2531 2256 2718 \nQ 2119 2906 1806 2906 \nQ 1569 2906 1367 2781 \nQ 1166 2656 1075 2415 \nQ 984 2175 984 1722 \nL 984 0 \nL 422 0 \nz\n\" transform=\"scale(0.015625)\"/>\n      <path id=\"ArialMT-69\" d=\"M 425 3934 \nL 425 4581 \nL 988 4581 \nL 988 3934 \nL 425 3934 \nz\nM 425 0 \nL 425 3319 \nL 988 3319 \nL 988 0 \nL 425 0 \nz\n\" transform=\"scale(0.015625)\"/>\n     </defs>\n     <use xlink:href=\"#ArialMT-41\"/>\n     <use xlink:href=\"#ArialMT-75\" x=\"66.699219\"/>\n     <use xlink:href=\"#ArialMT-74\" x=\"122.314453\"/>\n     <use xlink:href=\"#ArialMT-6f\" x=\"150.097656\"/>\n     <use xlink:href=\"#ArialMT-6d\" x=\"205.712891\"/>\n     <use xlink:href=\"#ArialMT-61\" x=\"289.013672\"/>\n     <use xlink:href=\"#ArialMT-74\" x=\"344.628906\"/>\n     <use xlink:href=\"#ArialMT-69\" x=\"372.412109\"/>\n     <use xlink:href=\"#ArialMT-73\" x=\"394.628906\"/>\n     <use xlink:href=\"#ArialMT-63\" x=\"444.628906\"/>\n     <use xlink:href=\"#ArialMT-68\" x=\"494.628906\"/>\n    </g>\n   </g>\n   <g id=\"text_3\">\n    <!-- Manuell -->\n    <g transform=\"translate(407.88 118.835625) scale(0.125 -0.125)\">\n     <defs>\n      <path id=\"ArialMT-4d\" d=\"M 475 0 \nL 475 4581 \nL 1388 4581 \nL 2472 1338 \nQ 2622 884 2691 659 \nQ 2769 909 2934 1394 \nL 4031 4581 \nL 4847 4581 \nL 4847 0 \nL 4263 0 \nL 4263 3834 \nL 2931 0 \nL 2384 0 \nL 1059 3900 \nL 1059 0 \nL 475 0 \nz\n\" transform=\"scale(0.015625)\"/>\n      <path id=\"ArialMT-6e\" d=\"M 422 0 \nL 422 3319 \nL 928 3319 \nL 928 2847 \nQ 1294 3394 1984 3394 \nQ 2284 3394 2536 3286 \nQ 2788 3178 2913 3003 \nQ 3038 2828 3088 2588 \nQ 3119 2431 3119 2041 \nL 3119 0 \nL 2556 0 \nL 2556 2019 \nQ 2556 2363 2490 2533 \nQ 2425 2703 2258 2804 \nQ 2091 2906 1866 2906 \nQ 1506 2906 1245 2678 \nQ 984 2450 984 1813 \nL 984 0 \nL 422 0 \nz\n\" transform=\"scale(0.015625)\"/>\n     </defs>\n     <use xlink:href=\"#ArialMT-4d\"/>\n     <use xlink:href=\"#ArialMT-61\" x=\"83.300781\"/>\n     <use xlink:href=\"#ArialMT-6e\" x=\"138.916016\"/>\n     <use xlink:href=\"#ArialMT-75\" x=\"194.53125\"/>\n     <use xlink:href=\"#ArialMT-65\" x=\"250.146484\"/>\n     <use xlink:href=\"#ArialMT-6c\" x=\"305.761719\"/>\n     <use xlink:href=\"#ArialMT-6c\" x=\"327.978516\"/>\n    </g>\n   </g>\n   <g id=\"text_4\">\n    <!-- Art der -->\n    <g transform=\"translate(312.445117 122.514844) scale(0.125 -0.125)\">\n     <defs>\n      <path id=\"ArialMT-72\" d=\"M 416 0 \nL 416 3319 \nL 922 3319 \nL 922 2816 \nQ 1116 3169 1280 3281 \nQ 1444 3394 1641 3394 \nQ 1925 3394 2219 3213 \nL 2025 2691 \nQ 1819 2813 1613 2813 \nQ 1428 2813 1281 2702 \nQ 1134 2591 1072 2394 \nQ 978 2094 978 1738 \nL 978 0 \nL 416 0 \nz\n\" transform=\"scale(0.015625)\"/>\n      <path id=\"ArialMT-20\" transform=\"scale(0.015625)\"/>\n      <path id=\"ArialMT-64\" d=\"M 2575 0 \nL 2575 419 \nQ 2259 -75 1647 -75 \nQ 1250 -75 917 144 \nQ 584 363 401 755 \nQ 219 1147 219 1656 \nQ 219 2153 384 2558 \nQ 550 2963 881 3178 \nQ 1213 3394 1622 3394 \nQ 1922 3394 2156 3267 \nQ 2391 3141 2538 2938 \nL 2538 4581 \nL 3097 4581 \nL 3097 0 \nL 2575 0 \nz\nM 797 1656 \nQ 797 1019 1065 703 \nQ 1334 388 1700 388 \nQ 2069 388 2326 689 \nQ 2584 991 2584 1609 \nQ 2584 2291 2321 2609 \nQ 2059 2928 1675 2928 \nQ 1300 2928 1048 2622 \nQ 797 2316 797 1656 \nz\n\" transform=\"scale(0.015625)\"/>\n     </defs>\n     <use xlink:href=\"#ArialMT-41\"/>\n     <use xlink:href=\"#ArialMT-72\" x=\"66.699219\"/>\n     <use xlink:href=\"#ArialMT-74\" x=\"100\"/>\n     <use xlink:href=\"#ArialMT-20\" x=\"127.783203\"/>\n     <use xlink:href=\"#ArialMT-64\" x=\"155.566406\"/>\n     <use xlink:href=\"#ArialMT-65\" x=\"211.181641\"/>\n     <use xlink:href=\"#ArialMT-72\" x=\"266.796875\"/>\n    </g>\n    <!-- Zündung -->\n    <g transform=\"translate(306.529102 135.801562) scale(0.125 -0.125)\">\n     <defs>\n      <path id=\"ArialMT-5a\" d=\"M 128 0 \nL 128 563 \nL 2475 3497 \nQ 2725 3809 2950 4041 \nL 394 4041 \nL 394 4581 \nL 3675 4581 \nL 3675 4041 \nL 1103 863 \nL 825 541 \nL 3750 541 \nL 3750 0 \nL 128 0 \nz\n\" transform=\"scale(0.015625)\"/>\n      <path id=\"ArialMT-fc\" d=\"M 2597 0 \nL 2597 488 \nQ 2209 -75 1544 -75 \nQ 1250 -75 995 37 \nQ 741 150 617 320 \nQ 494 491 444 738 \nQ 409 903 409 1263 \nL 409 3319 \nL 972 3319 \nL 972 1478 \nQ 972 1038 1006 884 \nQ 1059 663 1231 536 \nQ 1403 409 1656 409 \nQ 1909 409 2131 539 \nQ 2353 669 2445 892 \nQ 2538 1116 2538 1541 \nL 2538 3319 \nL 3100 3319 \nL 3100 0 \nL 2597 0 \nz\nM 879 3969 \nL 879 4609 \nL 1466 4609 \nL 1466 3969 \nL 879 3969 \nz\nM 2044 3969 \nL 2044 4609 \nL 2632 4609 \nL 2632 3969 \nL 2044 3969 \nz\n\" transform=\"scale(0.015625)\"/>\n     </defs>\n     <use xlink:href=\"#ArialMT-5a\"/>\n     <use xlink:href=\"#ArialMT-fc\" x=\"61.083984\"/>\n     <use xlink:href=\"#ArialMT-6e\" x=\"116.699219\"/>\n     <use xlink:href=\"#ArialMT-64\" x=\"172.314453\"/>\n     <use xlink:href=\"#ArialMT-75\" x=\"227.929688\"/>\n     <use xlink:href=\"#ArialMT-6e\" x=\"283.544922\"/>\n     <use xlink:href=\"#ArialMT-67\" x=\"339.160156\"/>\n    </g>\n   </g>\n   <g id=\"text_5\">\n    <!-- Anzünden -->\n    <g transform=\"translate(519.052539 122.620898) scale(0.125 -0.125)\">\n     <defs>\n      <path id=\"ArialMT-7a\" d=\"M 125 0 \nL 125 456 \nL 2238 2881 \nQ 1878 2863 1603 2863 \nL 250 2863 \nL 250 3319 \nL 2963 3319 \nL 2963 2947 \nL 1166 841 \nL 819 456 \nQ 1197 484 1528 484 \nL 3063 484 \nL 3063 0 \nL 125 0 \nz\n\" transform=\"scale(0.015625)\"/>\n     </defs>\n     <use xlink:href=\"#ArialMT-41\"/>\n     <use xlink:href=\"#ArialMT-6e\" x=\"66.699219\"/>\n     <use xlink:href=\"#ArialMT-7a\" x=\"122.314453\"/>\n     <use xlink:href=\"#ArialMT-fc\" x=\"172.314453\"/>\n     <use xlink:href=\"#ArialMT-6e\" x=\"227.929688\"/>\n     <use xlink:href=\"#ArialMT-64\" x=\"283.544922\"/>\n     <use xlink:href=\"#ArialMT-65\" x=\"339.160156\"/>\n     <use xlink:href=\"#ArialMT-6e\" x=\"394.775391\"/>\n    </g>\n    <!-- Anheizen -->\n    <g transform=\"translate(521.139453 135.841992) scale(0.125 -0.125)\">\n     <use xlink:href=\"#ArialMT-41\"/>\n     <use xlink:href=\"#ArialMT-6e\" x=\"66.699219\"/>\n     <use xlink:href=\"#ArialMT-68\" x=\"122.314453\"/>\n     <use xlink:href=\"#ArialMT-65\" x=\"177.929688\"/>\n     <use xlink:href=\"#ArialMT-69\" x=\"233.544922\"/>\n     <use xlink:href=\"#ArialMT-7a\" x=\"255.761719\"/>\n     <use xlink:href=\"#ArialMT-65\" x=\"305.761719\"/>\n     <use xlink:href=\"#ArialMT-6e\" x=\"361.376953\"/>\n    </g>\n   </g>\n   <g id=\"text_6\">\n    <!-- Automatik -->\n    <g transform=\"translate(717.411914 129.231445) scale(0.125 -0.125)\">\n     <defs>\n      <path id=\"ArialMT-6b\" d=\"M 425 0 \nL 425 4581 \nL 988 4581 \nL 988 1969 \nL 2319 3319 \nL 3047 3319 \nL 1778 2088 \nL 3175 0 \nL 2481 0 \nL 1384 1697 \nL 988 1316 \nL 988 0 \nL 425 0 \nz\n\" transform=\"scale(0.015625)\"/>\n     </defs>\n     <use xlink:href=\"#ArialMT-41\"/>\n     <use xlink:href=\"#ArialMT-75\" x=\"66.699219\"/>\n     <use xlink:href=\"#ArialMT-74\" x=\"122.314453\"/>\n     <use xlink:href=\"#ArialMT-6f\" x=\"150.097656\"/>\n     <use xlink:href=\"#ArialMT-6d\" x=\"205.712891\"/>\n     <use xlink:href=\"#ArialMT-61\" x=\"289.013672\"/>\n     <use xlink:href=\"#ArialMT-74\" x=\"344.628906\"/>\n     <use xlink:href=\"#ArialMT-69\" x=\"372.412109\"/>\n     <use xlink:href=\"#ArialMT-6b\" x=\"394.628906\"/>\n    </g>\n   </g>\n   <g id=\"text_7\">\n    <!-- Ausbrennen -->\n    <g transform=\"translate(909.495898 129.231445) scale(0.125 -0.125)\">\n     <defs>\n      <path id=\"ArialMT-62\" d=\"M 941 0 \nL 419 0 \nL 419 4581 \nL 981 4581 \nL 981 2947 \nQ 1338 3394 1891 3394 \nQ 2197 3394 2470 3270 \nQ 2744 3147 2920 2923 \nQ 3097 2700 3197 2384 \nQ 3297 2069 3297 1709 \nQ 3297 856 2875 390 \nQ 2453 -75 1863 -75 \nQ 1275 -75 941 416 \nL 941 0 \nz\nM 934 1684 \nQ 934 1088 1097 822 \nQ 1363 388 1816 388 \nQ 2184 388 2453 708 \nQ 2722 1028 2722 1663 \nQ 2722 2313 2464 2622 \nQ 2206 2931 1841 2931 \nQ 1472 2931 1203 2611 \nQ 934 2291 934 1684 \nz\n\" transform=\"scale(0.015625)\"/>\n     </defs>\n     <use xlink:href=\"#ArialMT-41\"/>\n     <use xlink:href=\"#ArialMT-75\" x=\"66.699219\"/>\n     <use xlink:href=\"#ArialMT-73\" x=\"122.314453\"/>\n     <use xlink:href=\"#ArialMT-62\" x=\"172.314453\"/>\n     <use xlink:href=\"#ArialMT-72\" x=\"227.929688\"/>\n     <use xlink:href=\"#ArialMT-65\" x=\"261.230469\"/>\n     <use xlink:href=\"#ArialMT-6e\" x=\"316.845703\"/>\n     <use xlink:href=\"#ArialMT-6e\" x=\"372.460938\"/>\n     <use xlink:href=\"#ArialMT-65\" x=\"428.076172\"/>\n     <use xlink:href=\"#ArialMT-6e\" x=\"483.691406\"/>\n    </g>\n   </g>\n   <g id=\"text_8\">\n    <!-- Nein -->\n    <g transform=\"translate(1145.88 46.835625) scale(0.125 -0.125)\">\n     <defs>\n      <path id=\"ArialMT-4e\" d=\"M 488 0 \nL 488 4581 \nL 1109 4581 \nL 3516 984 \nL 3516 4581 \nL 4097 4581 \nL 4097 0 \nL 3475 0 \nL 1069 3600 \nL 1069 0 \nL 488 0 \nz\n\" transform=\"scale(0.015625)\"/>\n     </defs>\n     <use xlink:href=\"#ArialMT-4e\"/>\n     <use xlink:href=\"#ArialMT-65\" x=\"72.216797\"/>\n     <use xlink:href=\"#ArialMT-69\" x=\"127.832031\"/>\n     <use xlink:href=\"#ArialMT-6e\" x=\"150.048828\"/>\n    </g>\n   </g>\n   <g id=\"text_9\">\n    <!-- Ja -->\n    <g transform=\"translate(1145.88 211.627266) scale(0.125 -0.125)\">\n     <defs>\n      <path id=\"ArialMT-4a\" d=\"M 184 1300 \nL 731 1375 \nQ 753 850 928 656 \nQ 1103 463 1413 463 \nQ 1641 463 1806 567 \nQ 1972 672 2034 851 \nQ 2097 1031 2097 1425 \nL 2097 4581 \nL 2703 4581 \nL 2703 1459 \nQ 2703 884 2564 568 \nQ 2425 253 2123 87 \nQ 1822 -78 1416 -78 \nQ 813 -78 492 269 \nQ 172 616 184 1300 \nz\n\" transform=\"scale(0.015625)\"/>\n     </defs>\n     <use xlink:href=\"#ArialMT-4a\"/>\n     <use xlink:href=\"#ArialMT-61\" x=\"50\"/>\n    </g>\n   </g>\n   <g id=\"text_10\">\n    <!-- Holz -->\n    <g transform=\"translate(1128.69707 122.547656) scale(0.125 -0.125)\">\n     <defs>\n      <path id=\"ArialMT-48\" d=\"M 513 0 \nL 513 4581 \nL 1119 4581 \nL 1119 2700 \nL 3500 2700 \nL 3500 4581 \nL 4106 4581 \nL 4106 0 \nL 3500 0 \nL 3500 2159 \nL 1119 2159 \nL 1119 0 \nL 513 0 \nz\n\" transform=\"scale(0.015625)\"/>\n     </defs>\n     <use xlink:href=\"#ArialMT-48\"/>\n     <use xlink:href=\"#ArialMT-6f\" x=\"72.216797\"/>\n     <use xlink:href=\"#ArialMT-6c\" x=\"127.832031\"/>\n     <use xlink:href=\"#ArialMT-7a\" x=\"150.048828\"/>\n    </g>\n    <!-- nachgelegt -->\n    <g transform=\"translate(1110.620898 135.76875) scale(0.125 -0.125)\">\n     <use xlink:href=\"#ArialMT-6e\"/>\n     <use xlink:href=\"#ArialMT-61\" x=\"55.615234\"/>\n     <use xlink:href=\"#ArialMT-63\" x=\"111.230469\"/>\n     <use xlink:href=\"#ArialMT-68\" x=\"161.230469\"/>\n     <use xlink:href=\"#ArialMT-67\" x=\"216.845703\"/>\n     <use xlink:href=\"#ArialMT-65\" x=\"272.460938\"/>\n     <use xlink:href=\"#ArialMT-6c\" x=\"328.076172\"/>\n     <use xlink:href=\"#ArialMT-65\" x=\"350.292969\"/>\n     <use xlink:href=\"#ArialMT-67\" x=\"405.908203\"/>\n     <use xlink:href=\"#ArialMT-74\" x=\"461.523438\"/>\n    </g>\n   </g>\n   <g id=\"text_11\">\n    <!-- Zündung bereit -->\n    <g transform=\"translate(289.159961 273.185547) scale(0.125 -0.125)\">\n     <use xlink:href=\"#ArialMT-5a\"/>\n     <use xlink:href=\"#ArialMT-fc\" x=\"61.083984\"/>\n     <use xlink:href=\"#ArialMT-6e\" x=\"116.699219\"/>\n     <use xlink:href=\"#ArialMT-64\" x=\"172.314453\"/>\n     <use xlink:href=\"#ArialMT-75\" x=\"227.929688\"/>\n     <use xlink:href=\"#ArialMT-6e\" x=\"283.544922\"/>\n     <use xlink:href=\"#ArialMT-67\" x=\"339.160156\"/>\n     <use xlink:href=\"#ArialMT-20\" x=\"394.775391\"/>\n     <use xlink:href=\"#ArialMT-62\" x=\"422.558594\"/>\n     <use xlink:href=\"#ArialMT-65\" x=\"478.173828\"/>\n     <use xlink:href=\"#ArialMT-72\" x=\"533.789062\"/>\n     <use xlink:href=\"#ArialMT-65\" x=\"567.089844\"/>\n     <use xlink:href=\"#ArialMT-69\" x=\"622.705078\"/>\n     <use xlink:href=\"#ArialMT-74\" x=\"644.921875\"/>\n    </g>\n   </g>\n  </g>\n </g>\n <defs>\n  <clipPath id=\"p810f04aa45\">\n   <rect x=\"3.6\" y=\"3.6\" width=\"1267.2\" height=\"316.8\"/>\n  </clipPath>\n </defs>\n</svg>\n",
      "image/png": "[encoded data removed]"
     },
     "metadata": {},
     "output_type": "display_data"
    }
   ],
   "source": [
    "import schemdraw\n",
    "from schemdraw.flow import *\n",
    "\n",
    "with schemdraw.Drawing() as d:\n",
    "    #Ausgeschaltet\n",
    "    d+= (Ausgeschaltet := RoundBox(w = 4).label(\"Ausgeschaltet\"))\n",
    "    d+= Arrow().length(d.unit/2)\n",
    "    \n",
    "    #Manuelle oder automatische Zündung\n",
    "    d+= (decision := Decision(w = 4, h= 4,\n",
    "                       S = \"Automatisch\",\n",
    "                        E = \"Manuell\").label(\"Art der\\nZündung\"))\n",
    "    \n",
    "    #Wenn manuell\n",
    "    d+= Arrow().length(d.unit/1.5)\n",
    "    d+= (Manuell := RoundBox(w = 4).label(\"Anzünden\\nAnheizen\"))\n",
    "    d+= Arrow().length(d.unit/2)\n",
    "    \n",
    "    #Automatik \n",
    "    d+= (Automatik := RoundBox(w = 4).label(\"Automatik\"))\n",
    "    d+= Arrow().length(d.unit/2)\n",
    "    \n",
    "    #Ausbrennen \n",
    "    d+= (Ausbrennen := RoundBox(w = 4).label(\"Ausbrennen\"))\n",
    "    d+= Arrow().length(d.unit/2)\n",
    "    \n",
    "    #Holz nachgelegt\n",
    "    d+= (decision2 := Decision(w = 4, h= 4,\n",
    "                       N = \"Nein\",\n",
    "                        S = \"Ja\").label(\"Holz\\nnachgelegt\"))\n",
    "    \n",
    "    #Wenn automatisch\n",
    "    d+= Arrow().down(d.unit).at(decision.S).length(d.unit/3)\n",
    "    d+= (Automatisch := RoundBox(w = 4).label(\"Zündung bereit\"))\n",
    "    d+= Wire('-|', arrow='->').at(Automatisch.E).to(Manuell.S)\n",
    "    \n",
    "    #Wenn Holz nachgelegt\n",
    "    d+= Wire('n', k=-1, arrow='->').at(decision2.S).to(Automatik.S)\n",
    "    \n",
    "    #Wenn kein Holz nachgelegt\n",
    "    d+= Wire('n', k=1, arrow='->').at(decision2.N).to(Ausgeschaltet.N)\n"
   ],
   "metadata": {
    "collapsed": false,
    "ExecuteTime": {
     "end_time": "2023-09-03T19:47:23.042655Z",
     "start_time": "2023-09-03T19:47:22.907649Z"
    }
   },
   "id": "f5d489badca036ad"
  },
  {
   "cell_type": "markdown",
   "source": [
    "# Datenverständnis\n",
    "\n",
    "Die Arbeit baut im Wesentlichen auf zwei Datenquellen auf.\n",
    "Der Holzofen zeichnet Daten auf und speichert diese auf einer SD-Karte. Alle 10 Sekunden werden insgesamt 62 Werte erfasst. Daten für den Holzofen, der hier betrachtet werden soll, liegen seit dem 12.11.2019 um 15:50 Uhr vor. Die letzten Daten wurden am 31.08.2023 um 11:49 Uhr abgerufen. Nachfüllintervalle variieren zwischen 2-3 mal täglich im Winter und mehrmals wöchentlich im Sommer. Damit ergeben sich bereits über 1.000 aufgezeichnete Nachfüllungen, aus denen das Modell gespeist werden kann.\n",
    "\n",
    "Der Ofen liefert unter anderem:\n",
    "* Temperaturdaten\n",
    "    * Außentemperatur (über externen Sensor)\n",
    "    * Kesseltemperatur\n",
    "    * Brennraumtemperatur\n",
    "    * Vorlauftemperatur\n",
    "    * Puffertemperatur\n",
    "* Daten zu Primär- und Sekundärluftzufuhr\n",
    "* Pufferdaten\n",
    "    * Ladegrade\n",
    "    * Energie nutzbar/aufnehmbar\n",
    "* Aktueller Betriebszustand\n",
    "* Nachlegemenge und -Zeitpunkt\n",
    "* Betriebsstunden\n",
    "\n",
    "Als zweite Datenquelle werden externe Wetterdaten verwendet. In dieser Arbeit werden dazu die Wetterdaten von Meteostat über eine API abgerufen. Die Daten werden ursprünglich vom Deutschen Wetterdienst erhoben. Die API liefert stündliche Daten. Für das Modell werden die Daten in dem Zeitraum abgerufen, für den Ofendaten vorliegen. Die API liefert eine Vielzahl an Daten, für dieses Modell werden allerdings nur Außentemperatur, Windgeschwindigkeit und -richtung verwendet.\n",
    "\n",
    "[Wetterrückblick und Klimadaten](https://meteostat.net/de/)"
   ],
   "metadata": {
    "collapsed": false
   },
   "id": "fdc09e1bbb2e953b"
  }
 ],
 "metadata": {
  "kernelspec": {
   "display_name": "Python 3",
   "language": "python",
   "name": "python3"
  },
  "language_info": {
   "codemirror_mode": {
    "name": "ipython",
    "version": 2
   },
   "file_extension": ".py",
   "mimetype": "text/x-python",
   "name": "python",
   "nbconvert_exporter": "python",
   "pygments_lexer": "ipython2",
   "version": "2.7.6"
  }
 },
 "nbformat": 4,
 "nbformat_minor": 5
}
