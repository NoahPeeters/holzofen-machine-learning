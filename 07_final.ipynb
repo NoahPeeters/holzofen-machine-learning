{
 "cells": [
  {
   "cell_type": "markdown",
   "source": [
    "# Zusammenfassung \n",
    "\n",
    "In dieser Arbeit wurde versucht ein Modell zu trainieren, um den spätesten Nachfüllzeitpunkt eines Holzvergasers vorherzusagen. Das Ziel dabei ist es, eine bessere Vorhersage leisten zu können als der Ofen es selbst bereits macht. \n",
    "\n",
    "Dafür wurde zunächst als Einstieg in das Thema ein Überblick über das Domänenwissen gegeben.\n",
    "Anschließend wurden die Ofendaten eingelesen und aufbereitet. Dabei wurde die Zielgröße ermittelt und Wetterdaten hinzugefügt.\n",
    "Danach wurde in der explorativen Datenanalyse ein inhaltlicher Überblick über die Daten gegeben und es konnten bereits erste Erkenntnisse für die Modellerstellung gesammelt werden.\n",
    "Bevor die ersten Modelle trainiert werden konnten, wurden einige grundlegende Entscheidungen bezüglich der Bewertung von Modellen getroffen une begründet. Dies ist notwendig, um die Modelle miteinander vergleichen zu können.\n",
    "Anschließend konnten die ersten Modelle trainiert werden. Zunächst wurden einige Modelle mit deren Standardparametern trainiert und verglichen. Von diesen Modellen wurden die besten beiden (`XGBoost` und `RandomForest`) vorausgewählt und mithilfe von Hyperparameter Tuning optimiert.\n",
    "\n",
    "Bereits vor dem Hyperparameter Tuning waren einige Modelle deutlich besser als die Vorhersage des Ofens. Durch das Hyperparameter Tuning konnten noch weitere Verbesserungen erreicht werden.\n",
    "\n",
    "Schlussendlich hat das XGBoost Modell mit den entsprechenden Parametern die beste Bewertung bekommen und kann für zukünftige Vorhersagen verwendet werden."
   ],
   "metadata": {
    "collapsed": false
   },
   "id": "1db412d5b1360e42"
  },
  {
   "cell_type": "markdown",
   "source": [
    "## Ausblick\n",
    "\n",
    "Die in dieser Arbeit erstellen Modelle konnten die Vorhersagequalität bereits signifikant verbessern. Dennoch gibt es weiterhin die Möglichkeit, noch genauere Vorhersagen zu machen.\n",
    "Dafür können zum Beispiel die hier verwendeten klassischen Modelle weiter verbessert werden. Das Hyperparameter Tuning kann auf weitere Parameter ausgeweitet werden. Auch können Modelle optimiert werden, die bei den Standardparametern noch nicht gut waren und deshalb in dieser Arbeit nicht weiter optimiert wurden.\n",
    "\n",
    "Als weiterer Schritt könnten, weitere relevante Features identifiziert werden, die die Vorhersagequalität verbessern.\n",
    "\n",
    "Zuletzt kann auch versucht werden, das Problem mit neuronalen Netzen zu lösen. Dabei können zum Beispiel LSTM-Netze verwendet werden, die    "
   ],
   "metadata": {
    "collapsed": false
   },
   "id": "c267f7a99af523c8"
  }
 ],
 "metadata": {
  "kernelspec": {
   "display_name": "Python 3",
   "language": "python",
   "name": "python3"
  },
  "language_info": {
   "codemirror_mode": {
    "name": "ipython",
    "version": 2
   },
   "file_extension": ".py",
   "mimetype": "text/x-python",
   "name": "python",
   "nbconvert_exporter": "python",
   "pygments_lexer": "ipython2",
   "version": "2.7.6"
  }
 },
 "nbformat": 4,
 "nbformat_minor": 5
}
